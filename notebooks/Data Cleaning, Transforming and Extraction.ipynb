{
 "cells": [
  {
   "cell_type": "markdown",
   "source": [
    "**Data Cleaning is one of the essential step towards making real meaning of any dataset. It makes the data ready for modelling and analysis**.\n",
    "\n",
    "Here you will be learning how to do data cleaning."
   ],
   "metadata": {}
  },
  {
   "cell_type": "code",
   "execution_count": 1,
   "source": [
    "import pandas as pd\r\n",
    "import numpy as np"
   ],
   "outputs": [],
   "metadata": {}
  },
  {
   "cell_type": "code",
   "execution_count": 5,
   "source": [
    "import warnings\r\n",
    "warnings.filterwarnings('ignore')\r\n",
    "pd.set_option('max_column', None)\r\n",
    "db = pd.read_csv('../data/Week1_challenge_data_source(CSV).csv', na_values=['?', None])\r\n",
    "db.head()"
   ],
   "outputs": [
    {
     "output_type": "execute_result",
     "data": {
      "text/plain": [
       "      Bearer Id            Start  Start ms              End  End ms  \\\n",
       "0  1.311448e+19   4/4/2019 12:01     770.0  4/25/2019 14:35   662.0   \n",
       "1  1.311448e+19   4/9/2019 13:04     235.0   4/25/2019 8:15   606.0   \n",
       "2  1.311448e+19   4/9/2019 17:42       1.0  4/25/2019 11:58   652.0   \n",
       "3  1.311448e+19   4/10/2019 0:31     486.0   4/25/2019 7:36   171.0   \n",
       "4  1.311448e+19  4/12/2019 20:10     565.0  4/25/2019 10:40   954.0   \n",
       "\n",
       "   Dur. (ms)          IMSI  MSISDN/Number          IMEI  \\\n",
       "0  1823652.0  2.082014e+14   3.366496e+10  3.552121e+13   \n",
       "1  1365104.0  2.082019e+14   3.368185e+10  3.579401e+13   \n",
       "2  1361762.0  2.082003e+14   3.376063e+10  3.528151e+13   \n",
       "3  1321509.0  2.082014e+14   3.375034e+10  3.535661e+13   \n",
       "4  1089009.0  2.082014e+14   3.369980e+10  3.540701e+13   \n",
       "\n",
       "      Last Location Name  Avg RTT DL (ms)  Avg RTT UL (ms)  \\\n",
       "0  9.16456699548519E+015             42.0              5.0   \n",
       "1                L77566A             65.0              5.0   \n",
       "2                D42335A              NaN              NaN   \n",
       "3                T21824A              NaN              NaN   \n",
       "4                D88865A              NaN              NaN   \n",
       "\n",
       "   Avg Bearer TP DL (kbps)  Avg Bearer TP UL (kbps)  \\\n",
       "0                     23.0                     44.0   \n",
       "1                     16.0                     26.0   \n",
       "2                      6.0                      9.0   \n",
       "3                     44.0                     44.0   \n",
       "4                      6.0                      9.0   \n",
       "\n",
       "   TCP DL Retrans. Vol (Bytes)  TCP UL Retrans. Vol (Bytes)  \\\n",
       "0                          NaN                          NaN   \n",
       "1                          NaN                          NaN   \n",
       "2                          NaN                          NaN   \n",
       "3                          NaN                          NaN   \n",
       "4                          NaN                          NaN   \n",
       "\n",
       "   DL TP < 50 Kbps (%)  50 Kbps < DL TP < 250 Kbps (%)  \\\n",
       "0                100.0                             0.0   \n",
       "1                100.0                             0.0   \n",
       "2                100.0                             0.0   \n",
       "3                100.0                             0.0   \n",
       "4                100.0                             0.0   \n",
       "\n",
       "   250 Kbps < DL TP < 1 Mbps (%)  DL TP > 1 Mbps (%)  UL TP < 10 Kbps (%)  \\\n",
       "0                            0.0                 0.0                100.0   \n",
       "1                            0.0                 0.0                100.0   \n",
       "2                            0.0                 0.0                100.0   \n",
       "3                            0.0                 0.0                100.0   \n",
       "4                            0.0                 0.0                100.0   \n",
       "\n",
       "   10 Kbps < UL TP < 50 Kbps (%)  50 Kbps < UL TP < 300 Kbps (%)  \\\n",
       "0                            0.0                             0.0   \n",
       "1                            0.0                             0.0   \n",
       "2                            0.0                             0.0   \n",
       "3                            0.0                             0.0   \n",
       "4                            0.0                             0.0   \n",
       "\n",
       "   UL TP > 300 Kbps (%)  HTTP DL (Bytes)  HTTP UL (Bytes)  \\\n",
       "0                   0.0              NaN              NaN   \n",
       "1                   0.0              NaN              NaN   \n",
       "2                   0.0              NaN              NaN   \n",
       "3                   0.0              NaN              NaN   \n",
       "4                   0.0              NaN              NaN   \n",
       "\n",
       "   Activity Duration DL (ms)  Activity Duration UL (ms)   Dur. (ms).1  \\\n",
       "0                    37624.0                    38787.0  1.823653e+09   \n",
       "1                      168.0                     3560.0  1.365104e+09   \n",
       "2                        0.0                        0.0  1.361763e+09   \n",
       "3                     3330.0                    37882.0  1.321510e+09   \n",
       "4                        0.0                        0.0  1.089009e+09   \n",
       "\n",
       "  Handset Manufacturer                 Handset Type  \\\n",
       "0              Samsung   Samsung Galaxy A5 Sm-A520F   \n",
       "1              Samsung  Samsung Galaxy J5 (Sm-J530)   \n",
       "2              Samsung     Samsung Galaxy A8 (2018)   \n",
       "3            undefined                    undefined   \n",
       "4              Samsung             Samsung Sm-G390F   \n",
       "\n",
       "   Nb of sec with 125000B < Vol DL  Nb of sec with 1250B < Vol UL < 6250B  \\\n",
       "0                              NaN                                    NaN   \n",
       "1                              NaN                                    NaN   \n",
       "2                              NaN                                    NaN   \n",
       "3                              NaN                                    NaN   \n",
       "4                              NaN                                    NaN   \n",
       "\n",
       "   Nb of sec with 31250B < Vol DL < 125000B  Nb of sec with 37500B < Vol UL  \\\n",
       "0                                       NaN                             NaN   \n",
       "1                                       NaN                             NaN   \n",
       "2                                       NaN                             NaN   \n",
       "3                                       NaN                             NaN   \n",
       "4                                       NaN                             NaN   \n",
       "\n",
       "   Nb of sec with 6250B < Vol DL < 31250B  \\\n",
       "0                                     NaN   \n",
       "1                                     NaN   \n",
       "2                                     NaN   \n",
       "3                                     NaN   \n",
       "4                                     NaN   \n",
       "\n",
       "   Nb of sec with 6250B < Vol UL < 37500B  Nb of sec with Vol DL < 6250B  \\\n",
       "0                                     NaN                          213.0   \n",
       "1                                     NaN                          971.0   \n",
       "2                                     NaN                          751.0   \n",
       "3                                     NaN                           17.0   \n",
       "4                                     NaN                          607.0   \n",
       "\n",
       "   Nb of sec with Vol UL < 1250B  Social Media DL (Bytes)  \\\n",
       "0                          214.0                1545765.0   \n",
       "1                         1022.0                1926113.0   \n",
       "2                          695.0                1684053.0   \n",
       "3                          207.0                 644121.0   \n",
       "4                          604.0                 862600.0   \n",
       "\n",
       "   Social Media UL (Bytes)  Google DL (Bytes)  Google UL (Bytes)  \\\n",
       "0                  24420.0          1634479.0          1271433.0   \n",
       "1                   7165.0          3493924.0           920172.0   \n",
       "2                  42224.0          8535055.0          1694064.0   \n",
       "3                  13372.0          9023734.0          2788027.0   \n",
       "4                  50188.0          6248284.0          1500559.0   \n",
       "\n",
       "   Email DL (Bytes)  Email UL (Bytes)  Youtube DL (Bytes)  Youtube UL (Bytes)  \\\n",
       "0         3563542.0          137762.0          15854611.0           2501332.0   \n",
       "1          629046.0          308339.0          20247395.0          19111729.0   \n",
       "2         2690151.0          672973.0          19725661.0          14699576.0   \n",
       "3         1439754.0          631229.0          21388122.0          15146643.0   \n",
       "4         1936496.0          173853.0          15259380.0          18962873.0   \n",
       "\n",
       "   Netflix DL (Bytes)  Netflix UL (Bytes)  Gaming DL (Bytes)  \\\n",
       "0           8198936.0           9656251.0        278082303.0   \n",
       "1          18338413.0          17227132.0        608750074.0   \n",
       "2          17587794.0           6163408.0        229584621.0   \n",
       "3          13994646.0           1097942.0        799538153.0   \n",
       "4          17124581.0            415218.0        527707248.0   \n",
       "\n",
       "   Gaming UL (Bytes)  Other DL (Bytes)  Other UL (Bytes)  Total UL (Bytes)  \\\n",
       "0         14344150.0       171744450.0         8814393.0        36749741.0   \n",
       "1          1170709.0       526904238.0        15055145.0        53800391.0   \n",
       "2           395630.0       410692588.0         4215763.0        27883638.0   \n",
       "3         10849722.0       749039933.0        12797283.0        43324218.0   \n",
       "4          3529801.0       550709500.0        13910322.0        38542814.0   \n",
       "\n",
       "   Total DL (Bytes)  \n",
       "0       308879636.0  \n",
       "1       653384965.0  \n",
       "2       279807335.0  \n",
       "3       846028530.0  \n",
       "4       569138589.0  "
      ],
      "text/html": [
       "<div>\n",
       "<style scoped>\n",
       "    .dataframe tbody tr th:only-of-type {\n",
       "        vertical-align: middle;\n",
       "    }\n",
       "\n",
       "    .dataframe tbody tr th {\n",
       "        vertical-align: top;\n",
       "    }\n",
       "\n",
       "    .dataframe thead th {\n",
       "        text-align: right;\n",
       "    }\n",
       "</style>\n",
       "<table border=\"1\" class=\"dataframe\">\n",
       "  <thead>\n",
       "    <tr style=\"text-align: right;\">\n",
       "      <th></th>\n",
       "      <th>Bearer Id</th>\n",
       "      <th>Start</th>\n",
       "      <th>Start ms</th>\n",
       "      <th>End</th>\n",
       "      <th>End ms</th>\n",
       "      <th>Dur. (ms)</th>\n",
       "      <th>IMSI</th>\n",
       "      <th>MSISDN/Number</th>\n",
       "      <th>IMEI</th>\n",
       "      <th>Last Location Name</th>\n",
       "      <th>Avg RTT DL (ms)</th>\n",
       "      <th>Avg RTT UL (ms)</th>\n",
       "      <th>Avg Bearer TP DL (kbps)</th>\n",
       "      <th>Avg Bearer TP UL (kbps)</th>\n",
       "      <th>TCP DL Retrans. Vol (Bytes)</th>\n",
       "      <th>TCP UL Retrans. Vol (Bytes)</th>\n",
       "      <th>DL TP &lt; 50 Kbps (%)</th>\n",
       "      <th>50 Kbps &lt; DL TP &lt; 250 Kbps (%)</th>\n",
       "      <th>250 Kbps &lt; DL TP &lt; 1 Mbps (%)</th>\n",
       "      <th>DL TP &gt; 1 Mbps (%)</th>\n",
       "      <th>UL TP &lt; 10 Kbps (%)</th>\n",
       "      <th>10 Kbps &lt; UL TP &lt; 50 Kbps (%)</th>\n",
       "      <th>50 Kbps &lt; UL TP &lt; 300 Kbps (%)</th>\n",
       "      <th>UL TP &gt; 300 Kbps (%)</th>\n",
       "      <th>HTTP DL (Bytes)</th>\n",
       "      <th>HTTP UL (Bytes)</th>\n",
       "      <th>Activity Duration DL (ms)</th>\n",
       "      <th>Activity Duration UL (ms)</th>\n",
       "      <th>Dur. (ms).1</th>\n",
       "      <th>Handset Manufacturer</th>\n",
       "      <th>Handset Type</th>\n",
       "      <th>Nb of sec with 125000B &lt; Vol DL</th>\n",
       "      <th>Nb of sec with 1250B &lt; Vol UL &lt; 6250B</th>\n",
       "      <th>Nb of sec with 31250B &lt; Vol DL &lt; 125000B</th>\n",
       "      <th>Nb of sec with 37500B &lt; Vol UL</th>\n",
       "      <th>Nb of sec with 6250B &lt; Vol DL &lt; 31250B</th>\n",
       "      <th>Nb of sec with 6250B &lt; Vol UL &lt; 37500B</th>\n",
       "      <th>Nb of sec with Vol DL &lt; 6250B</th>\n",
       "      <th>Nb of sec with Vol UL &lt; 1250B</th>\n",
       "      <th>Social Media DL (Bytes)</th>\n",
       "      <th>Social Media UL (Bytes)</th>\n",
       "      <th>Google DL (Bytes)</th>\n",
       "      <th>Google UL (Bytes)</th>\n",
       "      <th>Email DL (Bytes)</th>\n",
       "      <th>Email UL (Bytes)</th>\n",
       "      <th>Youtube DL (Bytes)</th>\n",
       "      <th>Youtube UL (Bytes)</th>\n",
       "      <th>Netflix DL (Bytes)</th>\n",
       "      <th>Netflix UL (Bytes)</th>\n",
       "      <th>Gaming DL (Bytes)</th>\n",
       "      <th>Gaming UL (Bytes)</th>\n",
       "      <th>Other DL (Bytes)</th>\n",
       "      <th>Other UL (Bytes)</th>\n",
       "      <th>Total UL (Bytes)</th>\n",
       "      <th>Total DL (Bytes)</th>\n",
       "    </tr>\n",
       "  </thead>\n",
       "  <tbody>\n",
       "    <tr>\n",
       "      <th>0</th>\n",
       "      <td>1.311448e+19</td>\n",
       "      <td>4/4/2019 12:01</td>\n",
       "      <td>770.0</td>\n",
       "      <td>4/25/2019 14:35</td>\n",
       "      <td>662.0</td>\n",
       "      <td>1823652.0</td>\n",
       "      <td>2.082014e+14</td>\n",
       "      <td>3.366496e+10</td>\n",
       "      <td>3.552121e+13</td>\n",
       "      <td>9.16456699548519E+015</td>\n",
       "      <td>42.0</td>\n",
       "      <td>5.0</td>\n",
       "      <td>23.0</td>\n",
       "      <td>44.0</td>\n",
       "      <td>NaN</td>\n",
       "      <td>NaN</td>\n",
       "      <td>100.0</td>\n",
       "      <td>0.0</td>\n",
       "      <td>0.0</td>\n",
       "      <td>0.0</td>\n",
       "      <td>100.0</td>\n",
       "      <td>0.0</td>\n",
       "      <td>0.0</td>\n",
       "      <td>0.0</td>\n",
       "      <td>NaN</td>\n",
       "      <td>NaN</td>\n",
       "      <td>37624.0</td>\n",
       "      <td>38787.0</td>\n",
       "      <td>1.823653e+09</td>\n",
       "      <td>Samsung</td>\n",
       "      <td>Samsung Galaxy A5 Sm-A520F</td>\n",
       "      <td>NaN</td>\n",
       "      <td>NaN</td>\n",
       "      <td>NaN</td>\n",
       "      <td>NaN</td>\n",
       "      <td>NaN</td>\n",
       "      <td>NaN</td>\n",
       "      <td>213.0</td>\n",
       "      <td>214.0</td>\n",
       "      <td>1545765.0</td>\n",
       "      <td>24420.0</td>\n",
       "      <td>1634479.0</td>\n",
       "      <td>1271433.0</td>\n",
       "      <td>3563542.0</td>\n",
       "      <td>137762.0</td>\n",
       "      <td>15854611.0</td>\n",
       "      <td>2501332.0</td>\n",
       "      <td>8198936.0</td>\n",
       "      <td>9656251.0</td>\n",
       "      <td>278082303.0</td>\n",
       "      <td>14344150.0</td>\n",
       "      <td>171744450.0</td>\n",
       "      <td>8814393.0</td>\n",
       "      <td>36749741.0</td>\n",
       "      <td>308879636.0</td>\n",
       "    </tr>\n",
       "    <tr>\n",
       "      <th>1</th>\n",
       "      <td>1.311448e+19</td>\n",
       "      <td>4/9/2019 13:04</td>\n",
       "      <td>235.0</td>\n",
       "      <td>4/25/2019 8:15</td>\n",
       "      <td>606.0</td>\n",
       "      <td>1365104.0</td>\n",
       "      <td>2.082019e+14</td>\n",
       "      <td>3.368185e+10</td>\n",
       "      <td>3.579401e+13</td>\n",
       "      <td>L77566A</td>\n",
       "      <td>65.0</td>\n",
       "      <td>5.0</td>\n",
       "      <td>16.0</td>\n",
       "      <td>26.0</td>\n",
       "      <td>NaN</td>\n",
       "      <td>NaN</td>\n",
       "      <td>100.0</td>\n",
       "      <td>0.0</td>\n",
       "      <td>0.0</td>\n",
       "      <td>0.0</td>\n",
       "      <td>100.0</td>\n",
       "      <td>0.0</td>\n",
       "      <td>0.0</td>\n",
       "      <td>0.0</td>\n",
       "      <td>NaN</td>\n",
       "      <td>NaN</td>\n",
       "      <td>168.0</td>\n",
       "      <td>3560.0</td>\n",
       "      <td>1.365104e+09</td>\n",
       "      <td>Samsung</td>\n",
       "      <td>Samsung Galaxy J5 (Sm-J530)</td>\n",
       "      <td>NaN</td>\n",
       "      <td>NaN</td>\n",
       "      <td>NaN</td>\n",
       "      <td>NaN</td>\n",
       "      <td>NaN</td>\n",
       "      <td>NaN</td>\n",
       "      <td>971.0</td>\n",
       "      <td>1022.0</td>\n",
       "      <td>1926113.0</td>\n",
       "      <td>7165.0</td>\n",
       "      <td>3493924.0</td>\n",
       "      <td>920172.0</td>\n",
       "      <td>629046.0</td>\n",
       "      <td>308339.0</td>\n",
       "      <td>20247395.0</td>\n",
       "      <td>19111729.0</td>\n",
       "      <td>18338413.0</td>\n",
       "      <td>17227132.0</td>\n",
       "      <td>608750074.0</td>\n",
       "      <td>1170709.0</td>\n",
       "      <td>526904238.0</td>\n",
       "      <td>15055145.0</td>\n",
       "      <td>53800391.0</td>\n",
       "      <td>653384965.0</td>\n",
       "    </tr>\n",
       "    <tr>\n",
       "      <th>2</th>\n",
       "      <td>1.311448e+19</td>\n",
       "      <td>4/9/2019 17:42</td>\n",
       "      <td>1.0</td>\n",
       "      <td>4/25/2019 11:58</td>\n",
       "      <td>652.0</td>\n",
       "      <td>1361762.0</td>\n",
       "      <td>2.082003e+14</td>\n",
       "      <td>3.376063e+10</td>\n",
       "      <td>3.528151e+13</td>\n",
       "      <td>D42335A</td>\n",
       "      <td>NaN</td>\n",
       "      <td>NaN</td>\n",
       "      <td>6.0</td>\n",
       "      <td>9.0</td>\n",
       "      <td>NaN</td>\n",
       "      <td>NaN</td>\n",
       "      <td>100.0</td>\n",
       "      <td>0.0</td>\n",
       "      <td>0.0</td>\n",
       "      <td>0.0</td>\n",
       "      <td>100.0</td>\n",
       "      <td>0.0</td>\n",
       "      <td>0.0</td>\n",
       "      <td>0.0</td>\n",
       "      <td>NaN</td>\n",
       "      <td>NaN</td>\n",
       "      <td>0.0</td>\n",
       "      <td>0.0</td>\n",
       "      <td>1.361763e+09</td>\n",
       "      <td>Samsung</td>\n",
       "      <td>Samsung Galaxy A8 (2018)</td>\n",
       "      <td>NaN</td>\n",
       "      <td>NaN</td>\n",
       "      <td>NaN</td>\n",
       "      <td>NaN</td>\n",
       "      <td>NaN</td>\n",
       "      <td>NaN</td>\n",
       "      <td>751.0</td>\n",
       "      <td>695.0</td>\n",
       "      <td>1684053.0</td>\n",
       "      <td>42224.0</td>\n",
       "      <td>8535055.0</td>\n",
       "      <td>1694064.0</td>\n",
       "      <td>2690151.0</td>\n",
       "      <td>672973.0</td>\n",
       "      <td>19725661.0</td>\n",
       "      <td>14699576.0</td>\n",
       "      <td>17587794.0</td>\n",
       "      <td>6163408.0</td>\n",
       "      <td>229584621.0</td>\n",
       "      <td>395630.0</td>\n",
       "      <td>410692588.0</td>\n",
       "      <td>4215763.0</td>\n",
       "      <td>27883638.0</td>\n",
       "      <td>279807335.0</td>\n",
       "    </tr>\n",
       "    <tr>\n",
       "      <th>3</th>\n",
       "      <td>1.311448e+19</td>\n",
       "      <td>4/10/2019 0:31</td>\n",
       "      <td>486.0</td>\n",
       "      <td>4/25/2019 7:36</td>\n",
       "      <td>171.0</td>\n",
       "      <td>1321509.0</td>\n",
       "      <td>2.082014e+14</td>\n",
       "      <td>3.375034e+10</td>\n",
       "      <td>3.535661e+13</td>\n",
       "      <td>T21824A</td>\n",
       "      <td>NaN</td>\n",
       "      <td>NaN</td>\n",
       "      <td>44.0</td>\n",
       "      <td>44.0</td>\n",
       "      <td>NaN</td>\n",
       "      <td>NaN</td>\n",
       "      <td>100.0</td>\n",
       "      <td>0.0</td>\n",
       "      <td>0.0</td>\n",
       "      <td>0.0</td>\n",
       "      <td>100.0</td>\n",
       "      <td>0.0</td>\n",
       "      <td>0.0</td>\n",
       "      <td>0.0</td>\n",
       "      <td>NaN</td>\n",
       "      <td>NaN</td>\n",
       "      <td>3330.0</td>\n",
       "      <td>37882.0</td>\n",
       "      <td>1.321510e+09</td>\n",
       "      <td>undefined</td>\n",
       "      <td>undefined</td>\n",
       "      <td>NaN</td>\n",
       "      <td>NaN</td>\n",
       "      <td>NaN</td>\n",
       "      <td>NaN</td>\n",
       "      <td>NaN</td>\n",
       "      <td>NaN</td>\n",
       "      <td>17.0</td>\n",
       "      <td>207.0</td>\n",
       "      <td>644121.0</td>\n",
       "      <td>13372.0</td>\n",
       "      <td>9023734.0</td>\n",
       "      <td>2788027.0</td>\n",
       "      <td>1439754.0</td>\n",
       "      <td>631229.0</td>\n",
       "      <td>21388122.0</td>\n",
       "      <td>15146643.0</td>\n",
       "      <td>13994646.0</td>\n",
       "      <td>1097942.0</td>\n",
       "      <td>799538153.0</td>\n",
       "      <td>10849722.0</td>\n",
       "      <td>749039933.0</td>\n",
       "      <td>12797283.0</td>\n",
       "      <td>43324218.0</td>\n",
       "      <td>846028530.0</td>\n",
       "    </tr>\n",
       "    <tr>\n",
       "      <th>4</th>\n",
       "      <td>1.311448e+19</td>\n",
       "      <td>4/12/2019 20:10</td>\n",
       "      <td>565.0</td>\n",
       "      <td>4/25/2019 10:40</td>\n",
       "      <td>954.0</td>\n",
       "      <td>1089009.0</td>\n",
       "      <td>2.082014e+14</td>\n",
       "      <td>3.369980e+10</td>\n",
       "      <td>3.540701e+13</td>\n",
       "      <td>D88865A</td>\n",
       "      <td>NaN</td>\n",
       "      <td>NaN</td>\n",
       "      <td>6.0</td>\n",
       "      <td>9.0</td>\n",
       "      <td>NaN</td>\n",
       "      <td>NaN</td>\n",
       "      <td>100.0</td>\n",
       "      <td>0.0</td>\n",
       "      <td>0.0</td>\n",
       "      <td>0.0</td>\n",
       "      <td>100.0</td>\n",
       "      <td>0.0</td>\n",
       "      <td>0.0</td>\n",
       "      <td>0.0</td>\n",
       "      <td>NaN</td>\n",
       "      <td>NaN</td>\n",
       "      <td>0.0</td>\n",
       "      <td>0.0</td>\n",
       "      <td>1.089009e+09</td>\n",
       "      <td>Samsung</td>\n",
       "      <td>Samsung Sm-G390F</td>\n",
       "      <td>NaN</td>\n",
       "      <td>NaN</td>\n",
       "      <td>NaN</td>\n",
       "      <td>NaN</td>\n",
       "      <td>NaN</td>\n",
       "      <td>NaN</td>\n",
       "      <td>607.0</td>\n",
       "      <td>604.0</td>\n",
       "      <td>862600.0</td>\n",
       "      <td>50188.0</td>\n",
       "      <td>6248284.0</td>\n",
       "      <td>1500559.0</td>\n",
       "      <td>1936496.0</td>\n",
       "      <td>173853.0</td>\n",
       "      <td>15259380.0</td>\n",
       "      <td>18962873.0</td>\n",
       "      <td>17124581.0</td>\n",
       "      <td>415218.0</td>\n",
       "      <td>527707248.0</td>\n",
       "      <td>3529801.0</td>\n",
       "      <td>550709500.0</td>\n",
       "      <td>13910322.0</td>\n",
       "      <td>38542814.0</td>\n",
       "      <td>569138589.0</td>\n",
       "    </tr>\n",
       "  </tbody>\n",
       "</table>\n",
       "</div>"
      ]
     },
     "metadata": {},
     "execution_count": 5
    }
   ],
   "metadata": {}
  },
  {
   "cell_type": "markdown",
   "source": [
    "Before Cleaning a dataset, you need to explore what has been stored in it. The column names, how many data points,\n",
    "number of colum etc. All these questions needs to be answered"
   ],
   "metadata": {}
  },
  {
   "cell_type": "code",
   "execution_count": 6,
   "source": [
    "# column names\r\n",
    "db.columns.tolist()"
   ],
   "outputs": [
    {
     "output_type": "execute_result",
     "data": {
      "text/plain": [
       "['Bearer Id',\n",
       " 'Start',\n",
       " 'Start ms',\n",
       " 'End',\n",
       " 'End ms',\n",
       " 'Dur. (ms)',\n",
       " 'IMSI',\n",
       " 'MSISDN/Number',\n",
       " 'IMEI',\n",
       " 'Last Location Name',\n",
       " 'Avg RTT DL (ms)',\n",
       " 'Avg RTT UL (ms)',\n",
       " 'Avg Bearer TP DL (kbps)',\n",
       " 'Avg Bearer TP UL (kbps)',\n",
       " 'TCP DL Retrans. Vol (Bytes)',\n",
       " 'TCP UL Retrans. Vol (Bytes)',\n",
       " 'DL TP < 50 Kbps (%)',\n",
       " '50 Kbps < DL TP < 250 Kbps (%)',\n",
       " '250 Kbps < DL TP < 1 Mbps (%)',\n",
       " 'DL TP > 1 Mbps (%)',\n",
       " 'UL TP < 10 Kbps (%)',\n",
       " '10 Kbps < UL TP < 50 Kbps (%)',\n",
       " '50 Kbps < UL TP < 300 Kbps (%)',\n",
       " 'UL TP > 300 Kbps (%)',\n",
       " 'HTTP DL (Bytes)',\n",
       " 'HTTP UL (Bytes)',\n",
       " 'Activity Duration DL (ms)',\n",
       " 'Activity Duration UL (ms)',\n",
       " 'Dur. (ms).1',\n",
       " 'Handset Manufacturer',\n",
       " 'Handset Type',\n",
       " 'Nb of sec with 125000B < Vol DL',\n",
       " 'Nb of sec with 1250B < Vol UL < 6250B',\n",
       " 'Nb of sec with 31250B < Vol DL < 125000B',\n",
       " 'Nb of sec with 37500B < Vol UL',\n",
       " 'Nb of sec with 6250B < Vol DL < 31250B',\n",
       " 'Nb of sec with 6250B < Vol UL < 37500B',\n",
       " 'Nb of sec with Vol DL < 6250B',\n",
       " 'Nb of sec with Vol UL < 1250B',\n",
       " 'Social Media DL (Bytes)',\n",
       " 'Social Media UL (Bytes)',\n",
       " 'Google DL (Bytes)',\n",
       " 'Google UL (Bytes)',\n",
       " 'Email DL (Bytes)',\n",
       " 'Email UL (Bytes)',\n",
       " 'Youtube DL (Bytes)',\n",
       " 'Youtube UL (Bytes)',\n",
       " 'Netflix DL (Bytes)',\n",
       " 'Netflix UL (Bytes)',\n",
       " 'Gaming DL (Bytes)',\n",
       " 'Gaming UL (Bytes)',\n",
       " 'Other DL (Bytes)',\n",
       " 'Other UL (Bytes)',\n",
       " 'Total UL (Bytes)',\n",
       " 'Total DL (Bytes)']"
      ]
     },
     "metadata": {},
     "execution_count": 6
    }
   ],
   "metadata": {
    "scrolled": true
   }
  },
  {
   "cell_type": "markdown",
   "source": [
    "For better understanding of the columns, exploring the data description [here](https://docs.google.com/spreadsheets/d/1pcNqeUeIph6xAQzlI54KCvi8HM91SUNeeDbdOq3rvbE/edit#gid=784155610) will help"
   ],
   "metadata": {}
  },
  {
   "cell_type": "code",
   "execution_count": 7,
   "source": [
    "# number of data points\r\n",
    "print(f\" There are {db.shape[0]} rows and {db.shape[1]} columns\")"
   ],
   "outputs": [
    {
     "output_type": "stream",
     "name": "stdout",
     "text": [
      " There are 150001 rows and 55 columns\n"
     ]
    }
   ],
   "metadata": {}
  },
  {
   "cell_type": "markdown",
   "source": [
    "## Handling Missing Values"
   ],
   "metadata": {}
  },
  {
   "cell_type": "code",
   "execution_count": 9,
   "source": [
    "# how many missing values exist or better still what is the % of missing values in the dataset?\r\n",
    "def percent_missing(df):\r\n",
    "\r\n",
    "    # Calculate total number of cells in dataframe\r\n",
    "    totalCells = np.product(df.shape)\r\n",
    "\r\n",
    "    # Count number of missing values per column\r\n",
    "    missingCount = df.isnull().sum()\r\n",
    "\r\n",
    "    # Calculate total number of missing values\r\n",
    "    totalMissing = missingCount.sum()\r\n",
    "\r\n",
    "    # Calculate percentage of missing values\r\n",
    "    print(\"The dataset contains\", round(((totalMissing/totalCells) * 100), 2), \"%\", \"missing values.\")\r\n",
    "\r\n",
    "percent_missing(db)"
   ],
   "outputs": [
    {
     "output_type": "stream",
     "name": "stdout",
     "text": [
      "The dataset contains 12.5 % missing values.\n"
     ]
    }
   ],
   "metadata": {}
  },
  {
   "cell_type": "code",
   "execution_count": 10,
   "source": [
    "# Now which column(s) has missing values\r\n",
    "db.isna().sum()"
   ],
   "outputs": [
    {
     "output_type": "execute_result",
     "data": {
      "text/plain": [
       "Bearer Id                                      991\n",
       "Start                                            1\n",
       "Start ms                                         1\n",
       "End                                              1\n",
       "End ms                                           1\n",
       "Dur. (ms)                                        1\n",
       "IMSI                                           570\n",
       "MSISDN/Number                                 1066\n",
       "IMEI                                           572\n",
       "Last Location Name                            1153\n",
       "Avg RTT DL (ms)                              27829\n",
       "Avg RTT UL (ms)                              27812\n",
       "Avg Bearer TP DL (kbps)                          1\n",
       "Avg Bearer TP UL (kbps)                          1\n",
       "TCP DL Retrans. Vol (Bytes)                  88146\n",
       "TCP UL Retrans. Vol (Bytes)                  96649\n",
       "DL TP < 50 Kbps (%)                            754\n",
       "50 Kbps < DL TP < 250 Kbps (%)                 754\n",
       "250 Kbps < DL TP < 1 Mbps (%)                  754\n",
       "DL TP > 1 Mbps (%)                             754\n",
       "UL TP < 10 Kbps (%)                            792\n",
       "10 Kbps < UL TP < 50 Kbps (%)                  792\n",
       "50 Kbps < UL TP < 300 Kbps (%)                 792\n",
       "UL TP > 300 Kbps (%)                           792\n",
       "HTTP DL (Bytes)                              81474\n",
       "HTTP UL (Bytes)                              81810\n",
       "Activity Duration DL (ms)                        1\n",
       "Activity Duration UL (ms)                        1\n",
       "Dur. (ms).1                                      1\n",
       "Handset Manufacturer                           572\n",
       "Handset Type                                   572\n",
       "Nb of sec with 125000B < Vol DL              97538\n",
       "Nb of sec with 1250B < Vol UL < 6250B        92894\n",
       "Nb of sec with 31250B < Vol DL < 125000B     93586\n",
       "Nb of sec with 37500B < Vol UL              130254\n",
       "Nb of sec with 6250B < Vol DL < 31250B       88317\n",
       "Nb of sec with 6250B < Vol UL < 37500B      111843\n",
       "Nb of sec with Vol DL < 6250B                  755\n",
       "Nb of sec with Vol UL < 1250B                  793\n",
       "Social Media DL (Bytes)                          0\n",
       "Social Media UL (Bytes)                          0\n",
       "Google DL (Bytes)                                0\n",
       "Google UL (Bytes)                                0\n",
       "Email DL (Bytes)                                 0\n",
       "Email UL (Bytes)                                 0\n",
       "Youtube DL (Bytes)                               0\n",
       "Youtube UL (Bytes)                               0\n",
       "Netflix DL (Bytes)                               0\n",
       "Netflix UL (Bytes)                               0\n",
       "Gaming DL (Bytes)                                0\n",
       "Gaming UL (Bytes)                                0\n",
       "Other DL (Bytes)                                 0\n",
       "Other UL (Bytes)                                 0\n",
       "Total UL (Bytes)                                 1\n",
       "Total DL (Bytes)                                 1\n",
       "dtype: int64"
      ]
     },
     "metadata": {},
     "execution_count": 10
    }
   ],
   "metadata": {
    "scrolled": true
   }
  },
  {
   "cell_type": "markdown",
   "source": [
    "Well, Looks like some columns has alot of missing values.\n",
    "\n",
    "Up Next How to fix missing values"
   ],
   "metadata": {}
  },
  {
   "cell_type": "markdown",
   "source": [
    "Fixing Missing values is a crucial part of any data science/ML project because you might be making the data better by your method or otherwise. So your decision has to be perfect or close enough.\n",
    "\n",
    "The rule of thumb is for all object datatype kind of column/features use the mode method to fill the missing datapoints and for number kind of features use the mean/median method.\n",
    "\n",
    "The question now is how to choose which method to fill a number feature with. Well the simple answer is check if it is skewed. Now what is skew?\n",
    "\n",
    "Back to the rule of thumb, if the data is not skewed, filling with either mean or median will work well. But if it is indeed skew, then fill with Median. The idea is ...."
   ],
   "metadata": {}
  },
  {
   "cell_type": "markdown",
   "source": [
    "Other method of dealing with missing values exists like fill-forward,backward-fill etc"
   ],
   "metadata": {}
  },
  {
   "cell_type": "markdown",
   "source": [
    "You also need to consider what the column represent before you fill missing values for example:  ...\n",
    "\n",
    "Another easy way to do this is to just drop all misisng rows and moving on with analysis if you have data left atleast."
   ],
   "metadata": {}
  },
  {
   "cell_type": "code",
   "execution_count": 11,
   "source": [
    "# Checking for skewness on one of the column specifically on the \"IMSI\"\r\n",
    "import seaborn as sns\r\n",
    "#\r\n",
    "# Box plot\r\n",
    "#\r\n",
    "sns.boxplot(db.IMSI)\r\n",
    "#\r\n",
    "# Distribution plot\r\n",
    "#\r\n",
    "sns.distplot(db.IMSI)"
   ],
   "outputs": [
    {
     "output_type": "execute_result",
     "data": {
      "text/plain": [
       "<AxesSubplot:xlabel='IMSI', ylabel='Density'>"
      ]
     },
     "metadata": {},
     "execution_count": 11
    },
    {
     "output_type": "display_data",
     "data": {
      "text/plain": [
       "<Figure size 432x288 with 1 Axes>"
      ],
      "image/png": "[encoded data removed]"
     },
     "metadata": {
      "needs_background": "light"
     }
    }
   ],
   "metadata": {}
  },
  {
   "cell_type": "code",
   "execution_count": 12,
   "source": [
    "from matplotlib import pyplot as plt\r\n",
    "fig, ax = plt.subplots(figsize=(10,6))\r\n",
    "sns.boxplot(db.IMSI)"
   ],
   "outputs": [
    {
     "output_type": "execute_result",
     "data": {
      "text/plain": [
       "<AxesSubplot:xlabel='IMSI'>"
      ]
     },
     "metadata": {},
     "execution_count": 12
    },
    {
     "output_type": "display_data",
     "data": {
      "text/plain": [
       "<Figure size 720x432 with 1 Axes>"
      ],
      "image/png": "[encoded data removed]"
     },
     "metadata": {
      "needs_background": "light"
     }
    }
   ],
   "metadata": {}
  },
  {
   "cell_type": "code",
   "execution_count": 13,
   "source": [
    "fig, ax = plt.subplots(figsize=(10,8))\r\n",
    "sns.distplot(db.IMSI)"
   ],
   "outputs": [
    {
     "output_type": "execute_result",
     "data": {
      "text/plain": [
       "<AxesSubplot:xlabel='IMSI', ylabel='Density'>"
      ]
     },
     "metadata": {},
     "execution_count": 13
    },
    {
     "output_type": "display_data",
     "data": {
      "text/plain": [
       "<Figure size 720x576 with 1 Axes>"
      ],
      "image/png": "[encoded data removed]"
     },
     "metadata": {
      "needs_background": "light"
     }
    }
   ],
   "metadata": {}
  },
  {
   "cell_type": "code",
   "execution_count": 14,
   "source": [
    "db.IMSI.mode()"
   ],
   "outputs": [
    {
     "output_type": "execute_result",
     "data": {
      "text/plain": [
       "0    2.082014e+14\n",
       "dtype: float64"
      ]
     },
     "metadata": {},
     "execution_count": 14
    }
   ],
   "metadata": {}
  },
  {
   "cell_type": "code",
   "execution_count": 19,
   "source": [
    "#To see the percentage of missing values of every columns\r\n",
    "\r\n",
    "percent_missing = db.isnull().sum() * 100 / len(db)\r\n",
    "missing_value_db = pd.DataFrame({'column_name': db.columns,\r\n",
    "                                 'percent_missing': percent_missing})\r\n",
    "\r\n",
    "missing_value_db.sort_values('percent_missing', inplace=True)\r\n",
    "\r\n",
    "print (missing_value_db)"
   ],
   "outputs": [
    {
     "output_type": "stream",
     "name": "stdout",
     "text": [
      "                                                                       column_name  \\\n",
      "Youtube DL (Bytes)                                              Youtube DL (Bytes)   \n",
      "Other UL (Bytes)                                                  Other UL (Bytes)   \n",
      "Other DL (Bytes)                                                  Other DL (Bytes)   \n",
      "Gaming UL (Bytes)                                                Gaming UL (Bytes)   \n",
      "Gaming DL (Bytes)                                                Gaming DL (Bytes)   \n",
      "Netflix UL (Bytes)                                              Netflix UL (Bytes)   \n",
      "Netflix DL (Bytes)                                              Netflix DL (Bytes)   \n",
      "Youtube UL (Bytes)                                              Youtube UL (Bytes)   \n",
      "Email UL (Bytes)                                                  Email UL (Bytes)   \n",
      "Email DL (Bytes)                                                  Email DL (Bytes)   \n",
      "Google UL (Bytes)                                                Google UL (Bytes)   \n",
      "Google DL (Bytes)                                                Google DL (Bytes)   \n",
      "Social Media UL (Bytes)                                    Social Media UL (Bytes)   \n",
      "Social Media DL (Bytes)                                    Social Media DL (Bytes)   \n",
      "Dur. (ms).1                                                            Dur. (ms).1   \n",
      "Activity Duration UL (ms)                                Activity Duration UL (ms)   \n",
      "Total UL (Bytes)                                                  Total UL (Bytes)   \n",
      "Activity Duration DL (ms)                                Activity Duration DL (ms)   \n",
      "Total DL (Bytes)                                                  Total DL (Bytes)   \n",
      "Avg Bearer TP UL (kbps)                                    Avg Bearer TP UL (kbps)   \n",
      "Avg Bearer TP DL (kbps)                                    Avg Bearer TP DL (kbps)   \n",
      "Dur. (ms)                                                                Dur. (ms)   \n",
      "Start                                                                        Start   \n",
      "Start ms                                                                  Start ms   \n",
      "End ms                                                                      End ms   \n",
      "End                                                                            End   \n",
      "IMSI                                                                          IMSI   \n",
      "IMEI                                                                          IMEI   \n",
      "Handset Type                                                          Handset Type   \n",
      "Handset Manufacturer                                          Handset Manufacturer   \n",
      "DL TP < 50 Kbps (%)                                            DL TP < 50 Kbps (%)   \n",
      "50 Kbps < DL TP < 250 Kbps (%)                      50 Kbps < DL TP < 250 Kbps (%)   \n",
      "250 Kbps < DL TP < 1 Mbps (%)                        250 Kbps < DL TP < 1 Mbps (%)   \n",
      "DL TP > 1 Mbps (%)                                              DL TP > 1 Mbps (%)   \n",
      "Nb of sec with Vol DL < 6250B                        Nb of sec with Vol DL < 6250B   \n",
      "UL TP > 300 Kbps (%)                                          UL TP > 300 Kbps (%)   \n",
      "50 Kbps < UL TP < 300 Kbps (%)                      50 Kbps < UL TP < 300 Kbps (%)   \n",
      "10 Kbps < UL TP < 50 Kbps (%)                        10 Kbps < UL TP < 50 Kbps (%)   \n",
      "UL TP < 10 Kbps (%)                                            UL TP < 10 Kbps (%)   \n",
      "Nb of sec with Vol UL < 1250B                        Nb of sec with Vol UL < 1250B   \n",
      "Bearer Id                                                                Bearer Id   \n",
      "MSISDN/Number                                                        MSISDN/Number   \n",
      "Last Location Name                                              Last Location Name   \n",
      "Avg RTT UL (ms)                                                    Avg RTT UL (ms)   \n",
      "Avg RTT DL (ms)                                                    Avg RTT DL (ms)   \n",
      "HTTP DL (Bytes)                                                    HTTP DL (Bytes)   \n",
      "HTTP UL (Bytes)                                                    HTTP UL (Bytes)   \n",
      "TCP DL Retrans. Vol (Bytes)                            TCP DL Retrans. Vol (Bytes)   \n",
      "Nb of sec with 6250B < Vol DL < 31250B      Nb of sec with 6250B < Vol DL < 31250B   \n",
      "Nb of sec with 1250B < Vol UL < 6250B        Nb of sec with 1250B < Vol UL < 6250B   \n",
      "Nb of sec with 31250B < Vol DL < 125000B  Nb of sec with 31250B < Vol DL < 125000B   \n",
      "TCP UL Retrans. Vol (Bytes)                            TCP UL Retrans. Vol (Bytes)   \n",
      "Nb of sec with 125000B < Vol DL                    Nb of sec with 125000B < Vol DL   \n",
      "Nb of sec with 6250B < Vol UL < 37500B      Nb of sec with 6250B < Vol UL < 37500B   \n",
      "Nb of sec with 37500B < Vol UL                      Nb of sec with 37500B < Vol UL   \n",
      "\n",
      "                                          percent_missing  \n",
      "Youtube DL (Bytes)                               0.000000  \n",
      "Other UL (Bytes)                                 0.000000  \n",
      "Other DL (Bytes)                                 0.000000  \n",
      "Gaming UL (Bytes)                                0.000000  \n",
      "Gaming DL (Bytes)                                0.000000  \n",
      "Netflix UL (Bytes)                               0.000000  \n",
      "Netflix DL (Bytes)                               0.000000  \n",
      "Youtube UL (Bytes)                               0.000000  \n",
      "Email UL (Bytes)                                 0.000000  \n",
      "Email DL (Bytes)                                 0.000000  \n",
      "Google UL (Bytes)                                0.000000  \n",
      "Google DL (Bytes)                                0.000000  \n",
      "Social Media UL (Bytes)                          0.000000  \n",
      "Social Media DL (Bytes)                          0.000000  \n",
      "Dur. (ms).1                                      0.000667  \n",
      "Activity Duration UL (ms)                        0.000667  \n",
      "Total UL (Bytes)                                 0.000667  \n",
      "Activity Duration DL (ms)                        0.000667  \n",
      "Total DL (Bytes)                                 0.000667  \n",
      "Avg Bearer TP UL (kbps)                          0.000667  \n",
      "Avg Bearer TP DL (kbps)                          0.000667  \n",
      "Dur. (ms)                                        0.000667  \n",
      "Start                                            0.000667  \n",
      "Start ms                                         0.000667  \n",
      "End ms                                           0.000667  \n",
      "End                                              0.000667  \n",
      "IMSI                                             0.379997  \n",
      "IMEI                                             0.381331  \n",
      "Handset Type                                     0.381331  \n",
      "Handset Manufacturer                             0.381331  \n",
      "DL TP < 50 Kbps (%)                              0.502663  \n",
      "50 Kbps < DL TP < 250 Kbps (%)                   0.502663  \n",
      "250 Kbps < DL TP < 1 Mbps (%)                    0.502663  \n",
      "DL TP > 1 Mbps (%)                               0.502663  \n",
      "Nb of sec with Vol DL < 6250B                    0.503330  \n",
      "UL TP > 300 Kbps (%)                             0.527996  \n",
      "50 Kbps < UL TP < 300 Kbps (%)                   0.527996  \n",
      "10 Kbps < UL TP < 50 Kbps (%)                    0.527996  \n",
      "UL TP < 10 Kbps (%)                              0.527996  \n",
      "Nb of sec with Vol UL < 1250B                    0.528663  \n",
      "Bearer Id                                        0.660662  \n",
      "MSISDN/Number                                    0.710662  \n",
      "Last Location Name                               0.768662  \n",
      "Avg RTT UL (ms)                                 18.541210  \n",
      "Avg RTT DL (ms)                                 18.552543  \n",
      "HTTP DL (Bytes)                                 54.315638  \n",
      "HTTP UL (Bytes)                                 54.539636  \n",
      "TCP DL Retrans. Vol (Bytes)                     58.763608  \n",
      "Nb of sec with 6250B < Vol DL < 31250B          58.877607  \n",
      "Nb of sec with 1250B < Vol UL < 6250B           61.928920  \n",
      "Nb of sec with 31250B < Vol DL < 125000B        62.390251  \n",
      "TCP UL Retrans. Vol (Bytes)                     64.432237  \n",
      "Nb of sec with 125000B < Vol DL                 65.024900  \n",
      "Nb of sec with 6250B < Vol UL < 37500B          74.561503  \n",
      "Nb of sec with 37500B < Vol UL                  86.835421  \n"
     ]
    }
   ],
   "metadata": {}
  },
  {
   "cell_type": "markdown",
   "source": [
    "we can see that there are 10 column with missing values of greater than 50 %\r\n",
    "\r\n",
    "HTTP DL (Bytes)                                 54.315638 % \r\n",
    "HTTP UL (Bytes)                                 54.539636 %\r\n",
    "TCP DL Retrans. Vol (Bytes)                     58.763608 %\r\n",
    "Nb of sec with 6250B < Vol DL < 31250B          58.877607 %\r\n",
    "Nb of sec with 1250B < Vol UL < 6250B           61.928920 %\r\n",
    "Nb of sec with 31250B < Vol DL < 125000B        62.390251 %\r\n",
    "TCP UL Retrans. Vol (Bytes)                     64.432237 %\r\n",
    "Nb of sec with 125000B < Vol DL                 65.024900 %\r\n",
    "Nb of sec with 6250B < Vol UL < 37500B          74.561503 %\r\n",
    "Nb of sec with 37500B < Vol UL                  86.835421 %"
   ],
   "metadata": {}
  },
  {
   "cell_type": "code",
   "execution_count": 24,
   "source": [
    "# drop columns with more than 50% missing values\r\n",
    "df_clean = db.drop(['HTTP DL (Bytes)', 'HTTP UL (Bytes)', 'TCP DL Retrans. Vol (Bytes)', 'Nb of sec with 6250B < Vol DL < 31250B', 'Nb of sec with 1250B < Vol UL < 6250B', 'Nb of sec with 31250B < Vol DL < 125000B', 'TCP UL Retrans. Vol (Bytes)', 'Nb of sec with 125000B < Vol DL', 'Nb of sec with 6250B < Vol UL < 37500B', 'Nb of sec with 37500B < Vol UL'], axis=1)\r\n",
    "\r\n",
    "df_clean.shape"
   ],
   "outputs": [
    {
     "output_type": "execute_result",
     "data": {
      "text/plain": [
       "(150001, 45)"
      ]
     },
     "metadata": {},
     "execution_count": 24
    }
   ],
   "metadata": {}
  },
  {
   "cell_type": "code",
   "execution_count": 83,
   "source": [
    "# fill missing with ffill method for columns (diag_1, diag_2, diag_3)\r\n",
    "\r\n",
    "def fix_missing_ffill(df, col):\r\n",
    "    df[col] = df[col].fillna(method='ffill')\r\n",
    "    return df[col]\r\n",
    "\r\n",
    "\r\n",
    "def fix_missing_bfill(df, col):\r\n",
    "    df[col] = df[col].fillna(method='bfill')\r\n",
    "    return df[col]\r\n",
    "\r\n",
    "df_clean['diag_1'] = fix_missing_ffill(df_clean, 'diag_1')\r\n",
    "df_clean['diag_2'] = fix_missing_ffill(df_clean, 'diag_2')\r\n",
    "df_clean['diag_3'] = fix_missing_ffill(df_clean, 'diag_3')\r\n",
    "\r\n",
    "# fill 'race' column with mode \r\n",
    "df_clean['race'] = df_clean['race'].fillna(df_clean['race'].mode()[0])"
   ],
   "outputs": [],
   "metadata": {}
  },
  {
   "cell_type": "markdown",
   "source": [
    "Other missing columns can be fixed based on your understanding, you can decide to drop or fill using appropriate methods. Whichever you decide, explain your reasons  "
   ],
   "metadata": {}
  },
  {
   "cell_type": "markdown",
   "source": [
    "## Transforming Data\n",
    "\n",
    "**Scaling and Normalization**"
   ],
   "metadata": {}
  },
  {
   "cell_type": "markdown",
   "source": [
    "Scaling vs. Normalization: What's the difference?\n",
    "\n",
    "One of the reasons that it's easy to get confused between scaling and normalization is because the terms are sometimes used interchangeably and, to make it even more confusing, they are very similar! In both cases, you're transforming the values of numeric variables so that the transformed data points have specific helpful properties. The difference is that:\n",
    "\n",
    "    - in scaling, you're changing the range of your data, while\n",
    "    - in normalization, you're changing the shape of the distribution of your data.\n",
    "\n",
    "Scaling\n",
    "\n",
    "This means that you're transforming your data so that it fits within a specific scale, like 0-100 or 0-1. You want to scale data when you're using methods based on measures of how far apart data points are, like support vector machines (SVM) or k-nearest neighbors (KNN). With these algorithms, a change of \"1\" in any numeric feature is given the same importance.\n",
    "\n",
    "For example, you might be looking at the prices of some products in both Yen and US Dollars. One US Dollar is worth about 100 Yen, but if you don't scale your prices, methods like SVM or KNN will consider a difference in price of 1 Yen as important as a difference of 1 US Dollar! This clearly doesn't fit with our intuitions of the world. With currency, you can convert between currencies. But what about if you're looking at something like height and weight? It's not entirely clear how many pounds should equal one inch (or how many kilograms should equal one meter).\n",
    "\n",
    "\n"
   ],
   "metadata": {}
  },
  {
   "cell_type": "code",
   "execution_count": 31,
   "source": [
    "from sklearn.preprocessing import MinMaxScaler\n",
    "\n",
    "minmax_scaler = MinMaxScaler()\n",
    "\n",
    "# generate 1000 data points randomly drawn from an exponential distribution\n",
    "original_data = pd.DataFrame(np.random.exponential(200, size=2000))\n",
    "\n",
    "original_data.sample(5)"
   ],
   "outputs": [
    {
     "output_type": "execute_result",
     "data": {
      "text/plain": [
       "          0\n",
       "975  494.28\n",
       "314  123.75\n",
       "591  122.97\n",
       "840  193.61\n",
       "1744 263.63"
      ],
      "text/html": [
       "<div>\n",
       "<style scoped>\n",
       "    .dataframe tbody tr th:only-of-type {\n",
       "        vertical-align: middle;\n",
       "    }\n",
       "\n",
       "    .dataframe tbody tr th {\n",
       "        vertical-align: top;\n",
       "    }\n",
       "\n",
       "    .dataframe thead th {\n",
       "        text-align: right;\n",
       "    }\n",
       "</style>\n",
       "<table border=\"1\" class=\"dataframe\">\n",
       "  <thead>\n",
       "    <tr style=\"text-align: right;\">\n",
       "      <th></th>\n",
       "      <th>0</th>\n",
       "    </tr>\n",
       "  </thead>\n",
       "  <tbody>\n",
       "    <tr>\n",
       "      <th>975</th>\n",
       "      <td>494.28</td>\n",
       "    </tr>\n",
       "    <tr>\n",
       "      <th>314</th>\n",
       "      <td>123.75</td>\n",
       "    </tr>\n",
       "    <tr>\n",
       "      <th>591</th>\n",
       "      <td>122.97</td>\n",
       "    </tr>\n",
       "    <tr>\n",
       "      <th>840</th>\n",
       "      <td>193.61</td>\n",
       "    </tr>\n",
       "    <tr>\n",
       "      <th>1744</th>\n",
       "      <td>263.63</td>\n",
       "    </tr>\n",
       "  </tbody>\n",
       "</table>\n",
       "</div>"
      ]
     },
     "metadata": {},
     "execution_count": 31
    }
   ],
   "metadata": {}
  },
  {
   "cell_type": "code",
   "execution_count": 32,
   "source": [
    "original_data[0].min(), original_data[0].max()"
   ],
   "outputs": [
    {
     "output_type": "execute_result",
     "data": {
      "text/plain": [
       "(0.09952282828343637, 1612.144380953509)"
      ]
     },
     "metadata": {},
     "execution_count": 32
    }
   ],
   "metadata": {}
  },
  {
   "cell_type": "code",
   "execution_count": 33,
   "source": [
    "count, bins, ignored = plt.hist(original_data, 14)\n",
    "plt.show()"
   ],
   "outputs": [
    {
     "output_type": "display_data",
     "data": {
      "text/plain": [
       "<Figure size 432x288 with 1 Axes>"
      ],
      "image/png": "[encoded data removed]"
     },
     "metadata": {
      "needs_background": "light"
     }
    }
   ],
   "metadata": {}
  },
  {
   "cell_type": "code",
   "execution_count": 91,
   "source": [
    "# mix-max scale the data between 0 and 1\n",
    "def scaler(df):\n",
    "    scaled_data = minmax_scaler.fit_transform(df)\n",
    "\n",
    "    # plot both together to compare\n",
    "    fig, ax = plt.subplots(1,2, figsize=(10, 6))\n",
    "    sns.histplot(original_data, ax=ax[0])\n",
    "    ax[0].set_title(\"Original Data\")\n",
    "    sns.histplot(scaled_data, ax=ax[1])\n",
    "    ax[1].set_title(\"Scaled data\")\n",
    "    \n",
    "scaler(original_data)"
   ],
   "outputs": [
    {
     "output_type": "display_data",
     "data": {
      "text/plain": [
       "<Figure size 720x432 with 2 Axes>"
      ],
      "image/png": "[encoded data removed]"
     },
     "metadata": {
      "needs_background": "light"
     }
    }
   ],
   "metadata": {}
  },
  {
   "cell_type": "markdown",
   "source": [
    "Normalization\n",
    "\n",
    "Scaling just changes the range of your data. Normalization is a more radical transformation. The point of normalization is to change your observations so that they can be described as a normal distribution.\n",
    "\n",
    "    Normal distribution: Also known as the \"bell curve\", this is a specific statistical distribution where a roughly equal observations fall above and below the mean, the mean and the median are the same, and there are more observations closer to the mean. The normal distribution is also known as the Gaussian distribution.\n",
    "\n",
    "In general, you'll normalize your data if you're going to be using a machine learning or statistics technique that assumes your data is normally distributed. Some examples of these include linear discriminant analysis (LDA) and Gaussian naive Bayes. (Pro tip: any method with \"Gaussian\" in the name probably assumes normality.)\n",
    "\n",
    "The method you will be using to normalize here is called the Normalizer method from sklearn. Let's take a quick peek at what normalizing some data looks like:"
   ],
   "metadata": {}
  },
  {
   "cell_type": "code",
   "execution_count": 92,
   "source": [
    "from sklearn.preprocessing import Normalizer\n",
    "\n",
    "def normalizer(df):\n",
    "    norm = Normalizer()\n",
    "    # normalize the exponential data with boxcox\n",
    "    normalized_data = norm.fit_transform(df)\n",
    "\n",
    "    # plot both together to compare\n",
    "    fig, ax=plt.subplots(1,2, figsize=(10, 6))\n",
    "    sns.histplot(df, ax=ax[0])\n",
    "    ax[0].set_title(\"Original Data\")\n",
    "    sns.histplot(normalized_data[0], ax=ax[1])\n",
    "    ax[1].set_title(\"Normalized data\")\n",
    "\n",
    "normalizer(original_data)"
   ],
   "outputs": [
    {
     "output_type": "display_data",
     "data": {
      "text/plain": [
       "<Figure size 720x432 with 2 Axes>"
      ],
      "image/png": "[encoded data removed]"
     },
     "metadata": {
      "needs_background": "light"
     }
    }
   ],
   "metadata": {}
  },
  {
   "cell_type": "code",
   "execution_count": 94,
   "source": [
    "# check datatypes\n",
    "df_clean.info()"
   ],
   "outputs": [
    {
     "output_type": "stream",
     "name": "stdout",
     "text": [
      "<class 'pandas.core.frame.DataFrame'>\n",
      "RangeIndex: 101766 entries, 0 to 101765\n",
      "Data columns (total 45 columns):\n",
      " #   Column                    Non-Null Count   Dtype \n",
      "---  ------                    --------------   ----- \n",
      " 0   encounter_id              101766 non-null  int64 \n",
      " 1   patient_nbr               101766 non-null  int64 \n",
      " 2   race                      101766 non-null  object\n",
      " 3   gender                    101766 non-null  object\n",
      " 4   age                       101766 non-null  object\n",
      " 5   admission_type_id         101766 non-null  int64 \n",
      " 6   discharge_disposition_id  101766 non-null  int64 \n",
      " 7   admission_source_id       101766 non-null  int64 \n",
      " 8   time_in_hospital          101766 non-null  int64 \n",
      " 9   num_lab_procedures        101766 non-null  int64 \n",
      " 10  num_procedures            101766 non-null  int64 \n",
      " 11  num_medications           101766 non-null  int64 \n",
      " 12  number_outpatient         101766 non-null  int64 \n",
      " 13  number_emergency          101766 non-null  int64 \n",
      " 14  number_inpatient          101766 non-null  int64 \n",
      " 15  diag_1                    101766 non-null  object\n",
      " 16  diag_2                    101765 non-null  object\n",
      " 17  diag_3                    101765 non-null  object\n",
      " 18  number_diagnoses          101766 non-null  int64 \n",
      " 19  metformin                 101766 non-null  object\n",
      " 20  repaglinide               101766 non-null  object\n",
      " 21  nateglinide               101766 non-null  object\n",
      " 22  chlorpropamide            101766 non-null  object\n",
      " 23  glimepiride               101766 non-null  object\n",
      " 24  acetohexamide             101766 non-null  object\n",
      " 25  glipizide                 101766 non-null  object\n",
      " 26  glyburide                 101766 non-null  object\n",
      " 27  tolbutamide               101766 non-null  object\n",
      " 28  pioglitazone              101766 non-null  object\n",
      " 29  rosiglitazone             101766 non-null  object\n",
      " 30  acarbose                  101766 non-null  object\n",
      " 31  miglitol                  101766 non-null  object\n",
      " 32  troglitazone              101766 non-null  object\n",
      " 33  tolazamide                101766 non-null  object\n",
      " 34  examide                   101766 non-null  object\n",
      " 35  citoglipton               101766 non-null  object\n",
      " 36  insulin                   101766 non-null  object\n",
      " 37  glyburide-metformin       101766 non-null  object\n",
      " 38  glipizide-metformin       101766 non-null  object\n",
      " 39  glimepiride-pioglitazone  101766 non-null  object\n",
      " 40  metformin-rosiglitazone   101766 non-null  object\n",
      " 41  metformin-pioglitazone    101766 non-null  object\n",
      " 42  change                    101766 non-null  object\n",
      " 43  diabetesMed               101766 non-null  object\n",
      " 44  readmitted                101766 non-null  object\n",
      "dtypes: int64(13), object(32)\n",
      "memory usage: 34.9+ MB\n"
     ]
    }
   ],
   "metadata": {}
  },
  {
   "cell_type": "code",
   "execution_count": 143,
   "source": [
    "def fix_age(col):\n",
    "    weight = [ x.replace( '[', '' ).replace( ')', '' ) for x in col.fillna('') ]\n",
    "    new_age = [ ( ( int(i.split('-')[0] ) + int( i.split('-')[1] ) ) / 2)  for i in weight ]\n",
    "    return weight, new_age\n",
    "\n",
    "df['age_group'], df_clean['fix_age'] = fix_weight(df_clean['age'])"
   ],
   "outputs": [
    {
     "output_type": "error",
     "ename": "AttributeError",
     "evalue": "'float' object has no attribute 'replace'",
     "traceback": [
      "\u001b[0;31m---------------------------------------------------------------------------\u001b[0m",
      "\u001b[0;31mAttributeError\u001b[0m                            Traceback (most recent call last)",
      "\u001b[0;32m<ipython-input-143-9ed993a77796>\u001b[0m in \u001b[0;36m<module>\u001b[0;34m\u001b[0m\n\u001b[1;32m      4\u001b[0m     \u001b[0;32mreturn\u001b[0m \u001b[0mweight\u001b[0m\u001b[0;34m\u001b[0m\u001b[0;34m\u001b[0m\u001b[0m\n\u001b[1;32m      5\u001b[0m \u001b[0;34m\u001b[0m\u001b[0m\n\u001b[0;32m----> 6\u001b[0;31m \u001b[0mdf_clean\u001b[0m\u001b[0;34m[\u001b[0m\u001b[0;34m'fix_age'\u001b[0m\u001b[0;34m]\u001b[0m \u001b[0;34m=\u001b[0m \u001b[0mfix_weight\u001b[0m\u001b[0;34m(\u001b[0m\u001b[0mdf_clean\u001b[0m\u001b[0;34m[\u001b[0m\u001b[0;34m'age'\u001b[0m\u001b[0;34m]\u001b[0m\u001b[0;34m)\u001b[0m\u001b[0;34m\u001b[0m\u001b[0;34m\u001b[0m\u001b[0m\n\u001b[0m",
      "\u001b[0;32m<ipython-input-64-424a6305f3df>\u001b[0m in \u001b[0;36mfix_weight\u001b[0;34m(col)\u001b[0m\n\u001b[1;32m      1\u001b[0m \u001b[0;32mdef\u001b[0m \u001b[0mfix_weight\u001b[0m\u001b[0;34m(\u001b[0m\u001b[0mcol\u001b[0m\u001b[0;34m)\u001b[0m\u001b[0;34m:\u001b[0m\u001b[0;34m\u001b[0m\u001b[0;34m\u001b[0m\u001b[0m\n\u001b[0;32m----> 2\u001b[0;31m     \u001b[0mweight\u001b[0m \u001b[0;34m=\u001b[0m \u001b[0;34m[\u001b[0m\u001b[0mx\u001b[0m\u001b[0;34m.\u001b[0m\u001b[0mreplace\u001b[0m\u001b[0;34m(\u001b[0m \u001b[0;34m'['\u001b[0m\u001b[0;34m,\u001b[0m \u001b[0;34m''\u001b[0m \u001b[0;34m)\u001b[0m\u001b[0;34m.\u001b[0m\u001b[0mreplace\u001b[0m\u001b[0;34m(\u001b[0m \u001b[0;34m')'\u001b[0m\u001b[0;34m,\u001b[0m \u001b[0;34m''\u001b[0m \u001b[0;34m)\u001b[0m \u001b[0;32mfor\u001b[0m \u001b[0mx\u001b[0m \u001b[0;32min\u001b[0m \u001b[0mcol\u001b[0m\u001b[0;34m.\u001b[0m\u001b[0mfillna\u001b[0m\u001b[0;34m(\u001b[0m\u001b[0;34m''\u001b[0m\u001b[0;34m)\u001b[0m \u001b[0;34m]\u001b[0m\u001b[0;34m\u001b[0m\u001b[0;34m\u001b[0m\u001b[0m\n\u001b[0m\u001b[1;32m      3\u001b[0m     \u001b[0;32mreturn\u001b[0m \u001b[0mweight\u001b[0m\u001b[0;34m\u001b[0m\u001b[0;34m\u001b[0m\u001b[0m\n\u001b[1;32m      4\u001b[0m \u001b[0;34m\u001b[0m\u001b[0m\n\u001b[1;32m      5\u001b[0m \u001b[0mdb\u001b[0m\u001b[0;34m[\u001b[0m\u001b[0;34m'fix_weight'\u001b[0m\u001b[0;34m]\u001b[0m \u001b[0;34m=\u001b[0m \u001b[0mfix_weight\u001b[0m\u001b[0;34m(\u001b[0m\u001b[0mdb\u001b[0m\u001b[0;34m[\u001b[0m\u001b[0;34m'weight'\u001b[0m\u001b[0;34m]\u001b[0m\u001b[0;34m)\u001b[0m\u001b[0;34m\u001b[0m\u001b[0;34m\u001b[0m\u001b[0m\n",
      "\u001b[0;32m<ipython-input-64-424a6305f3df>\u001b[0m in \u001b[0;36m<listcomp>\u001b[0;34m(.0)\u001b[0m\n\u001b[1;32m      1\u001b[0m \u001b[0;32mdef\u001b[0m \u001b[0mfix_weight\u001b[0m\u001b[0;34m(\u001b[0m\u001b[0mcol\u001b[0m\u001b[0;34m)\u001b[0m\u001b[0;34m:\u001b[0m\u001b[0;34m\u001b[0m\u001b[0;34m\u001b[0m\u001b[0m\n\u001b[0;32m----> 2\u001b[0;31m     \u001b[0mweight\u001b[0m \u001b[0;34m=\u001b[0m \u001b[0;34m[\u001b[0m\u001b[0mx\u001b[0m\u001b[0;34m.\u001b[0m\u001b[0mreplace\u001b[0m\u001b[0;34m(\u001b[0m \u001b[0;34m'['\u001b[0m\u001b[0;34m,\u001b[0m \u001b[0;34m''\u001b[0m \u001b[0;34m)\u001b[0m\u001b[0;34m.\u001b[0m\u001b[0mreplace\u001b[0m\u001b[0;34m(\u001b[0m \u001b[0;34m')'\u001b[0m\u001b[0;34m,\u001b[0m \u001b[0;34m''\u001b[0m \u001b[0;34m)\u001b[0m \u001b[0;32mfor\u001b[0m \u001b[0mx\u001b[0m \u001b[0;32min\u001b[0m \u001b[0mcol\u001b[0m\u001b[0;34m.\u001b[0m\u001b[0mfillna\u001b[0m\u001b[0;34m(\u001b[0m\u001b[0;34m''\u001b[0m\u001b[0;34m)\u001b[0m \u001b[0;34m]\u001b[0m\u001b[0;34m\u001b[0m\u001b[0;34m\u001b[0m\u001b[0m\n\u001b[0m\u001b[1;32m      3\u001b[0m     \u001b[0;32mreturn\u001b[0m \u001b[0mweight\u001b[0m\u001b[0;34m\u001b[0m\u001b[0;34m\u001b[0m\u001b[0m\n\u001b[1;32m      4\u001b[0m \u001b[0;34m\u001b[0m\u001b[0m\n\u001b[1;32m      5\u001b[0m \u001b[0mdb\u001b[0m\u001b[0;34m[\u001b[0m\u001b[0;34m'fix_weight'\u001b[0m\u001b[0;34m]\u001b[0m \u001b[0;34m=\u001b[0m \u001b[0mfix_weight\u001b[0m\u001b[0;34m(\u001b[0m\u001b[0mdb\u001b[0m\u001b[0;34m[\u001b[0m\u001b[0;34m'weight'\u001b[0m\u001b[0;34m]\u001b[0m\u001b[0;34m)\u001b[0m\u001b[0;34m\u001b[0m\u001b[0;34m\u001b[0m\u001b[0m\n",
      "\u001b[0;31mAttributeError\u001b[0m: 'float' object has no attribute 'replace'"
     ]
    }
   ],
   "metadata": {
    "collapsed": true
   }
  },
  {
   "cell_type": "code",
   "execution_count": 132,
   "source": [
    "\n",
    "df_clean['diag_1'] = pd.to_numeric(df_clean['diag_1'], errors='coerce')\n",
    "df_clean['diag_2'] = pd.to_numeric(df_clean['diag_2'], errors='coerce')\n",
    "df_clean['diag_3'] = pd.to_numeric(df_clean['diag_3'], errors='coerce')\n"
   ],
   "outputs": [],
   "metadata": {}
  },
  {
   "cell_type": "code",
   "execution_count": 134,
   "source": [
    "df_clean.info()"
   ],
   "outputs": [
    {
     "output_type": "stream",
     "name": "stdout",
     "text": [
      "<class 'pandas.core.frame.DataFrame'>\n",
      "RangeIndex: 101766 entries, 0 to 101765\n",
      "Data columns (total 46 columns):\n",
      " #   Column                    Non-Null Count   Dtype  \n",
      "---  ------                    --------------   -----  \n",
      " 0   encounter_id              101766 non-null  int64  \n",
      " 1   patient_nbr               101766 non-null  int64  \n",
      " 2   race                      101766 non-null  object \n",
      " 3   gender                    101766 non-null  object \n",
      " 4   age                       101766 non-null  object \n",
      " 5   admission_type_id         101766 non-null  int64  \n",
      " 6   discharge_disposition_id  101766 non-null  int64  \n",
      " 7   admission_source_id       101766 non-null  int64  \n",
      " 8   time_in_hospital          101766 non-null  int64  \n",
      " 9   num_lab_procedures        101766 non-null  int64  \n",
      " 10  num_procedures            101766 non-null  int64  \n",
      " 11  num_medications           101766 non-null  int64  \n",
      " 12  number_outpatient         101766 non-null  int64  \n",
      " 13  number_emergency          101766 non-null  int64  \n",
      " 14  number_inpatient          101766 non-null  int64  \n",
      " 15  diag_1                    100121 non-null  float64\n",
      " 16  diag_2                    99228 non-null   float64\n",
      " 17  diag_3                    96635 non-null   float64\n",
      " 18  number_diagnoses          101766 non-null  int64  \n",
      " 19  metformin                 101766 non-null  object \n",
      " 20  repaglinide               101766 non-null  object \n",
      " 21  nateglinide               101766 non-null  object \n",
      " 22  chlorpropamide            101766 non-null  object \n",
      " 23  glimepiride               101766 non-null  object \n",
      " 24  acetohexamide             101766 non-null  object \n",
      " 25  glipizide                 101766 non-null  object \n",
      " 26  glyburide                 101766 non-null  object \n",
      " 27  tolbutamide               101766 non-null  object \n",
      " 28  pioglitazone              101766 non-null  object \n",
      " 29  rosiglitazone             101766 non-null  object \n",
      " 30  acarbose                  101766 non-null  object \n",
      " 31  miglitol                  101766 non-null  object \n",
      " 32  troglitazone              101766 non-null  object \n",
      " 33  tolazamide                101766 non-null  object \n",
      " 34  examide                   101766 non-null  object \n",
      " 35  citoglipton               101766 non-null  object \n",
      " 36  insulin                   101766 non-null  object \n",
      " 37  glyburide-metformin       101766 non-null  object \n",
      " 38  glipizide-metformin       101766 non-null  object \n",
      " 39  glimepiride-pioglitazone  101766 non-null  object \n",
      " 40  metformin-rosiglitazone   101766 non-null  object \n",
      " 41  metformin-pioglitazone    101766 non-null  object \n",
      " 42  change                    101766 non-null  object \n",
      " 43  diabetesMed               101766 non-null  object \n",
      " 44  readmitted                101766 non-null  object \n",
      " 45  fix_age                   101766 non-null  object \n",
      "dtypes: float64(3), int64(13), object(30)\n",
      "memory usage: 35.7+ MB\n"
     ]
    }
   ],
   "metadata": {}
  },
  {
   "cell_type": "code",
   "execution_count": 135,
   "source": [
    "df_clean['fix_age'].unique()"
   ],
   "outputs": [
    {
     "output_type": "execute_result",
     "data": {
      "text/plain": [
       "array(['0-10', '10-20', '20-30', '30-40', '40-50', '50-60', '60-70',\n",
       "       '70-80', '80-90', '90-100'], dtype=object)"
      ]
     },
     "metadata": {},
     "execution_count": 135
    }
   ],
   "metadata": {}
  },
  {
   "cell_type": "code",
   "execution_count": 142,
   "source": [
    "   \n",
    "df_clean['age'] = [ ((int(i.split('-')[0]) + int(i.split('-')[1])) / 2)  for i in df_clean['fix_age']]"
   ],
   "outputs": [],
   "metadata": {}
  },
  {
   "cell_type": "markdown",
   "source": [
    "## Utility Functions"
   ],
   "metadata": {}
  },
  {
   "cell_type": "code",
   "execution_count": 93,
   "source": [
    "# Function to calculate missing values by column\n",
    "def missing_values_table(df):\n",
    "    # Total missing values\n",
    "    mis_val = df.isnull().sum()\n",
    "\n",
    "    # Percentage of missing values\n",
    "    mis_val_percent = 100 * df.isnull().sum() / len(df)\n",
    "\n",
    "    # dtype of missing values\n",
    "    mis_val_dtype = df.dtypes\n",
    "\n",
    "    # Make a table with the results\n",
    "    mis_val_table = pd.concat([mis_val, mis_val_percent, mis_val_dtype], axis=1)\n",
    "\n",
    "    # Rename the columns\n",
    "    mis_val_table_ren_columns = mis_val_table.rename(\n",
    "    columns = {0 : 'Missing Values', 1 : '% of Total Values', 2: 'Dtype'})\n",
    "\n",
    "    # Sort the table by percentage of missing descending\n",
    "    mis_val_table_ren_columns = mis_val_table_ren_columns[\n",
    "        mis_val_table_ren_columns.iloc[:,1] != 0].sort_values(\n",
    "    '% of Total Values', ascending=False).round(1)\n",
    "\n",
    "    # Print some summary information\n",
    "    print (\"Your selected dataframe has \" + str(df.shape[1]) + \" columns.\\n\"      \n",
    "        \"There are \" + str(mis_val_table_ren_columns.shape[0]) +\n",
    "          \" columns that have missing values.\")\n",
    "\n",
    "    # Return the dataframe with missing information\n",
    "    return mis_val_table_ren_columns\n",
    "\n",
    "def format_float(value):\n",
    "    return f'{value:,.2f}'\n",
    "\n",
    "def find_agg(df:pd.DataFrame, agg_column:str, agg_metric:str, col_name:str, top:int, order=False )->pd.DataFrame:\n",
    "    \n",
    "    new_df = df.groupby(agg_column)[agg_column].agg(agg_metric).reset_index(name=col_name).\\\n",
    "                        sort_values(by=col_name, ascending=order)[:top]\n",
    "    \n",
    "    return new_df\n",
    "\n",
    "def convert_bytes_to_megabytes(df, bytes_data):\n",
    "    \"\"\"\n",
    "        This function takes the dataframe and the column which has the bytes values\n",
    "        returns the megabytesof that value\n",
    "        \n",
    "        Args:\n",
    "        -----\n",
    "        df: dataframe\n",
    "        bytes_data: column with bytes values\n",
    "        \n",
    "        Returns:\n",
    "        --------\n",
    "        A series\n",
    "    \"\"\"\n",
    "    \n",
    "    megabyte = 1*10e+5\n",
    "    df[bytes_data] = df[bytes_data] / megabyte\n",
    "    \n",
    "    return df[bytes_data]\n",
    "\n",
    "pd.options.display.float_format = format_float"
   ],
   "outputs": [],
   "metadata": {}
  },
  {
   "cell_type": "markdown",
   "source": [
    "## Extracting Data"
   ],
   "metadata": {}
  },
  {
   "cell_type": "code",
   "execution_count": 47,
   "source": [
    "db['readmitted'].value_counts()"
   ],
   "outputs": [
    {
     "output_type": "execute_result",
     "data": {
      "text/plain": [
       "NO     54864\n",
       ">30    35545\n",
       "<30    11357\n",
       "Name: readmitted, dtype: int64"
      ]
     },
     "metadata": {},
     "execution_count": 47
    }
   ],
   "metadata": {}
  },
  {
   "cell_type": "code",
   "execution_count": 88,
   "source": [
    "percent_missing(df_clean)"
   ],
   "outputs": [
    {
     "output_type": "stream",
     "name": "stdout",
     "text": [
      "The Diabetes dataset contains 0.0 % missing values.\n"
     ]
    }
   ],
   "metadata": {}
  },
  {
   "cell_type": "code",
   "execution_count": 144,
   "source": [
    "missing_values_table(df_clean)"
   ],
   "outputs": [
    {
     "output_type": "stream",
     "name": "stdout",
     "text": [
      "Your selected dataframe has 46 columns.\n",
      "There are 3 columns that have missing values.\n"
     ]
    },
    {
     "output_type": "execute_result",
     "data": {
      "text/plain": [
       "        Missing Values  % of Total Values    Dtype\n",
       "diag_3            5131               5.00  float64\n",
       "diag_2            2538               2.50  float64\n",
       "diag_1            1645               1.60  float64"
      ],
      "text/html": [
       "<div>\n",
       "<style scoped>\n",
       "    .dataframe tbody tr th:only-of-type {\n",
       "        vertical-align: middle;\n",
       "    }\n",
       "\n",
       "    .dataframe tbody tr th {\n",
       "        vertical-align: top;\n",
       "    }\n",
       "\n",
       "    .dataframe thead th {\n",
       "        text-align: right;\n",
       "    }\n",
       "</style>\n",
       "<table border=\"1\" class=\"dataframe\">\n",
       "  <thead>\n",
       "    <tr style=\"text-align: right;\">\n",
       "      <th></th>\n",
       "      <th>Missing Values</th>\n",
       "      <th>% of Total Values</th>\n",
       "      <th>Dtype</th>\n",
       "    </tr>\n",
       "  </thead>\n",
       "  <tbody>\n",
       "    <tr>\n",
       "      <th>diag_3</th>\n",
       "      <td>5131</td>\n",
       "      <td>5.00</td>\n",
       "      <td>float64</td>\n",
       "    </tr>\n",
       "    <tr>\n",
       "      <th>diag_2</th>\n",
       "      <td>2538</td>\n",
       "      <td>2.50</td>\n",
       "      <td>float64</td>\n",
       "    </tr>\n",
       "    <tr>\n",
       "      <th>diag_1</th>\n",
       "      <td>1645</td>\n",
       "      <td>1.60</td>\n",
       "      <td>float64</td>\n",
       "    </tr>\n",
       "  </tbody>\n",
       "</table>\n",
       "</div>"
      ]
     },
     "metadata": {},
     "execution_count": 144
    }
   ],
   "metadata": {}
  },
  {
   "cell_type": "code",
   "execution_count": 145,
   "source": [
    "def map_readmitted(col):\n",
    "    readmitted_map = {'NO' : 'NO', '>30': 'YES', '<30': 'YES'}\n",
    "    return col.map(readmitted_map)\n",
    "\n",
    "db['fix_readmitted'] = map_readmitted(db['readmitted'])"
   ],
   "outputs": [],
   "metadata": {}
  },
  {
   "cell_type": "code",
   "execution_count": 71,
   "source": [
    "# unique encounter id\n",
    "db['change'].unique()"
   ],
   "outputs": [
    {
     "output_type": "execute_result",
     "data": {
      "text/plain": [
       "array(['No', 'Ch'], dtype=object)"
      ]
     },
     "metadata": {},
     "execution_count": 71
    }
   ],
   "metadata": {}
  },
  {
   "cell_type": "code",
   "execution_count": 50,
   "source": [
    "db.shape"
   ],
   "outputs": [
    {
     "output_type": "execute_result",
     "data": {
      "text/plain": [
       "(101766, 50)"
      ]
     },
     "metadata": {},
     "execution_count": 50
    }
   ],
   "metadata": {}
  },
  {
   "cell_type": "code",
   "execution_count": null,
   "source": [
    "pd.set_option('max_column', None)\n",
    "df = pd.read_excel(\"data/Week2_challenge_data_source.xlsx\", engine = 'openpyxl')\n",
    "df.head()"
   ],
   "outputs": [],
   "metadata": {}
  }
 ],
 "metadata": {
  "kernelspec": {
   "display_name": "Python 3",
   "language": "python",
   "name": "python3"
  },
  "language_info": {
   "codemirror_mode": {
    "name": "ipython",
    "version": 3
   },
   "file_extension": ".py",
   "mimetype": "text/x-python",
   "name": "python",
   "nbconvert_exporter": "python",
   "pygments_lexer": "ipython3",
   "version": "3.8.5"
  }
 },
 "nbformat": 4,
 "nbformat_minor": 5
}