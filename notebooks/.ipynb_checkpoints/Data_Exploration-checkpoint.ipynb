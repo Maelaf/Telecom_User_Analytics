{
 "cells": [
  {
   "cell_type": "markdown",
   "metadata": {
    "id": "aa4ed27a"
   },
   "source": [
    "Data Cleaning is one of the essential step towards making real meaning of any dataset. It makes the data ready for modelling and analysis.\n",
    "\n",
    "Here you will be learning how to do data cleaning."
   ]
  },
  {
   "cell_type": "code",
   "execution_count": 1,
   "metadata": {
    "executionInfo": {
     "elapsed": 536,
     "status": "ok",
     "timestamp": 1626169586067,
     "user": {
      "displayName": "Kevin Karobia",
      "photoUrl": "",
      "userId": "11620910033834049837"
     },
     "user_tz": -180
    },
    "id": "ee45d041"
   },
   "outputs": [],
   "source": [
    "import pandas as pd\n",
    "import numpy as np\n",
    "import seaborn as sns\n",
    "import matplotlib.pyplot as plt"
   ]
  },
  {
   "cell_type": "code",
   "execution_count": 2,
   "metadata": {
    "colab": {
     "base_uri": "https://localhost:8080/",
     "height": 296
    },
    "executionInfo": {
     "elapsed": 2081,
     "status": "ok",
     "timestamp": 1626169589203,
     "user": {
      "displayName": "Kevin Karobia",
      "photoUrl": "",
      "userId": "11620910033834049837"
     },
     "user_tz": -180
    },
    "id": "f1d57c38",
    "outputId": "cd07542f-cbd6-487d-b4c8-f7374122b80b"
   },
   "outputs": [
    {
     "data": {
      "text/html": [
       "<div>\n",
       "<style scoped>\n",
       "    .dataframe tbody tr th:only-of-type {\n",
       "        vertical-align: middle;\n",
       "    }\n",
       "\n",
       "    .dataframe tbody tr th {\n",
       "        vertical-align: top;\n",
       "    }\n",
       "\n",
       "    .dataframe thead th {\n",
       "        text-align: right;\n",
       "    }\n",
       "</style>\n",
       "<table border=\"1\" class=\"dataframe\">\n",
       "  <thead>\n",
       "    <tr style=\"text-align: right;\">\n",
       "      <th></th>\n",
       "      <th>Bearer Id</th>\n",
       "      <th>Start</th>\n",
       "      <th>Start ms</th>\n",
       "      <th>End</th>\n",
       "      <th>End ms</th>\n",
       "      <th>Dur. (ms)</th>\n",
       "      <th>IMSI</th>\n",
       "      <th>MSISDN/Number</th>\n",
       "      <th>IMEI</th>\n",
       "      <th>Last Location Name</th>\n",
       "      <th>...</th>\n",
       "      <th>Youtube DL (Bytes)</th>\n",
       "      <th>Youtube UL (Bytes)</th>\n",
       "      <th>Netflix DL (Bytes)</th>\n",
       "      <th>Netflix UL (Bytes)</th>\n",
       "      <th>Gaming DL (Bytes)</th>\n",
       "      <th>Gaming UL (Bytes)</th>\n",
       "      <th>Other DL (Bytes)</th>\n",
       "      <th>Other UL (Bytes)</th>\n",
       "      <th>Total UL (Bytes)</th>\n",
       "      <th>Total DL (Bytes)</th>\n",
       "    </tr>\n",
       "  </thead>\n",
       "  <tbody>\n",
       "    <tr>\n",
       "      <th>0</th>\n",
       "      <td>1.311448e+19</td>\n",
       "      <td>4/4/2019 12:01</td>\n",
       "      <td>770.0</td>\n",
       "      <td>4/25/2019 14:35</td>\n",
       "      <td>662.0</td>\n",
       "      <td>1823652.0</td>\n",
       "      <td>2.082014e+14</td>\n",
       "      <td>3.366496e+10</td>\n",
       "      <td>3.552121e+13</td>\n",
       "      <td>9.16456699548519E+015</td>\n",
       "      <td>...</td>\n",
       "      <td>15854611.0</td>\n",
       "      <td>2501332.0</td>\n",
       "      <td>8198936.0</td>\n",
       "      <td>9656251.0</td>\n",
       "      <td>278082303.0</td>\n",
       "      <td>14344150.0</td>\n",
       "      <td>171744450.0</td>\n",
       "      <td>8814393.0</td>\n",
       "      <td>36749741.0</td>\n",
       "      <td>308879636.0</td>\n",
       "    </tr>\n",
       "    <tr>\n",
       "      <th>1</th>\n",
       "      <td>1.311448e+19</td>\n",
       "      <td>4/9/2019 13:04</td>\n",
       "      <td>235.0</td>\n",
       "      <td>4/25/2019 8:15</td>\n",
       "      <td>606.0</td>\n",
       "      <td>1365104.0</td>\n",
       "      <td>2.082019e+14</td>\n",
       "      <td>3.368185e+10</td>\n",
       "      <td>3.579401e+13</td>\n",
       "      <td>L77566A</td>\n",
       "      <td>...</td>\n",
       "      <td>20247395.0</td>\n",
       "      <td>19111729.0</td>\n",
       "      <td>18338413.0</td>\n",
       "      <td>17227132.0</td>\n",
       "      <td>608750074.0</td>\n",
       "      <td>1170709.0</td>\n",
       "      <td>526904238.0</td>\n",
       "      <td>15055145.0</td>\n",
       "      <td>53800391.0</td>\n",
       "      <td>653384965.0</td>\n",
       "    </tr>\n",
       "    <tr>\n",
       "      <th>2</th>\n",
       "      <td>1.311448e+19</td>\n",
       "      <td>4/9/2019 17:42</td>\n",
       "      <td>1.0</td>\n",
       "      <td>4/25/2019 11:58</td>\n",
       "      <td>652.0</td>\n",
       "      <td>1361762.0</td>\n",
       "      <td>2.082003e+14</td>\n",
       "      <td>3.376063e+10</td>\n",
       "      <td>3.528151e+13</td>\n",
       "      <td>D42335A</td>\n",
       "      <td>...</td>\n",
       "      <td>19725661.0</td>\n",
       "      <td>14699576.0</td>\n",
       "      <td>17587794.0</td>\n",
       "      <td>6163408.0</td>\n",
       "      <td>229584621.0</td>\n",
       "      <td>395630.0</td>\n",
       "      <td>410692588.0</td>\n",
       "      <td>4215763.0</td>\n",
       "      <td>27883638.0</td>\n",
       "      <td>279807335.0</td>\n",
       "    </tr>\n",
       "    <tr>\n",
       "      <th>3</th>\n",
       "      <td>1.311448e+19</td>\n",
       "      <td>4/10/2019 0:31</td>\n",
       "      <td>486.0</td>\n",
       "      <td>4/25/2019 7:36</td>\n",
       "      <td>171.0</td>\n",
       "      <td>1321509.0</td>\n",
       "      <td>2.082014e+14</td>\n",
       "      <td>3.375034e+10</td>\n",
       "      <td>3.535661e+13</td>\n",
       "      <td>T21824A</td>\n",
       "      <td>...</td>\n",
       "      <td>21388122.0</td>\n",
       "      <td>15146643.0</td>\n",
       "      <td>13994646.0</td>\n",
       "      <td>1097942.0</td>\n",
       "      <td>799538153.0</td>\n",
       "      <td>10849722.0</td>\n",
       "      <td>749039933.0</td>\n",
       "      <td>12797283.0</td>\n",
       "      <td>43324218.0</td>\n",
       "      <td>846028530.0</td>\n",
       "    </tr>\n",
       "    <tr>\n",
       "      <th>4</th>\n",
       "      <td>1.311448e+19</td>\n",
       "      <td>4/12/2019 20:10</td>\n",
       "      <td>565.0</td>\n",
       "      <td>4/25/2019 10:40</td>\n",
       "      <td>954.0</td>\n",
       "      <td>1089009.0</td>\n",
       "      <td>2.082014e+14</td>\n",
       "      <td>3.369980e+10</td>\n",
       "      <td>3.540701e+13</td>\n",
       "      <td>D88865A</td>\n",
       "      <td>...</td>\n",
       "      <td>15259380.0</td>\n",
       "      <td>18962873.0</td>\n",
       "      <td>17124581.0</td>\n",
       "      <td>415218.0</td>\n",
       "      <td>527707248.0</td>\n",
       "      <td>3529801.0</td>\n",
       "      <td>550709500.0</td>\n",
       "      <td>13910322.0</td>\n",
       "      <td>38542814.0</td>\n",
       "      <td>569138589.0</td>\n",
       "    </tr>\n",
       "  </tbody>\n",
       "</table>\n",
       "<p>5 rows × 55 columns</p>\n",
       "</div>"
      ],
      "text/plain": [
       "      Bearer Id            Start  Start ms              End  End ms  \\\n",
       "0  1.311448e+19   4/4/2019 12:01     770.0  4/25/2019 14:35   662.0   \n",
       "1  1.311448e+19   4/9/2019 13:04     235.0   4/25/2019 8:15   606.0   \n",
       "2  1.311448e+19   4/9/2019 17:42       1.0  4/25/2019 11:58   652.0   \n",
       "3  1.311448e+19   4/10/2019 0:31     486.0   4/25/2019 7:36   171.0   \n",
       "4  1.311448e+19  4/12/2019 20:10     565.0  4/25/2019 10:40   954.0   \n",
       "\n",
       "   Dur. (ms)          IMSI  MSISDN/Number          IMEI  \\\n",
       "0  1823652.0  2.082014e+14   3.366496e+10  3.552121e+13   \n",
       "1  1365104.0  2.082019e+14   3.368185e+10  3.579401e+13   \n",
       "2  1361762.0  2.082003e+14   3.376063e+10  3.528151e+13   \n",
       "3  1321509.0  2.082014e+14   3.375034e+10  3.535661e+13   \n",
       "4  1089009.0  2.082014e+14   3.369980e+10  3.540701e+13   \n",
       "\n",
       "      Last Location Name  ...  Youtube DL (Bytes)  Youtube UL (Bytes)  \\\n",
       "0  9.16456699548519E+015  ...          15854611.0           2501332.0   \n",
       "1                L77566A  ...          20247395.0          19111729.0   \n",
       "2                D42335A  ...          19725661.0          14699576.0   \n",
       "3                T21824A  ...          21388122.0          15146643.0   \n",
       "4                D88865A  ...          15259380.0          18962873.0   \n",
       "\n",
       "   Netflix DL (Bytes)  Netflix UL (Bytes)  Gaming DL (Bytes)  \\\n",
       "0           8198936.0           9656251.0        278082303.0   \n",
       "1          18338413.0          17227132.0        608750074.0   \n",
       "2          17587794.0           6163408.0        229584621.0   \n",
       "3          13994646.0           1097942.0        799538153.0   \n",
       "4          17124581.0            415218.0        527707248.0   \n",
       "\n",
       "   Gaming UL (Bytes)  Other DL (Bytes)  Other UL (Bytes)  Total UL (Bytes)  \\\n",
       "0         14344150.0       171744450.0         8814393.0        36749741.0   \n",
       "1          1170709.0       526904238.0        15055145.0        53800391.0   \n",
       "2           395630.0       410692588.0         4215763.0        27883638.0   \n",
       "3         10849722.0       749039933.0        12797283.0        43324218.0   \n",
       "4          3529801.0       550709500.0        13910322.0        38542814.0   \n",
       "\n",
       "   Total DL (Bytes)  \n",
       "0       308879636.0  \n",
       "1       653384965.0  \n",
       "2       279807335.0  \n",
       "3       846028530.0  \n",
       "4       569138589.0  \n",
       "\n",
       "[5 rows x 55 columns]"
      ]
     },
     "execution_count": 2,
     "metadata": {},
     "output_type": "execute_result"
    }
   ],
   "source": [
    "db = pd.read_csv('../data/Week1_challenge_data_source(CSV).csv', na_values=['?', None])\n",
    "db.head()"
   ]
  },
  {
   "cell_type": "markdown",
   "metadata": {
    "id": "4428adf1"
   },
   "source": [
    "Before Cleaning a dataset, you need to explore what has been stored in it. The column names, how many data points,\n",
    "number of colum etc. All these questions needs to be answered"
   ]
  },
  {
   "cell_type": "code",
   "execution_count": 3,
   "metadata": {
    "colab": {
     "base_uri": "https://localhost:8080/"
    },
    "executionInfo": {
     "elapsed": 35,
     "status": "ok",
     "timestamp": 1626169589206,
     "user": {
      "displayName": "Kevin Karobia",
      "photoUrl": "",
      "userId": "11620910033834049837"
     },
     "user_tz": -180
    },
    "id": "d3d9e577",
    "outputId": "6aff993d-58f0-4136-a976-a623608e307d",
    "scrolled": true
   },
   "outputs": [
    {
     "data": {
      "text/plain": [
       "['Bearer Id',\n",
       " 'Start',\n",
       " 'Start ms',\n",
       " 'End',\n",
       " 'End ms',\n",
       " 'Dur. (ms)',\n",
       " 'IMSI',\n",
       " 'MSISDN/Number',\n",
       " 'IMEI',\n",
       " 'Last Location Name',\n",
       " 'Avg RTT DL (ms)',\n",
       " 'Avg RTT UL (ms)',\n",
       " 'Avg Bearer TP DL (kbps)',\n",
       " 'Avg Bearer TP UL (kbps)',\n",
       " 'TCP DL Retrans. Vol (Bytes)',\n",
       " 'TCP UL Retrans. Vol (Bytes)',\n",
       " 'DL TP < 50 Kbps (%)',\n",
       " '50 Kbps < DL TP < 250 Kbps (%)',\n",
       " '250 Kbps < DL TP < 1 Mbps (%)',\n",
       " 'DL TP > 1 Mbps (%)',\n",
       " 'UL TP < 10 Kbps (%)',\n",
       " '10 Kbps < UL TP < 50 Kbps (%)',\n",
       " '50 Kbps < UL TP < 300 Kbps (%)',\n",
       " 'UL TP > 300 Kbps (%)',\n",
       " 'HTTP DL (Bytes)',\n",
       " 'HTTP UL (Bytes)',\n",
       " 'Activity Duration DL (ms)',\n",
       " 'Activity Duration UL (ms)',\n",
       " 'Dur. (ms).1',\n",
       " 'Handset Manufacturer',\n",
       " 'Handset Type',\n",
       " 'Nb of sec with 125000B < Vol DL',\n",
       " 'Nb of sec with 1250B < Vol UL < 6250B',\n",
       " 'Nb of sec with 31250B < Vol DL < 125000B',\n",
       " 'Nb of sec with 37500B < Vol UL',\n",
       " 'Nb of sec with 6250B < Vol DL < 31250B',\n",
       " 'Nb of sec with 6250B < Vol UL < 37500B',\n",
       " 'Nb of sec with Vol DL < 6250B',\n",
       " 'Nb of sec with Vol UL < 1250B',\n",
       " 'Social Media DL (Bytes)',\n",
       " 'Social Media UL (Bytes)',\n",
       " 'Google DL (Bytes)',\n",
       " 'Google UL (Bytes)',\n",
       " 'Email DL (Bytes)',\n",
       " 'Email UL (Bytes)',\n",
       " 'Youtube DL (Bytes)',\n",
       " 'Youtube UL (Bytes)',\n",
       " 'Netflix DL (Bytes)',\n",
       " 'Netflix UL (Bytes)',\n",
       " 'Gaming DL (Bytes)',\n",
       " 'Gaming UL (Bytes)',\n",
       " 'Other DL (Bytes)',\n",
       " 'Other UL (Bytes)',\n",
       " 'Total UL (Bytes)',\n",
       " 'Total DL (Bytes)']"
      ]
     },
     "execution_count": 3,
     "metadata": {},
     "output_type": "execute_result"
    }
   ],
   "source": [
    "# column names\n",
    "db.columns.tolist()"
   ]
  },
  {
   "cell_type": "markdown",
   "metadata": {
    "id": "9ee8e8f3"
   },
   "source": [
    "For better understanding of the columns, Exploring the data description [here](https://docs.google.com/spreadsheets/d/1pcNqeUeIph6xAQzlI54KCvi8HM91SUNeeDbdOq3rvbE/edit#gid=784155610) will help"
   ]
  },
  {
   "cell_type": "code",
   "execution_count": 4,
   "metadata": {
    "colab": {
     "base_uri": "https://localhost:8080/"
    },
    "executionInfo": {
     "elapsed": 13,
     "status": "ok",
     "timestamp": 1626169591757,
     "user": {
      "displayName": "Kevin Karobia",
      "photoUrl": "",
      "userId": "11620910033834049837"
     },
     "user_tz": -180
    },
    "id": "1e3e673f",
    "outputId": "911fa16f-7a8d-44ec-efb8-e794a1797f14"
   },
   "outputs": [
    {
     "name": "stdout",
     "output_type": "stream",
     "text": [
      " There are 150001 rows and 55 columns\n"
     ]
    }
   ],
   "source": [
    "# number of data points\n",
    "print(f\" There are {db.shape[0]} rows and {db.shape[1]} columns\")"
   ]
  },
  {
   "cell_type": "markdown",
   "metadata": {
    "id": "2f58547a"
   },
   "source": [
    "## Handling Missing Values"
   ]
  },
  {
   "cell_type": "code",
   "execution_count": 5,
   "metadata": {
    "colab": {
     "base_uri": "https://localhost:8080/"
    },
    "executionInfo": {
     "elapsed": 25,
     "status": "ok",
     "timestamp": 1626169593507,
     "user": {
      "displayName": "Kevin Karobia",
      "photoUrl": "",
      "userId": "11620910033834049837"
     },
     "user_tz": -180
    },
    "id": "67977677",
    "outputId": "8e9d562f-04d4-48a7-bcd0-97f742c5922a"
   },
   "outputs": [
    {
     "name": "stdout",
     "output_type": "stream",
     "text": [
      "The dataset contains 12.5 % missing values.\n"
     ]
    }
   ],
   "source": [
    "# how many missing values exist or better still what is the % of missing values in the dataset?\n",
    "def percent_missing(df):\n",
    "\n",
    "    # Calculate total number of cells in dataframe\n",
    "    totalCells = np.product(df.shape)\n",
    "\n",
    "    # Count number of missing values per column\n",
    "    missingCount = df.isnull().sum()\n",
    "\n",
    "    # Calculate total number of missing values\n",
    "    totalMissing = missingCount.sum()\n",
    "\n",
    "    # Calculate percentage of missing values\n",
    "    print(\"The dataset contains\", round(((totalMissing/totalCells) * 100), 2), \"%\", \"missing values.\")\n",
    "\n",
    "percent_missing(db)"
   ]
  },
  {
   "cell_type": "code",
   "execution_count": 6,
   "metadata": {
    "colab": {
     "base_uri": "https://localhost:8080/"
    },
    "executionInfo": {
     "elapsed": 12,
     "status": "ok",
     "timestamp": 1626169593901,
     "user": {
      "displayName": "Kevin Karobia",
      "photoUrl": "",
      "userId": "11620910033834049837"
     },
     "user_tz": -180
    },
    "id": "33dae472",
    "outputId": "3dd5dfb5-77f5-4a3a-945a-72f034180199",
    "scrolled": true
   },
   "outputs": [
    {
     "data": {
      "text/plain": [
       "Bearer Id                                      991\n",
       "Start                                            1\n",
       "Start ms                                         1\n",
       "End                                              1\n",
       "End ms                                           1\n",
       "Dur. (ms)                                        1\n",
       "IMSI                                           570\n",
       "MSISDN/Number                                 1066\n",
       "IMEI                                           572\n",
       "Last Location Name                            1153\n",
       "Avg RTT DL (ms)                              27829\n",
       "Avg RTT UL (ms)                              27812\n",
       "Avg Bearer TP DL (kbps)                          1\n",
       "Avg Bearer TP UL (kbps)                          1\n",
       "TCP DL Retrans. Vol (Bytes)                  88146\n",
       "TCP UL Retrans. Vol (Bytes)                  96649\n",
       "DL TP < 50 Kbps (%)                            754\n",
       "50 Kbps < DL TP < 250 Kbps (%)                 754\n",
       "250 Kbps < DL TP < 1 Mbps (%)                  754\n",
       "DL TP > 1 Mbps (%)                             754\n",
       "UL TP < 10 Kbps (%)                            792\n",
       "10 Kbps < UL TP < 50 Kbps (%)                  792\n",
       "50 Kbps < UL TP < 300 Kbps (%)                 792\n",
       "UL TP > 300 Kbps (%)                           792\n",
       "HTTP DL (Bytes)                              81474\n",
       "HTTP UL (Bytes)                              81810\n",
       "Activity Duration DL (ms)                        1\n",
       "Activity Duration UL (ms)                        1\n",
       "Dur. (ms).1                                      1\n",
       "Handset Manufacturer                           572\n",
       "Handset Type                                   572\n",
       "Nb of sec with 125000B < Vol DL              97538\n",
       "Nb of sec with 1250B < Vol UL < 6250B        92894\n",
       "Nb of sec with 31250B < Vol DL < 125000B     93586\n",
       "Nb of sec with 37500B < Vol UL              130254\n",
       "Nb of sec with 6250B < Vol DL < 31250B       88317\n",
       "Nb of sec with 6250B < Vol UL < 37500B      111843\n",
       "Nb of sec with Vol DL < 6250B                  755\n",
       "Nb of sec with Vol UL < 1250B                  793\n",
       "Social Media DL (Bytes)                          0\n",
       "Social Media UL (Bytes)                          0\n",
       "Google DL (Bytes)                                0\n",
       "Google UL (Bytes)                                0\n",
       "Email DL (Bytes)                                 0\n",
       "Email UL (Bytes)                                 0\n",
       "Youtube DL (Bytes)                               0\n",
       "Youtube UL (Bytes)                               0\n",
       "Netflix DL (Bytes)                               0\n",
       "Netflix UL (Bytes)                               0\n",
       "Gaming DL (Bytes)                                0\n",
       "Gaming UL (Bytes)                                0\n",
       "Other DL (Bytes)                                 0\n",
       "Other UL (Bytes)                                 0\n",
       "Total UL (Bytes)                                 1\n",
       "Total DL (Bytes)                                 1\n",
       "dtype: int64"
      ]
     },
     "execution_count": 6,
     "metadata": {},
     "output_type": "execute_result"
    }
   ],
   "source": [
    "# Now which column(s) has missing values\n",
    "db.isna().sum()"
   ]
  },
  {
   "cell_type": "markdown",
   "metadata": {
    "id": "82322398"
   },
   "source": [
    "Well, Looks like some columns has alot of missing values.\n",
    "\n",
    "Up Next How to fix missing values"
   ]
  },
  {
   "cell_type": "markdown",
   "metadata": {
    "id": "c83faeff"
   },
   "source": [
    "Fixing Missing values is a crucial part of any data science/ML project because you might be making the data better by your method or otherwise. So your decision has to be perfect or close enough.\n",
    "\n",
    "The rule of thumb is for all object datatype kind of column/features use the mode method to fill the missing datapoints and for number kind of features use the mean/median method.\n",
    "\n",
    "The question now is how to choose which method to fill a number feature with. Well the simple answer is check if it is skewed. Now what is skew?\n",
    "\n",
    "Back to the rule of thumb, if the data is not skewed, filling with either mean or median will work well. But if it is indeed skew, then fill with Median. The idea is ...."
   ]
  },
  {
   "cell_type": "markdown",
   "metadata": {
    "id": "d8d4d436"
   },
   "source": [
    "Other method of dealing with missing values exists like fill-forward,backward-fill etc"
   ]
  },
  {
   "cell_type": "markdown",
   "metadata": {
    "id": "280fa475"
   },
   "source": [
    "You also need to consider what the column represent before you fill missing values for example:  ...\n",
    "\n",
    "Another easy way to do this is to just drop all misisng rows and moving on with analysis if you have data left atleast."
   ]
  },
  {
   "cell_type": "code",
   "execution_count": 7,
   "metadata": {},
   "outputs": [
    {
     "name": "stdout",
     "output_type": "stream",
     "text": [
      "                                                                       column_name  \\\n",
      "Youtube DL (Bytes)                                              Youtube DL (Bytes)   \n",
      "Other UL (Bytes)                                                  Other UL (Bytes)   \n",
      "Other DL (Bytes)                                                  Other DL (Bytes)   \n",
      "Gaming UL (Bytes)                                                Gaming UL (Bytes)   \n",
      "Gaming DL (Bytes)                                                Gaming DL (Bytes)   \n",
      "Netflix UL (Bytes)                                              Netflix UL (Bytes)   \n",
      "Netflix DL (Bytes)                                              Netflix DL (Bytes)   \n",
      "Youtube UL (Bytes)                                              Youtube UL (Bytes)   \n",
      "Email UL (Bytes)                                                  Email UL (Bytes)   \n",
      "Email DL (Bytes)                                                  Email DL (Bytes)   \n",
      "Google UL (Bytes)                                                Google UL (Bytes)   \n",
      "Google DL (Bytes)                                                Google DL (Bytes)   \n",
      "Social Media UL (Bytes)                                    Social Media UL (Bytes)   \n",
      "Social Media DL (Bytes)                                    Social Media DL (Bytes)   \n",
      "Dur. (ms).1                                                            Dur. (ms).1   \n",
      "Activity Duration UL (ms)                                Activity Duration UL (ms)   \n",
      "Total UL (Bytes)                                                  Total UL (Bytes)   \n",
      "Activity Duration DL (ms)                                Activity Duration DL (ms)   \n",
      "Total DL (Bytes)                                                  Total DL (Bytes)   \n",
      "Avg Bearer TP UL (kbps)                                    Avg Bearer TP UL (kbps)   \n",
      "Avg Bearer TP DL (kbps)                                    Avg Bearer TP DL (kbps)   \n",
      "Dur. (ms)                                                                Dur. (ms)   \n",
      "Start                                                                        Start   \n",
      "Start ms                                                                  Start ms   \n",
      "End ms                                                                      End ms   \n",
      "End                                                                            End   \n",
      "IMSI                                                                          IMSI   \n",
      "IMEI                                                                          IMEI   \n",
      "Handset Type                                                          Handset Type   \n",
      "Handset Manufacturer                                          Handset Manufacturer   \n",
      "DL TP < 50 Kbps (%)                                            DL TP < 50 Kbps (%)   \n",
      "50 Kbps < DL TP < 250 Kbps (%)                      50 Kbps < DL TP < 250 Kbps (%)   \n",
      "250 Kbps < DL TP < 1 Mbps (%)                        250 Kbps < DL TP < 1 Mbps (%)   \n",
      "DL TP > 1 Mbps (%)                                              DL TP > 1 Mbps (%)   \n",
      "Nb of sec with Vol DL < 6250B                        Nb of sec with Vol DL < 6250B   \n",
      "UL TP > 300 Kbps (%)                                          UL TP > 300 Kbps (%)   \n",
      "50 Kbps < UL TP < 300 Kbps (%)                      50 Kbps < UL TP < 300 Kbps (%)   \n",
      "10 Kbps < UL TP < 50 Kbps (%)                        10 Kbps < UL TP < 50 Kbps (%)   \n",
      "UL TP < 10 Kbps (%)                                            UL TP < 10 Kbps (%)   \n",
      "Nb of sec with Vol UL < 1250B                        Nb of sec with Vol UL < 1250B   \n",
      "Bearer Id                                                                Bearer Id   \n",
      "MSISDN/Number                                                        MSISDN/Number   \n",
      "Last Location Name                                              Last Location Name   \n",
      "Avg RTT UL (ms)                                                    Avg RTT UL (ms)   \n",
      "Avg RTT DL (ms)                                                    Avg RTT DL (ms)   \n",
      "HTTP DL (Bytes)                                                    HTTP DL (Bytes)   \n",
      "HTTP UL (Bytes)                                                    HTTP UL (Bytes)   \n",
      "TCP DL Retrans. Vol (Bytes)                            TCP DL Retrans. Vol (Bytes)   \n",
      "Nb of sec with 6250B < Vol DL < 31250B      Nb of sec with 6250B < Vol DL < 31250B   \n",
      "Nb of sec with 1250B < Vol UL < 6250B        Nb of sec with 1250B < Vol UL < 6250B   \n",
      "Nb of sec with 31250B < Vol DL < 125000B  Nb of sec with 31250B < Vol DL < 125000B   \n",
      "TCP UL Retrans. Vol (Bytes)                            TCP UL Retrans. Vol (Bytes)   \n",
      "Nb of sec with 125000B < Vol DL                    Nb of sec with 125000B < Vol DL   \n",
      "Nb of sec with 6250B < Vol UL < 37500B      Nb of sec with 6250B < Vol UL < 37500B   \n",
      "Nb of sec with 37500B < Vol UL                      Nb of sec with 37500B < Vol UL   \n",
      "\n",
      "                                          percent_missing  \n",
      "Youtube DL (Bytes)                               0.000000  \n",
      "Other UL (Bytes)                                 0.000000  \n",
      "Other DL (Bytes)                                 0.000000  \n",
      "Gaming UL (Bytes)                                0.000000  \n",
      "Gaming DL (Bytes)                                0.000000  \n",
      "Netflix UL (Bytes)                               0.000000  \n",
      "Netflix DL (Bytes)                               0.000000  \n",
      "Youtube UL (Bytes)                               0.000000  \n",
      "Email UL (Bytes)                                 0.000000  \n",
      "Email DL (Bytes)                                 0.000000  \n",
      "Google UL (Bytes)                                0.000000  \n",
      "Google DL (Bytes)                                0.000000  \n",
      "Social Media UL (Bytes)                          0.000000  \n",
      "Social Media DL (Bytes)                          0.000000  \n",
      "Dur. (ms).1                                      0.000667  \n",
      "Activity Duration UL (ms)                        0.000667  \n",
      "Total UL (Bytes)                                 0.000667  \n",
      "Activity Duration DL (ms)                        0.000667  \n",
      "Total DL (Bytes)                                 0.000667  \n",
      "Avg Bearer TP UL (kbps)                          0.000667  \n",
      "Avg Bearer TP DL (kbps)                          0.000667  \n",
      "Dur. (ms)                                        0.000667  \n",
      "Start                                            0.000667  \n",
      "Start ms                                         0.000667  \n",
      "End ms                                           0.000667  \n",
      "End                                              0.000667  \n",
      "IMSI                                             0.379997  \n",
      "IMEI                                             0.381331  \n",
      "Handset Type                                     0.381331  \n",
      "Handset Manufacturer                             0.381331  \n",
      "DL TP < 50 Kbps (%)                              0.502663  \n",
      "50 Kbps < DL TP < 250 Kbps (%)                   0.502663  \n",
      "250 Kbps < DL TP < 1 Mbps (%)                    0.502663  \n",
      "DL TP > 1 Mbps (%)                               0.502663  \n",
      "Nb of sec with Vol DL < 6250B                    0.503330  \n",
      "UL TP > 300 Kbps (%)                             0.527996  \n",
      "50 Kbps < UL TP < 300 Kbps (%)                   0.527996  \n",
      "10 Kbps < UL TP < 50 Kbps (%)                    0.527996  \n",
      "UL TP < 10 Kbps (%)                              0.527996  \n",
      "Nb of sec with Vol UL < 1250B                    0.528663  \n",
      "Bearer Id                                        0.660662  \n",
      "MSISDN/Number                                    0.710662  \n",
      "Last Location Name                               0.768662  \n",
      "Avg RTT UL (ms)                                 18.541210  \n",
      "Avg RTT DL (ms)                                 18.552543  \n",
      "HTTP DL (Bytes)                                 54.315638  \n",
      "HTTP UL (Bytes)                                 54.539636  \n",
      "TCP DL Retrans. Vol (Bytes)                     58.763608  \n",
      "Nb of sec with 6250B < Vol DL < 31250B          58.877607  \n",
      "Nb of sec with 1250B < Vol UL < 6250B           61.928920  \n",
      "Nb of sec with 31250B < Vol DL < 125000B        62.390251  \n",
      "TCP UL Retrans. Vol (Bytes)                     64.432237  \n",
      "Nb of sec with 125000B < Vol DL                 65.024900  \n",
      "Nb of sec with 6250B < Vol UL < 37500B          74.561503  \n",
      "Nb of sec with 37500B < Vol UL                  86.835421  \n"
     ]
    }
   ],
   "source": [
    "# To see the percentage of missing values of every columns\n",
    "def every_column_percent_missing(df):\n",
    "    percent_missing = df.isnull().sum() * 100 / len(df)\n",
    "    missing_value_db = pd.DataFrame({'column_name': df.columns,\n",
    "                                     'percent_missing': percent_missing})\n",
    "\n",
    "    missing_value_db.sort_values('percent_missing', inplace=True)\n",
    "\n",
    "    print(missing_value_db)\n",
    "\n",
    "\n",
    "every_column_percent_missing(db)"
   ]
  },
  {
   "cell_type": "code",
   "execution_count": 8,
   "metadata": {},
   "outputs": [
    {
     "data": {
      "text/plain": [
       "(150001, 45)"
      ]
     },
     "execution_count": 8,
     "metadata": {},
     "output_type": "execute_result"
    }
   ],
   "source": [
    "# drop columns with more than 50% missing values\n",
    "df_clean = db.drop(['HTTP DL (Bytes)', 'HTTP UL (Bytes)', 'TCP DL Retrans. Vol (Bytes)', 'Nb of sec with 6250B < Vol DL < 31250B', 'Nb of sec with 1250B < Vol UL < 6250B', 'Nb of sec with 31250B < Vol DL < 125000B', 'TCP UL Retrans. Vol (Bytes)', 'Nb of sec with 125000B < Vol DL', 'Nb of sec with 6250B < Vol UL < 37500B', 'Nb of sec with 37500B < Vol UL'], axis=1)\n",
    "\n",
    "df_clean.shape"
   ]
  },
  {
   "cell_type": "code",
   "execution_count": 9,
   "metadata": {},
   "outputs": [
    {
     "data": {
      "text/plain": [
       "Bearer Id                           991\n",
       "Start                                 1\n",
       "Start ms                              1\n",
       "End                                   1\n",
       "End ms                                1\n",
       "Dur. (ms)                             1\n",
       "IMSI                                570\n",
       "MSISDN/Number                      1066\n",
       "IMEI                                572\n",
       "Last Location Name                 1153\n",
       "Avg RTT DL (ms)                   27829\n",
       "Avg RTT UL (ms)                   27812\n",
       "Avg Bearer TP DL (kbps)               1\n",
       "Avg Bearer TP UL (kbps)               1\n",
       "DL TP < 50 Kbps (%)                 754\n",
       "50 Kbps < DL TP < 250 Kbps (%)      754\n",
       "250 Kbps < DL TP < 1 Mbps (%)       754\n",
       "DL TP > 1 Mbps (%)                  754\n",
       "UL TP < 10 Kbps (%)                 792\n",
       "10 Kbps < UL TP < 50 Kbps (%)       792\n",
       "50 Kbps < UL TP < 300 Kbps (%)      792\n",
       "UL TP > 300 Kbps (%)                792\n",
       "Activity Duration DL (ms)             1\n",
       "Activity Duration UL (ms)             1\n",
       "Dur. (ms).1                           1\n",
       "Handset Manufacturer                572\n",
       "Handset Type                        572\n",
       "Nb of sec with Vol DL < 6250B       755\n",
       "Nb of sec with Vol UL < 1250B       793\n",
       "Social Media DL (Bytes)               0\n",
       "Social Media UL (Bytes)               0\n",
       "Google DL (Bytes)                     0\n",
       "Google UL (Bytes)                     0\n",
       "Email DL (Bytes)                      0\n",
       "Email UL (Bytes)                      0\n",
       "Youtube DL (Bytes)                    0\n",
       "Youtube UL (Bytes)                    0\n",
       "Netflix DL (Bytes)                    0\n",
       "Netflix UL (Bytes)                    0\n",
       "Gaming DL (Bytes)                     0\n",
       "Gaming UL (Bytes)                     0\n",
       "Other DL (Bytes)                      0\n",
       "Other UL (Bytes)                      0\n",
       "Total UL (Bytes)                      1\n",
       "Total DL (Bytes)                      1\n",
       "dtype: int64"
      ]
     },
     "execution_count": 9,
     "metadata": {},
     "output_type": "execute_result"
    }
   ],
   "source": [
    "df_clean.isna().sum()"
   ]
  },
  {
   "cell_type": "code",
   "execution_count": 10,
   "metadata": {},
   "outputs": [
    {
     "name": "stdout",
     "output_type": "stream",
     "text": [
      "The dataset contains 1.02 % missing values.\n"
     ]
    }
   ],
   "source": [
    "# how many missing values exist on the new cleaned dataset on percentage ?\n",
    "\n",
    "percent_missing(df_clean)\n"
   ]
  },
  {
   "cell_type": "code",
   "execution_count": 11,
   "metadata": {},
   "outputs": [],
   "source": [
    "#df_clean['# fill missing with ffill method for columns ()\n",
    "\n",
    "def fix_missing_ffill(df, col):\n",
    "    df[col] = df[col].fillna(method='ffill')\n",
    "    return df[col]\n",
    "\n",
    "\n",
    "def fix_missing_bfill(df, col):\n",
    "    df[col] = df[col].fillna(method='bfill')\n",
    "    return df[col]\n",
    "\n",
    "df_clean['Dur. (ms).1'] = fix_missing_ffill(df_clean, 'Dur. (ms).1')\n",
    "df_clean['Activity Duration DL (ms)'] = fix_missing_ffill(df_clean, 'Activity Duration DL (ms)')\n",
    "df_clean['Activity Duration UL (ms)'] = fix_missing_ffill(df_clean, 'Activity Duration UL (ms)')\n",
    "df_clean['Total UL (Bytes)'] = fix_missing_ffill(df_clean, 'Total UL (Bytes)')\n",
    "df_clean['Total DL (Bytes)'] = fix_missing_ffill(df_clean, 'Total DL (Bytes)')\n",
    "df_clean['Avg Bearer TP DL (kbps)'] = fix_missing_ffill(df_clean, 'Avg Bearer TP DL (kbps)')\n",
    "df_clean['Start'] = fix_missing_ffill(df_clean, 'Start')\n",
    "df_clean['Start ms'] = fix_missing_ffill(df_clean, 'Start ms')\n",
    "df_clean['End'] = fix_missing_ffill(df_clean, 'End')\n",
    "df_clean['Avg Bearer TP UL (kbps)'] = fix_missing_ffill(df_clean, 'Avg Bearer TP UL (kbps)')\n",
    "df_clean['End ms'] = fix_missing_ffill(df_clean, 'End ms')\n",
    "df_clean['Dur. (ms)'] = fix_missing_ffill(df_clean, 'Dur. (ms)')\n",
    "df_clean['IMSI'] = fix_missing_ffill(df_clean, 'IMSI')\n",
    "df_clean['DL TP > 1 Mbps (%)'] = fix_missing_ffill(df_clean, 'DL TP > 1 Mbps (%)')\n",
    "df_clean['250 Kbps < DL TP < 1 Mbps (%)'] = fix_missing_ffill(df_clean, '250 Kbps < DL TP < 1 Mbps (%)')\n",
    "df_clean['50 Kbps < DL TP < 250 Kbps (%)'] = fix_missing_ffill(df_clean, '50 Kbps < DL TP < 250 Kbps (%)')\n",
    "df_clean['DL TP < 50 Kbps (%)'] = fix_missing_ffill(df_clean, 'DL TP < 50 Kbps (%)')\n",
    "df_clean['Nb of sec with Vol DL < 6250B'] = fix_missing_ffill(df_clean, 'Nb of sec with Vol DL < 6250B')\n",
    "df_clean['10 Kbps < UL TP < 50 Kbps (%)'] = fix_missing_ffill(df_clean, '10 Kbps < UL TP < 50 Kbps (%)')\n",
    "df_clean['UL TP < 10 Kbps (%)'] = fix_missing_ffill(df_clean, 'UL TP < 10 Kbps (%)')\n",
    "df_clean['UL TP > 300 Kbps (%)'] = fix_missing_ffill(df_clean, 'UL TP > 300 Kbps (%)')\n",
    "df_clean['50 Kbps < UL TP < 300 Kbps (%)'] = fix_missing_ffill(df_clean, '50 Kbps < UL TP < 300 Kbps (%)')\n",
    "df_clean['Nb of sec with Vol UL < 1250B'] = fix_missing_ffill(df_clean, 'Nb of sec with Vol UL < 1250B')\n",
    "df_clean['Bearer Id'] = fix_missing_ffill(df_clean, 'Bearer Id')\n",
    "df_clean['Last Location Name'] = fix_missing_ffill(df_clean, 'Last Location Name')\n",
    "\n",
    "# fill 'Handset Type, Handset Manufacturer, IMEI & MSISDN/Number' column with mode \n",
    "df_clean['Handset Manufacturer'] = df_clean['Handset Manufacturer'].fillna(df_clean['Handset Manufacturer'].mode()[0])\n",
    "df_clean['Handset Type'] = df_clean['Handset Type'].fillna(df_clean['Handset Type'].mode()[0])\n",
    "df_clean['IMEI'] = df_clean['IMEI'].fillna(df_clean['IMEI'].mode()[0])\n",
    "df_clean['MSISDN/Number'] = df_clean['MSISDN/Number'].fillna(df_clean['MSISDN/Number'].mode()[0])\n"
   ]
  },
  {
   "cell_type": "markdown",
   "metadata": {
    "id": "202923f1"
   },
   "source": [
    "Other missing columns can be fixed based on your understanding, you can decide to drop or fill using appropriate methods. Whichever you decide, explain your reasons  "
   ]
  },
  {
   "cell_type": "markdown",
   "metadata": {
    "id": "2f92e917"
   },
   "source": [
    "## Transforming Data\n",
    "\n",
    "**Scaling and Normalization**"
   ]
  },
  {
   "cell_type": "markdown",
   "metadata": {
    "id": "31af9f33"
   },
   "source": [
    "Scaling vs. Normalization: What's the difference?\n",
    "\n",
    "One of the reasons that it's easy to get confused between scaling and normalization is because the terms are sometimes used interchangeably and, to make it even more confusing, they are very similar! In both cases, you're transforming the values of numeric variables so that the transformed data points have specific helpful properties. The difference is that:\n",
    "\n",
    "    - in scaling, you're changing the range of your data, while\n",
    "    - in normalization, you're changing the shape of the distribution of your data.\n",
    "\n",
    "Scaling\n",
    "\n",
    "This means that you're transforming your data so that it fits within a specific scale, like 0-100 or 0-1. You want to scale data when you're using methods based on measures of how far apart data points are, like support vector machines (SVM) or k-nearest neighbors (KNN). With these algorithms, a change of \"1\" in any numeric feature is given the same importance.\n",
    "\n",
    "For example, you might be looking at the prices of some products in both Yen and US Dollars. One US Dollar is worth about 100 Yen, but if you don't scale your prices, methods like SVM or KNN will consider a difference in price of 1 Yen as important as a difference of 1 US Dollar! This clearly doesn't fit with our intuitions of the world. With currency, you can convert between currencies. But what about if you're looking at something like height and weight? It's not entirely clear how many pounds should equal one inch (or how many kilograms should equal one meter).\n",
    "\n",
    "\n"
   ]
  },
  {
   "cell_type": "code",
   "execution_count": 47,
   "metadata": {
    "colab": {
     "base_uri": "https://localhost:8080/",
     "height": 206
    },
    "executionInfo": {
     "elapsed": 33,
     "status": "ok",
     "timestamp": 1626169602345,
     "user": {
      "displayName": "Kevin Karobia",
      "photoUrl": "",
      "userId": "11620910033834049837"
     },
     "user_tz": -180
    },
    "id": "4db69c6f",
    "outputId": "492c9061-e9b3-49ee-8499-23259cd863e6"
   },
   "outputs": [
    {
     "data": {
      "text/html": [
       "<div>\n",
       "<style scoped>\n",
       "    .dataframe tbody tr th:only-of-type {\n",
       "        vertical-align: middle;\n",
       "    }\n",
       "\n",
       "    .dataframe tbody tr th {\n",
       "        vertical-align: top;\n",
       "    }\n",
       "\n",
       "    .dataframe thead th {\n",
       "        text-align: right;\n",
       "    }\n",
       "</style>\n",
       "<table border=\"1\" class=\"dataframe\">\n",
       "  <thead>\n",
       "    <tr style=\"text-align: right;\">\n",
       "      <th></th>\n",
       "      <th>0</th>\n",
       "    </tr>\n",
       "  </thead>\n",
       "  <tbody>\n",
       "    <tr>\n",
       "      <th>0</th>\n",
       "      <td>317.40</td>\n",
       "    </tr>\n",
       "    <tr>\n",
       "      <th>1</th>\n",
       "      <td>425.81</td>\n",
       "    </tr>\n",
       "    <tr>\n",
       "      <th>2</th>\n",
       "      <td>97.76</td>\n",
       "    </tr>\n",
       "    <tr>\n",
       "      <th>3</th>\n",
       "      <td>64.43</td>\n",
       "    </tr>\n",
       "    <tr>\n",
       "      <th>4</th>\n",
       "      <td>146.28</td>\n",
       "    </tr>\n",
       "    <tr>\n",
       "      <th>...</th>\n",
       "      <td>...</td>\n",
       "    </tr>\n",
       "    <tr>\n",
       "      <th>115</th>\n",
       "      <td>66.71</td>\n",
       "    </tr>\n",
       "    <tr>\n",
       "      <th>116</th>\n",
       "      <td>199.82</td>\n",
       "    </tr>\n",
       "    <tr>\n",
       "      <th>117</th>\n",
       "      <td>5.30</td>\n",
       "    </tr>\n",
       "    <tr>\n",
       "      <th>118</th>\n",
       "      <td>7.62</td>\n",
       "    </tr>\n",
       "    <tr>\n",
       "      <th>119</th>\n",
       "      <td>185.97</td>\n",
       "    </tr>\n",
       "  </tbody>\n",
       "</table>\n",
       "<p>120 rows × 1 columns</p>\n",
       "</div>"
      ],
      "text/plain": [
       "         0\n",
       "0   317.40\n",
       "1   425.81\n",
       "2    97.76\n",
       "3    64.43\n",
       "4   146.28\n",
       "..     ...\n",
       "115  66.71\n",
       "116 199.82\n",
       "117   5.30\n",
       "118   7.62\n",
       "119 185.97\n",
       "\n",
       "[120 rows x 1 columns]"
      ]
     },
     "execution_count": 47,
     "metadata": {},
     "output_type": "execute_result"
    }
   ],
   "source": [
    "from sklearn.preprocessing import MinMaxScaler\n",
    "\n",
    "minmax_scaler = MinMaxScaler()\n",
    "\n",
    "# generate 1000 data points randomly drawn from an exponential distribution\n",
    "original_data = pd.DataFrame(np.random.exponential(200, size=2000))\n",
    "\n",
    "original_data.sample(5)"
   ]
  },
  {
   "cell_type": "code",
   "execution_count": 13,
   "metadata": {
    "colab": {
     "base_uri": "https://localhost:8080/"
    },
    "executionInfo": {
     "elapsed": 31,
     "status": "ok",
     "timestamp": 1626169602347,
     "user": {
      "displayName": "Kevin Karobia",
      "photoUrl": "",
      "userId": "11620910033834049837"
     },
     "user_tz": -180
    },
    "id": "887126c7",
    "outputId": "2b065ca4-2508-47b7-a915-dafdb4f0a385"
   },
   "outputs": [
    {
     "data": {
      "text/plain": [
       "(0.08950039857230162, 1815.3164109125014)"
      ]
     },
     "execution_count": 13,
     "metadata": {},
     "output_type": "execute_result"
    }
   ],
   "source": [
    "original_data[0].min(), original_data[0].max()"
   ]
  },
  {
   "cell_type": "code",
   "execution_count": 14,
   "metadata": {
    "colab": {
     "base_uri": "https://localhost:8080/",
     "height": 265
    },
    "executionInfo": {
     "elapsed": 47646,
     "status": "ok",
     "timestamp": 1626169651337,
     "user": {
      "displayName": "Kevin Karobia",
      "photoUrl": "",
      "userId": "11620910033834049837"
     },
     "user_tz": -180
    },
    "id": "2c7ac099",
    "outputId": "7174aa3f-5c28-4462-bdb9-0df8653a6d17"
   },
   "outputs": [
    {
     "data": {
      "image/png": "[encoded data removed]",
      "text/plain": [
       "<Figure size 432x288 with 1 Axes>"
      ]
     },
     "metadata": {
      "needs_background": "light"
     },
     "output_type": "display_data"
    }
   ],
   "source": [
    "count, bins, ignored = plt.hist(original_data, 14)\n",
    "plt.show()"
   ]
  },
  {
   "cell_type": "code",
   "execution_count": 15,
   "metadata": {
    "colab": {
     "base_uri": "https://localhost:8080/",
     "height": 390
    },
    "executionInfo": {
     "elapsed": 1252,
     "status": "ok",
     "timestamp": 1626169653704,
     "user": {
      "displayName": "Kevin Karobia",
      "photoUrl": "",
      "userId": "11620910033834049837"
     },
     "user_tz": -180
    },
    "id": "f72facb7",
    "outputId": "0a9f07df-862f-4aa4-99bf-9d822f043557"
   },
   "outputs": [
    {
     "data": {
      "image/png": "[encoded data removed]",
      "text/plain": [
       "<Figure size 720x432 with 2 Axes>"
      ]
     },
     "metadata": {
      "needs_background": "light"
     },
     "output_type": "display_data"
    }
   ],
   "source": [
    "# mix-max scale the data between 0 and 1\n",
    "def scaler(df):\n",
    "    scaled_data = minmax_scaler.fit_transform(df)\n",
    "\n",
    "    # plot both together to compare\n",
    "    fig, ax = plt.subplots(1,2, figsize=(10, 6))\n",
    "    sns.histplot(original_data, ax=ax[0])\n",
    "    ax[0].set_title(\"Original Data\")\n",
    "    sns.histplot(scaled_data, ax=ax[1])\n",
    "    ax[1].set_title(\"Scaled data\")\n",
    "    \n",
    "scaler(original_data)"
   ]
  },
  {
   "cell_type": "markdown",
   "metadata": {
    "id": "c3293805"
   },
   "source": [
    "Normalization\n",
    "\n",
    "Scaling just changes the range of your data. Normalization is a more radical transformation. The point of normalization is to change your observations so that they can be described as a normal distribution.\n",
    "\n",
    "    Normal distribution: Also known as the \"bell curve\", this is a specific statistical distribution where a roughly equal observations fall above and below the mean, the mean and the median are the same, and there are more observations closer to the mean. The normal distribution is also known as the Gaussian distribution.\n",
    "\n",
    "In general, you'll normalize your data if you're going to be using a machine learning or statistics technique that assumes your data is normally distributed. Some examples of these include linear discriminant analysis (LDA) and Gaussian naive Bayes. (Pro tip: any method with \"Gaussian\" in the name probably assumes normality.)\n",
    "\n",
    "The method you will be using to normalize here is called the Normalizer method from sklearn. Let's take a quick peek at what normalizing some data looks like:"
   ]
  },
  {
   "cell_type": "code",
   "execution_count": 16,
   "metadata": {
    "colab": {
     "base_uri": "https://localhost:8080/",
     "height": 390
    },
    "executionInfo": {
     "elapsed": 460,
     "status": "ok",
     "timestamp": 1626169654145,
     "user": {
      "displayName": "Kevin Karobia",
      "photoUrl": "",
      "userId": "11620910033834049837"
     },
     "user_tz": -180
    },
    "id": "168acc4d",
    "outputId": "498cf3f0-697e-4aab-f986-1f37c54c9df8"
   },
   "outputs": [
    {
     "data": {
      "image/png": "[encoded data removed]",
      "text/plain": [
       "<Figure size 720x432 with 2 Axes>"
      ]
     },
     "metadata": {
      "needs_background": "light"
     },
     "output_type": "display_data"
    }
   ],
   "source": [
    "from sklearn.preprocessing import Normalizer\n",
    "\n",
    "def normalizer(df):\n",
    "    norm = Normalizer()\n",
    "    # normalize the exponential data with boxcox\n",
    "    normalized_data = norm.fit_transform(df)\n",
    "\n",
    "    # plot both together to compare\n",
    "    fig, ax=plt.subplots(1,2, figsize=(10, 6))\n",
    "    sns.histplot(df, ax=ax[0])\n",
    "    ax[0].set_title(\"Original Data\")\n",
    "    sns.histplot(normalized_data[0], ax=ax[1])\n",
    "    ax[1].set_title(\"Normalized data\")\n",
    "\n",
    "normalizer(original_data)"
   ]
  },
  {
   "cell_type": "code",
   "execution_count": 17,
   "metadata": {
    "colab": {
     "base_uri": "https://localhost:8080/"
    },
    "executionInfo": {
     "elapsed": 29,
     "status": "ok",
     "timestamp": 1626169654147,
     "user": {
      "displayName": "Kevin Karobia",
      "photoUrl": "",
      "userId": "11620910033834049837"
     },
     "user_tz": -180
    },
    "id": "2943df05",
    "outputId": "f7192dec-fc2b-4036-f917-5a37ca952fde"
   },
   "outputs": [
    {
     "name": "stdout",
     "output_type": "stream",
     "text": [
      "<class 'pandas.core.frame.DataFrame'>\n",
      "RangeIndex: 150001 entries, 0 to 150000\n",
      "Data columns (total 45 columns):\n",
      " #   Column                          Non-Null Count   Dtype  \n",
      "---  ------                          --------------   -----  \n",
      " 0   Bearer Id                       150001 non-null  float64\n",
      " 1   Start                           150001 non-null  object \n",
      " 2   Start ms                        150001 non-null  float64\n",
      " 3   End                             150001 non-null  object \n",
      " 4   End ms                          150001 non-null  float64\n",
      " 5   Dur. (ms)                       150001 non-null  float64\n",
      " 6   IMSI                            150001 non-null  float64\n",
      " 7   MSISDN/Number                   150001 non-null  float64\n",
      " 8   IMEI                            150001 non-null  float64\n",
      " 9   Last Location Name              150001 non-null  object \n",
      " 10  Avg RTT DL (ms)                 122172 non-null  float64\n",
      " 11  Avg RTT UL (ms)                 122189 non-null  float64\n",
      " 12  Avg Bearer TP DL (kbps)         150001 non-null  float64\n",
      " 13  Avg Bearer TP UL (kbps)         150001 non-null  float64\n",
      " 14  DL TP < 50 Kbps (%)             150001 non-null  float64\n",
      " 15  50 Kbps < DL TP < 250 Kbps (%)  150001 non-null  float64\n",
      " 16  250 Kbps < DL TP < 1 Mbps (%)   150001 non-null  float64\n",
      " 17  DL TP > 1 Mbps (%)              150001 non-null  float64\n",
      " 18  UL TP < 10 Kbps (%)             150001 non-null  float64\n",
      " 19  10 Kbps < UL TP < 50 Kbps (%)   150001 non-null  float64\n",
      " 20  50 Kbps < UL TP < 300 Kbps (%)  150001 non-null  float64\n",
      " 21  UL TP > 300 Kbps (%)            150001 non-null  float64\n",
      " 22  Activity Duration DL (ms)       150001 non-null  float64\n",
      " 23  Activity Duration UL (ms)       150001 non-null  float64\n",
      " 24  Dur. (ms).1                     150001 non-null  float64\n",
      " 25  Handset Manufacturer            150001 non-null  object \n",
      " 26  Handset Type                    150001 non-null  object \n",
      " 27  Nb of sec with Vol DL < 6250B   150001 non-null  float64\n",
      " 28  Nb of sec with Vol UL < 1250B   150001 non-null  float64\n",
      " 29  Social Media DL (Bytes)         150001 non-null  float64\n",
      " 30  Social Media UL (Bytes)         150001 non-null  float64\n",
      " 31  Google DL (Bytes)               150001 non-null  float64\n",
      " 32  Google UL (Bytes)               150001 non-null  float64\n",
      " 33  Email DL (Bytes)                150001 non-null  float64\n",
      " 34  Email UL (Bytes)                150001 non-null  float64\n",
      " 35  Youtube DL (Bytes)              150001 non-null  float64\n",
      " 36  Youtube UL (Bytes)              150001 non-null  float64\n",
      " 37  Netflix DL (Bytes)              150001 non-null  float64\n",
      " 38  Netflix UL (Bytes)              150001 non-null  float64\n",
      " 39  Gaming DL (Bytes)               150001 non-null  float64\n",
      " 40  Gaming UL (Bytes)               150001 non-null  float64\n",
      " 41  Other DL (Bytes)                150001 non-null  float64\n",
      " 42  Other UL (Bytes)                150001 non-null  float64\n",
      " 43  Total UL (Bytes)                150001 non-null  float64\n",
      " 44  Total DL (Bytes)                150001 non-null  float64\n",
      "dtypes: float64(40), object(5)\n",
      "memory usage: 51.5+ MB\n"
     ]
    }
   ],
   "source": [
    "# check datatypes\n",
    "df_clean.info()"
   ]
  },
  {
   "cell_type": "code",
   "execution_count": 49,
   "metadata": {},
   "outputs": [
    {
     "data": {
      "text/plain": [
       "<AxesSubplot:>"
      ]
     },
     "execution_count": 49,
     "metadata": {},
     "output_type": "execute_result"
    },
    {
     "data": {
      "image/png": "[encoded data removed]",
      "text/plain": [
       "<Figure size 432x288 with 1 Axes>"
      ]
     },
     "metadata": {
      "needs_background": "light"
     },
     "output_type": "display_data"
    }
   ],
   "source": [
    "df_clean['IMEI'].plot.box()"
   ]
  },
  {
   "cell_type": "code",
   "execution_count": 19,
   "metadata": {
    "colab": {
     "base_uri": "https://localhost:8080/"
    },
    "executionInfo": {
     "elapsed": 493,
     "status": "ok",
     "timestamp": 1626169654973,
     "user": {
      "displayName": "Kevin Karobia",
      "photoUrl": "",
      "userId": "11620910033834049837"
     },
     "user_tz": -180
    },
    "id": "bef899e2",
    "outputId": "4b5e0d87-3f09-4dcf-82ff-674ce443f942"
   },
   "outputs": [
    {
     "data": {
      "text/plain": [
       "Apple      60137\n",
       "Samsung    40839\n",
       "Huawei     34423\n",
       "Name: Handset Manufacturer, dtype: int64"
      ]
     },
     "execution_count": 19,
     "metadata": {},
     "output_type": "execute_result"
    }
   ],
   "source": [
    "\n",
    "#Counting Handset Manufacturers\n",
    "df_clean['Handset Manufacturer'].value_counts().head(3)\n"
   ]
  },
  {
   "cell_type": "code",
   "execution_count": 38,
   "metadata": {},
   "outputs": [
    {
     "data": {
      "text/plain": [
       "Huawei B528S-23A                20324\n",
       "Apple iPhone 6S (A1688)          9419\n",
       "Apple iPhone 6 (A1586)           9023\n",
       "undefined                        8987\n",
       "Apple iPhone 7 (A1778)           6326\n",
       "Apple iPhone Se (A1723)          5187\n",
       "Apple iPhone 8 (A1905)           4993\n",
       "Apple iPhone Xr (A2105)          4568\n",
       "Samsung Galaxy S8 (Sm-G950F)     4520\n",
       "Apple iPhone X (A1901)           3813\n",
       "Name: Handset Type, dtype: int64"
      ]
     },
     "execution_count": 38,
     "metadata": {},
     "output_type": "execute_result"
    }
   ],
   "source": [
    "\n",
    "#Counting Handset Types\n",
    "top10 = df_clean['Handset Type'].value_counts().head(10)\n",
    "\n",
    "top10.head(10)\n"
   ]
  },
  {
   "cell_type": "code",
   "execution_count": 44,
   "metadata": {},
   "outputs": [
    {
     "data": {
      "text/plain": [
       "Huawei B528S-23A                20324\n",
       "Apple iPhone 6S (A1688)          9419\n",
       "Apple iPhone 6 (A1586)           9023\n",
       "undefined                        8987\n",
       "Apple iPhone 7 (A1778)           6326\n",
       "Apple iPhone Se (A1723)          5187\n",
       "Apple iPhone 8 (A1905)           4993\n",
       "Apple iPhone Xr (A2105)          4568\n",
       "Samsung Galaxy S8 (Sm-G950F)     4520\n",
       "Apple iPhone X (A1901)           3813\n",
       "Name: Handset Type, dtype: int64"
      ]
     },
     "execution_count": 44,
     "metadata": {},
     "output_type": "execute_result"
    }
   ],
   "source": [
    "top10"
   ]
  },
  {
   "cell_type": "code",
   "execution_count": 51,
   "metadata": {},
   "outputs": [
    {
     "data": {
      "text/plain": [
       "<AxesSubplot:>"
      ]
     },
     "execution_count": 51,
     "metadata": {},
     "output_type": "execute_result"
    },
    {
     "data": {
      "image/png": "[encoded data removed]",
      "text/plain": [
       "<Figure size 432x288 with 1 Axes>"
      ]
     },
     "metadata": {
      "needs_background": "light"
     },
     "output_type": "display_data"
    }
   ],
   "source": [
    "top10.plot.bar()"
   ]
  },
  {
   "cell_type": "code",
   "execution_count": 54,
   "metadata": {},
   "outputs": [
    {
     "data": {
      "text/plain": [
       "<AxesSubplot:ylabel='Handset Type'>"
      ]
     },
     "execution_count": 54,
     "metadata": {},
     "output_type": "execute_result"
    },
    {
     "data": {
      "image/png": "[encoded data removed]",
      "text/plain": [
       "<Figure size 432x288 with 1 Axes>"
      ]
     },
     "metadata": {},
     "output_type": "display_data"
    }
   ],
   "source": [
    "top10.plot.pie()"
   ]
  },
  {
   "cell_type": "code",
   "execution_count": 22,
   "metadata": {},
   "outputs": [
    {
     "data": {
      "text/plain": [
       "<AxesSubplot:ylabel='Total UL (Bytes)'>"
      ]
     },
     "execution_count": 22,
     "metadata": {},
     "output_type": "execute_result"
    },
    {
     "data": {
      "image/png": "[encoded data removed]",
      "text/plain": [
       "<Figure size 432x288 with 1 Axes>"
      ]
     },
     "metadata": {
      "needs_background": "light"
     },
     "output_type": "display_data"
    }
   ],
   "source": [
    "sns.scatterplot(x=df_clean.index,y=df_clean['Total UL (Bytes)'],hue=df_clean['Youtube DL (Bytes)'])"
   ]
  },
  {
   "cell_type": "code",
   "execution_count": 23,
   "metadata": {},
   "outputs": [
    {
     "ename": "KeyError",
     "evalue": "''",
     "output_type": "error",
     "traceback": [
      "\u001b[1;31m---------------------------------------------------------------------------\u001b[0m",
      "\u001b[1;31mKeyError\u001b[0m                                  Traceback (most recent call last)",
      "\u001b[1;32m~\\anaconda3\\lib\\site-packages\\pandas\\core\\indexes\\base.py\u001b[0m in \u001b[0;36mget_loc\u001b[1;34m(self, key, method, tolerance)\u001b[0m\n\u001b[0;32m   2894\u001b[0m             \u001b[1;32mtry\u001b[0m\u001b[1;33m:\u001b[0m\u001b[1;33m\u001b[0m\u001b[1;33m\u001b[0m\u001b[0m\n\u001b[1;32m-> 2895\u001b[1;33m                 \u001b[1;32mreturn\u001b[0m \u001b[0mself\u001b[0m\u001b[1;33m.\u001b[0m\u001b[0m_engine\u001b[0m\u001b[1;33m.\u001b[0m\u001b[0mget_loc\u001b[0m\u001b[1;33m(\u001b[0m\u001b[0mcasted_key\u001b[0m\u001b[1;33m)\u001b[0m\u001b[1;33m\u001b[0m\u001b[1;33m\u001b[0m\u001b[0m\n\u001b[0m\u001b[0;32m   2896\u001b[0m             \u001b[1;32mexcept\u001b[0m \u001b[0mKeyError\u001b[0m \u001b[1;32mas\u001b[0m \u001b[0merr\u001b[0m\u001b[1;33m:\u001b[0m\u001b[1;33m\u001b[0m\u001b[1;33m\u001b[0m\u001b[0m\n",
      "\u001b[1;32mpandas\\_libs\\index.pyx\u001b[0m in \u001b[0;36mpandas._libs.index.IndexEngine.get_loc\u001b[1;34m()\u001b[0m\n",
      "\u001b[1;32mpandas\\_libs\\index.pyx\u001b[0m in \u001b[0;36mpandas._libs.index.IndexEngine.get_loc\u001b[1;34m()\u001b[0m\n",
      "\u001b[1;32mpandas\\_libs\\hashtable_class_helper.pxi\u001b[0m in \u001b[0;36mpandas._libs.hashtable.PyObjectHashTable.get_item\u001b[1;34m()\u001b[0m\n",
      "\u001b[1;32mpandas\\_libs\\hashtable_class_helper.pxi\u001b[0m in \u001b[0;36mpandas._libs.hashtable.PyObjectHashTable.get_item\u001b[1;34m()\u001b[0m\n",
      "\u001b[1;31mKeyError\u001b[0m: ''",
      "\nThe above exception was the direct cause of the following exception:\n",
      "\u001b[1;31mKeyError\u001b[0m                                  Traceback (most recent call last)",
      "\u001b[1;32m<ipython-input-23-a1abc0b805cd>\u001b[0m in \u001b[0;36m<module>\u001b[1;34m\u001b[0m\n\u001b[0;32m      5\u001b[0m \u001b[0mplt\u001b[0m\u001b[1;33m.\u001b[0m\u001b[0mplot\u001b[0m\u001b[1;33m(\u001b[0m\u001b[0mdf_clean\u001b[0m\u001b[1;33m.\u001b[0m\u001b[0mindex\u001b[0m\u001b[1;33m,\u001b[0m\u001b[0mdf_clean\u001b[0m\u001b[1;33m[\u001b[0m\u001b[1;34m'Handset Manufacturer'\u001b[0m\u001b[1;33m]\u001b[0m\u001b[1;33m,\u001b[0m\u001b[0mmarkevery\u001b[0m\u001b[1;33m=\u001b[0m\u001b[1;36m1\u001b[0m\u001b[1;33m,\u001b[0m \u001b[0mmarker\u001b[0m\u001b[1;33m=\u001b[0m\u001b[1;34m'd'\u001b[0m\u001b[1;33m)\u001b[0m\u001b[1;33m\u001b[0m\u001b[1;33m\u001b[0m\u001b[0m\n\u001b[0;32m      6\u001b[0m \u001b[1;32mfor\u001b[0m \u001b[0mname\u001b[0m\u001b[1;33m,\u001b[0m \u001b[0mgroup\u001b[0m \u001b[1;32min\u001b[0m \u001b[0mdf_clean\u001b[0m\u001b[1;33m.\u001b[0m\u001b[0mgroupby\u001b[0m\u001b[1;33m(\u001b[0m\u001b[1;34m'Handset Manufacturer'\u001b[0m\u001b[1;33m)\u001b[0m\u001b[1;33m:\u001b[0m\u001b[1;33m\u001b[0m\u001b[1;33m\u001b[0m\u001b[0m\n\u001b[1;32m----> 7\u001b[1;33m     \u001b[0mplt\u001b[0m\u001b[1;33m.\u001b[0m\u001b[0mplot\u001b[0m\u001b[1;33m(\u001b[0m\u001b[0mgroup\u001b[0m\u001b[1;33m.\u001b[0m\u001b[0mindex\u001b[0m\u001b[1;33m,\u001b[0m \u001b[0mgroup\u001b[0m\u001b[1;33m[\u001b[0m\u001b[1;34m''\u001b[0m\u001b[1;33m]\u001b[0m\u001b[1;33m,\u001b[0m \u001b[0mlabel\u001b[0m\u001b[1;33m=\u001b[0m\u001b[0mname\u001b[0m\u001b[1;33m,\u001b[0m\u001b[0mmarkevery\u001b[0m\u001b[1;33m=\u001b[0m\u001b[1;36m1\u001b[0m\u001b[1;33m,\u001b[0m\u001b[0mmarker\u001b[0m\u001b[1;33m=\u001b[0m\u001b[1;34m'd'\u001b[0m\u001b[1;33m)\u001b[0m\u001b[1;33m\u001b[0m\u001b[1;33m\u001b[0m\u001b[0m\n\u001b[0m\u001b[0;32m      8\u001b[0m \u001b[0mplt\u001b[0m\u001b[1;33m.\u001b[0m\u001b[0mlegend\u001b[0m\u001b[1;33m(\u001b[0m\u001b[1;33m)\u001b[0m\u001b[1;33m\u001b[0m\u001b[1;33m\u001b[0m\u001b[0m\n\u001b[0;32m      9\u001b[0m \u001b[0mplt\u001b[0m\u001b[1;33m.\u001b[0m\u001b[0mshow\u001b[0m\u001b[1;33m(\u001b[0m\u001b[1;33m)\u001b[0m\u001b[1;33m\u001b[0m\u001b[1;33m\u001b[0m\u001b[0m\n",
      "\u001b[1;32m~\\anaconda3\\lib\\site-packages\\pandas\\core\\frame.py\u001b[0m in \u001b[0;36m__getitem__\u001b[1;34m(self, key)\u001b[0m\n\u001b[0;32m   2900\u001b[0m             \u001b[1;32mif\u001b[0m \u001b[0mself\u001b[0m\u001b[1;33m.\u001b[0m\u001b[0mcolumns\u001b[0m\u001b[1;33m.\u001b[0m\u001b[0mnlevels\u001b[0m \u001b[1;33m>\u001b[0m \u001b[1;36m1\u001b[0m\u001b[1;33m:\u001b[0m\u001b[1;33m\u001b[0m\u001b[1;33m\u001b[0m\u001b[0m\n\u001b[0;32m   2901\u001b[0m                 \u001b[1;32mreturn\u001b[0m \u001b[0mself\u001b[0m\u001b[1;33m.\u001b[0m\u001b[0m_getitem_multilevel\u001b[0m\u001b[1;33m(\u001b[0m\u001b[0mkey\u001b[0m\u001b[1;33m)\u001b[0m\u001b[1;33m\u001b[0m\u001b[1;33m\u001b[0m\u001b[0m\n\u001b[1;32m-> 2902\u001b[1;33m             \u001b[0mindexer\u001b[0m \u001b[1;33m=\u001b[0m \u001b[0mself\u001b[0m\u001b[1;33m.\u001b[0m\u001b[0mcolumns\u001b[0m\u001b[1;33m.\u001b[0m\u001b[0mget_loc\u001b[0m\u001b[1;33m(\u001b[0m\u001b[0mkey\u001b[0m\u001b[1;33m)\u001b[0m\u001b[1;33m\u001b[0m\u001b[1;33m\u001b[0m\u001b[0m\n\u001b[0m\u001b[0;32m   2903\u001b[0m             \u001b[1;32mif\u001b[0m \u001b[0mis_integer\u001b[0m\u001b[1;33m(\u001b[0m\u001b[0mindexer\u001b[0m\u001b[1;33m)\u001b[0m\u001b[1;33m:\u001b[0m\u001b[1;33m\u001b[0m\u001b[1;33m\u001b[0m\u001b[0m\n\u001b[0;32m   2904\u001b[0m                 \u001b[0mindexer\u001b[0m \u001b[1;33m=\u001b[0m \u001b[1;33m[\u001b[0m\u001b[0mindexer\u001b[0m\u001b[1;33m]\u001b[0m\u001b[1;33m\u001b[0m\u001b[1;33m\u001b[0m\u001b[0m\n",
      "\u001b[1;32m~\\anaconda3\\lib\\site-packages\\pandas\\core\\indexes\\base.py\u001b[0m in \u001b[0;36mget_loc\u001b[1;34m(self, key, method, tolerance)\u001b[0m\n\u001b[0;32m   2895\u001b[0m                 \u001b[1;32mreturn\u001b[0m \u001b[0mself\u001b[0m\u001b[1;33m.\u001b[0m\u001b[0m_engine\u001b[0m\u001b[1;33m.\u001b[0m\u001b[0mget_loc\u001b[0m\u001b[1;33m(\u001b[0m\u001b[0mcasted_key\u001b[0m\u001b[1;33m)\u001b[0m\u001b[1;33m\u001b[0m\u001b[1;33m\u001b[0m\u001b[0m\n\u001b[0;32m   2896\u001b[0m             \u001b[1;32mexcept\u001b[0m \u001b[0mKeyError\u001b[0m \u001b[1;32mas\u001b[0m \u001b[0merr\u001b[0m\u001b[1;33m:\u001b[0m\u001b[1;33m\u001b[0m\u001b[1;33m\u001b[0m\u001b[0m\n\u001b[1;32m-> 2897\u001b[1;33m                 \u001b[1;32mraise\u001b[0m \u001b[0mKeyError\u001b[0m\u001b[1;33m(\u001b[0m\u001b[0mkey\u001b[0m\u001b[1;33m)\u001b[0m \u001b[1;32mfrom\u001b[0m \u001b[0merr\u001b[0m\u001b[1;33m\u001b[0m\u001b[1;33m\u001b[0m\u001b[0m\n\u001b[0m\u001b[0;32m   2898\u001b[0m \u001b[1;33m\u001b[0m\u001b[0m\n\u001b[0;32m   2899\u001b[0m         \u001b[1;32mif\u001b[0m \u001b[0mtolerance\u001b[0m \u001b[1;32mis\u001b[0m \u001b[1;32mnot\u001b[0m \u001b[1;32mNone\u001b[0m\u001b[1;33m:\u001b[0m\u001b[1;33m\u001b[0m\u001b[1;33m\u001b[0m\u001b[0m\n",
      "\u001b[1;31mKeyError\u001b[0m: ''"
     ]
    },
    {
     "data": {
      "image/png": "[encoded data removed]",
      "text/plain": [
       "<Figure size 432x432 with 1 Axes>"
      ]
     },
     "metadata": {
      "needs_background": "light"
     },
     "output_type": "display_data"
    }
   ],
   "source": [
    "plt.figure(figsize=(6,6))\n",
    "plt.title('Line')\n",
    "plt.xlabel('x index',fontsize=20)\n",
    "plt.ylabel('y index',fontsize=20)\n",
    "plt.plot(df_clean.index,df_clean['Handset Manufacturer'],markevery=1, marker='d')\n",
    "for name, group in df_clean.groupby('Handset Manufacturer'):\n",
    "    plt.plot(group.index, group[''], label=name,markevery=1,marker='d')\n",
    "plt.legend()\n",
    "plt.show()"
   ]
  },
  {
   "cell_type": "markdown",
   "metadata": {
    "id": "f640ccb4"
   },
   "source": [
    "## Utility Functions"
   ]
  },
  {
   "cell_type": "code",
   "execution_count": 25,
   "metadata": {
    "executionInfo": {
     "elapsed": 49,
     "status": "ok",
     "timestamp": 1626169654978,
     "user": {
      "displayName": "Kevin Karobia",
      "photoUrl": "",
      "userId": "11620910033834049837"
     },
     "user_tz": -180
    },
    "id": "42f432b8"
   },
   "outputs": [],
   "source": [
    "# Function to calculate missing values by column\n",
    "def missing_values_table(df):\n",
    "    # Total missing values\n",
    "    mis_val = df.isnull().sum()\n",
    "\n",
    "    # Percentage of missing values\n",
    "    mis_val_percent = 100 * df.isnull().sum() / len(df)\n",
    "\n",
    "    # dtype of missing values\n",
    "    mis_val_dtype = df.dtypes\n",
    "\n",
    "    # Make a table with the results\n",
    "    mis_val_table = pd.concat([mis_val, mis_val_percent, mis_val_dtype], axis=1)\n",
    "\n",
    "    # Rename the columns\n",
    "    mis_val_table_ren_columns = mis_val_table.rename(\n",
    "    columns = {0 : 'Missing Values', 1 : '% of Total Values', 2: 'Dtype'})\n",
    "\n",
    "    # Sort the table by percentage of missing descending\n",
    "    mis_val_table_ren_columns = mis_val_table_ren_columns[\n",
    "        mis_val_table_ren_columns.iloc[:,1] != 0].sort_values(\n",
    "    '% of Total Values', ascending=False).round(1)\n",
    "\n",
    "    # Print some summary information\n",
    "    print (\"Your selected dataframe has \" + str(df.shape[1]) + \" columns.\\n\"      \n",
    "        \"There are \" + str(mis_val_table_ren_columns.shape[0]) +\n",
    "          \" columns that have missing values.\")\n",
    "\n",
    "    # Return the dataframe with missing information\n",
    "    return mis_val_table_ren_columns\n",
    "\n",
    "def format_float(value):\n",
    "    return f'{value:,.2f}'\n",
    "\n",
    "def find_agg(df:pd.DataFrame, agg_column:str, agg_metric:str, col_name:str, top:int, order=False )->pd.DataFrame:\n",
    "    \n",
    "    new_df = df.groupby(agg_column)[agg_column].agg(agg_metric).reset_index(name=col_name).\\\n",
    "                        sort_values(by=col_name, ascending=order)[:top]\n",
    "    \n",
    "    return new_df\n",
    "\n",
    "def convert_bytes_to_megabytes(df, bytes_data):\n",
    "    \"\"\"\n",
    "        This function takes the dataframe and the column which has the bytes values\n",
    "        returns the megabytesof that value\n",
    "        \n",
    "        Args:\n",
    "        -----\n",
    "        df: dataframe\n",
    "        bytes_data: column with bytes values\n",
    "        \n",
    "        Returns:\n",
    "        --------\n",
    "        A series\n",
    "    \"\"\"\n",
    "    \n",
    "    megabyte = 1*10e+5\n",
    "    df[bytes_data] = df[bytes_data] / megabyte\n",
    "    return df[bytes_data]\n",
    "\n",
    "def fix_outlier(df, column):\n",
    "    df[column] = np.where(df[column] > df[column].quantile(0.95), df[column].median(),df[column])\n",
    "    \n",
    "    return df[column]\n",
    "\n",
    "\n",
    "###################################PLOTTING FUNCTIONS###################################\n",
    "\n",
    "def plot_hist(df:pd.DataFrame, column:str, color:str)->None:\n",
    "    # plt.figure(figsize=(15, 10))\n",
    "    # fig, ax = plt.subplots(1, figsize=(12, 7))\n",
    "    sns.displot(data=df, x=column, color=color, kde=True, height=7, aspect=2)\n",
    "    plt.title(f'Distribution of {column}', size=20, fontweight='bold')\n",
    "    plt.show()\n",
    "\n",
    "def plot_count(df:pd.DataFrame, column:str) -> None:\n",
    "    plt.figure(figsize=(12, 7))\n",
    "    sns.countplot(data=df, x=column)\n",
    "    plt.title(f'Distribution of {column}', size=20, fontweight='bold')\n",
    "    plt.show()\n",
    "    \n",
    "def plot_bar(df:pd.DataFrame, x_col:str, y_col:str, title:str, xlabel:str, ylabel:str)->None:\n",
    "    plt.figure(figsize=(12, 7))\n",
    "    sns.barplot(data = df, x=x_col, y=y_col)\n",
    "    plt.title(title, size=20)\n",
    "    plt.xticks(rotation=75, fontsize=14)\n",
    "    plt.yticks( fontsize=14)\n",
    "    plt.xlabel(xlabel, fontsize=16)\n",
    "    plt.ylabel(ylabel, fontsize=16)\n",
    "    plt.show()\n",
    "\n",
    "def plot_heatmap(df:pd.DataFrame, title:str, cbar=False)->None:\n",
    "    plt.figure(figsize=(12, 7))\n",
    "    sns.heatmap(df, annot=True, cmap='viridis', vmin=0, vmax=1, fmt='.2f', linewidths=.7, cbar=cbar )\n",
    "    plt.title(title, size=18, fontweight='bold')\n",
    "    plt.show()\n",
    "\n",
    "def plot_box(df:pd.DataFrame, x_col:str, title:str) -> None:\n",
    "    plt.figure(figsize=(12, 7))\n",
    "    sns.boxplot(data = df, x=x_col)\n",
    "    plt.title(title, size=20)\n",
    "    plt.xticks(rotation=75, fontsize=14)\n",
    "    plt.show()\n",
    "\n",
    "def plot_box_multi(df:pd.DataFrame, x_col:str, y_col:str, title:str) -> None:\n",
    "    plt.figure(figsize=(12, 7))\n",
    "    sns.boxplot(data = df, x=x_col, y=y_col)\n",
    "    plt.title(title, size=20)\n",
    "    plt.xticks(rotation=75, fontsize=14)\n",
    "    plt.yticks( fontsize=14)\n",
    "    plt.show()\n",
    "\n",
    "def plot_scatter(df: pd.DataFrame, x_col: str, y_col: str, title: str, hue: str, style: str) -> None:\n",
    "    plt.figure(figsize=(12, 7))\n",
    "    sns.scatterplot(data = df, x=x_col, y=y_col, hue=hue, style=style)\n",
    "    plt.title(title, size=20)\n",
    "    plt.xticks(fontsize=14)\n",
    "    plt.yticks( fontsize=14)\n",
    "    plt.show()\n",
    "\n",
    "\n",
    "pd.options.display.float_format = format_float"
   ]
  },
  {
   "cell_type": "markdown",
   "metadata": {
    "id": "0646f25b"
   },
   "source": [
    "## Extracting Data"
   ]
  },
  {
   "cell_type": "code",
   "execution_count": null,
   "metadata": {
    "colab": {
     "base_uri": "https://localhost:8080/"
    },
    "executionInfo": {
     "elapsed": 38,
     "status": "ok",
     "timestamp": 1626169655383,
     "user": {
      "displayName": "Kevin Karobia",
      "photoUrl": "",
      "userId": "11620910033834049837"
     },
     "user_tz": -180
    },
    "id": "7903d60c",
    "outputId": "20b5f5b9-77ce-4569-f187-c05aea5c7fcf"
   },
   "outputs": [],
   "source": [
    "db['readmitted'].value_counts()"
   ]
  },
  {
   "cell_type": "code",
   "execution_count": 26,
   "metadata": {
    "colab": {
     "base_uri": "https://localhost:8080/"
    },
    "executionInfo": {
     "elapsed": 36,
     "status": "ok",
     "timestamp": 1626169655384,
     "user": {
      "displayName": "Kevin Karobia",
      "photoUrl": "",
      "userId": "11620910033834049837"
     },
     "user_tz": -180
    },
    "id": "17d1d430",
    "outputId": "902a9e20-c8ed-494a-d733-6e5ac2a8cf69"
   },
   "outputs": [
    {
     "name": "stdout",
     "output_type": "stream",
     "text": [
      "The dataset contains 0.82 % missing values.\n"
     ]
    }
   ],
   "source": [
    "percent_missing(df_clean)"
   ]
  },
  {
   "cell_type": "code",
   "execution_count": 27,
   "metadata": {
    "colab": {
     "base_uri": "https://localhost:8080/",
     "height": 178
    },
    "executionInfo": {
     "elapsed": 640,
     "status": "ok",
     "timestamp": 1626169655995,
     "user": {
      "displayName": "Kevin Karobia",
      "photoUrl": "",
      "userId": "11620910033834049837"
     },
     "user_tz": -180
    },
    "id": "15163169",
    "outputId": "59bba343-4f90-4027-dc32-52cb2edaaf98"
   },
   "outputs": [
    {
     "name": "stdout",
     "output_type": "stream",
     "text": [
      "Your selected dataframe has 45 columns.\n",
      "There are 2 columns that have missing values.\n"
     ]
    },
    {
     "data": {
      "text/html": [
       "<div>\n",
       "<style scoped>\n",
       "    .dataframe tbody tr th:only-of-type {\n",
       "        vertical-align: middle;\n",
       "    }\n",
       "\n",
       "    .dataframe tbody tr th {\n",
       "        vertical-align: top;\n",
       "    }\n",
       "\n",
       "    .dataframe thead th {\n",
       "        text-align: right;\n",
       "    }\n",
       "</style>\n",
       "<table border=\"1\" class=\"dataframe\">\n",
       "  <thead>\n",
       "    <tr style=\"text-align: right;\">\n",
       "      <th></th>\n",
       "      <th>Missing Values</th>\n",
       "      <th>% of Total Values</th>\n",
       "      <th>Dtype</th>\n",
       "    </tr>\n",
       "  </thead>\n",
       "  <tbody>\n",
       "    <tr>\n",
       "      <th>Avg RTT DL (ms)</th>\n",
       "      <td>27829</td>\n",
       "      <td>18.60</td>\n",
       "      <td>float64</td>\n",
       "    </tr>\n",
       "    <tr>\n",
       "      <th>Avg RTT UL (ms)</th>\n",
       "      <td>27812</td>\n",
       "      <td>18.50</td>\n",
       "      <td>float64</td>\n",
       "    </tr>\n",
       "  </tbody>\n",
       "</table>\n",
       "</div>"
      ],
      "text/plain": [
       "                 Missing Values  % of Total Values    Dtype\n",
       "Avg RTT DL (ms)           27829              18.60  float64\n",
       "Avg RTT UL (ms)           27812              18.50  float64"
      ]
     },
     "execution_count": 27,
     "metadata": {},
     "output_type": "execute_result"
    }
   ],
   "source": [
    "missing_values_table(df_clean)"
   ]
  },
  {
   "cell_type": "code",
   "execution_count": 28,
   "metadata": {
    "executionInfo": {
     "elapsed": 64,
     "status": "ok",
     "timestamp": 1626169655997,
     "user": {
      "displayName": "Kevin Karobia",
      "photoUrl": "",
      "userId": "11620910033834049837"
     },
     "user_tz": -180
    },
    "id": "18e49f6d"
   },
   "outputs": [
    {
     "ename": "KeyError",
     "evalue": "'readmitted'",
     "output_type": "error",
     "traceback": [
      "\u001b[1;31m---------------------------------------------------------------------------\u001b[0m",
      "\u001b[1;31mKeyError\u001b[0m                                  Traceback (most recent call last)",
      "\u001b[1;32m~\\anaconda3\\lib\\site-packages\\pandas\\core\\indexes\\base.py\u001b[0m in \u001b[0;36mget_loc\u001b[1;34m(self, key, method, tolerance)\u001b[0m\n\u001b[0;32m   2894\u001b[0m             \u001b[1;32mtry\u001b[0m\u001b[1;33m:\u001b[0m\u001b[1;33m\u001b[0m\u001b[1;33m\u001b[0m\u001b[0m\n\u001b[1;32m-> 2895\u001b[1;33m                 \u001b[1;32mreturn\u001b[0m \u001b[0mself\u001b[0m\u001b[1;33m.\u001b[0m\u001b[0m_engine\u001b[0m\u001b[1;33m.\u001b[0m\u001b[0mget_loc\u001b[0m\u001b[1;33m(\u001b[0m\u001b[0mcasted_key\u001b[0m\u001b[1;33m)\u001b[0m\u001b[1;33m\u001b[0m\u001b[1;33m\u001b[0m\u001b[0m\n\u001b[0m\u001b[0;32m   2896\u001b[0m             \u001b[1;32mexcept\u001b[0m \u001b[0mKeyError\u001b[0m \u001b[1;32mas\u001b[0m \u001b[0merr\u001b[0m\u001b[1;33m:\u001b[0m\u001b[1;33m\u001b[0m\u001b[1;33m\u001b[0m\u001b[0m\n",
      "\u001b[1;32mpandas\\_libs\\index.pyx\u001b[0m in \u001b[0;36mpandas._libs.index.IndexEngine.get_loc\u001b[1;34m()\u001b[0m\n",
      "\u001b[1;32mpandas\\_libs\\index.pyx\u001b[0m in \u001b[0;36mpandas._libs.index.IndexEngine.get_loc\u001b[1;34m()\u001b[0m\n",
      "\u001b[1;32mpandas\\_libs\\hashtable_class_helper.pxi\u001b[0m in \u001b[0;36mpandas._libs.hashtable.PyObjectHashTable.get_item\u001b[1;34m()\u001b[0m\n",
      "\u001b[1;32mpandas\\_libs\\hashtable_class_helper.pxi\u001b[0m in \u001b[0;36mpandas._libs.hashtable.PyObjectHashTable.get_item\u001b[1;34m()\u001b[0m\n",
      "\u001b[1;31mKeyError\u001b[0m: 'readmitted'",
      "\nThe above exception was the direct cause of the following exception:\n",
      "\u001b[1;31mKeyError\u001b[0m                                  Traceback (most recent call last)",
      "\u001b[1;32m<ipython-input-28-82eac1324956>\u001b[0m in \u001b[0;36m<module>\u001b[1;34m\u001b[0m\n\u001b[0;32m      3\u001b[0m     \u001b[1;32mreturn\u001b[0m \u001b[0mcol\u001b[0m\u001b[1;33m.\u001b[0m\u001b[0mmap\u001b[0m\u001b[1;33m(\u001b[0m\u001b[0mreadmitted_map\u001b[0m\u001b[1;33m)\u001b[0m\u001b[1;33m\u001b[0m\u001b[1;33m\u001b[0m\u001b[0m\n\u001b[0;32m      4\u001b[0m \u001b[1;33m\u001b[0m\u001b[0m\n\u001b[1;32m----> 5\u001b[1;33m \u001b[0mdb\u001b[0m\u001b[1;33m[\u001b[0m\u001b[1;34m'fix_readmitted'\u001b[0m\u001b[1;33m]\u001b[0m \u001b[1;33m=\u001b[0m \u001b[0mmap_readmitted\u001b[0m\u001b[1;33m(\u001b[0m\u001b[0mdb\u001b[0m\u001b[1;33m[\u001b[0m\u001b[1;34m'readmitted'\u001b[0m\u001b[1;33m]\u001b[0m\u001b[1;33m)\u001b[0m\u001b[1;33m\u001b[0m\u001b[1;33m\u001b[0m\u001b[0m\n\u001b[0m",
      "\u001b[1;32m~\\anaconda3\\lib\\site-packages\\pandas\\core\\frame.py\u001b[0m in \u001b[0;36m__getitem__\u001b[1;34m(self, key)\u001b[0m\n\u001b[0;32m   2900\u001b[0m             \u001b[1;32mif\u001b[0m \u001b[0mself\u001b[0m\u001b[1;33m.\u001b[0m\u001b[0mcolumns\u001b[0m\u001b[1;33m.\u001b[0m\u001b[0mnlevels\u001b[0m \u001b[1;33m>\u001b[0m \u001b[1;36m1\u001b[0m\u001b[1;33m:\u001b[0m\u001b[1;33m\u001b[0m\u001b[1;33m\u001b[0m\u001b[0m\n\u001b[0;32m   2901\u001b[0m                 \u001b[1;32mreturn\u001b[0m \u001b[0mself\u001b[0m\u001b[1;33m.\u001b[0m\u001b[0m_getitem_multilevel\u001b[0m\u001b[1;33m(\u001b[0m\u001b[0mkey\u001b[0m\u001b[1;33m)\u001b[0m\u001b[1;33m\u001b[0m\u001b[1;33m\u001b[0m\u001b[0m\n\u001b[1;32m-> 2902\u001b[1;33m             \u001b[0mindexer\u001b[0m \u001b[1;33m=\u001b[0m \u001b[0mself\u001b[0m\u001b[1;33m.\u001b[0m\u001b[0mcolumns\u001b[0m\u001b[1;33m.\u001b[0m\u001b[0mget_loc\u001b[0m\u001b[1;33m(\u001b[0m\u001b[0mkey\u001b[0m\u001b[1;33m)\u001b[0m\u001b[1;33m\u001b[0m\u001b[1;33m\u001b[0m\u001b[0m\n\u001b[0m\u001b[0;32m   2903\u001b[0m             \u001b[1;32mif\u001b[0m \u001b[0mis_integer\u001b[0m\u001b[1;33m(\u001b[0m\u001b[0mindexer\u001b[0m\u001b[1;33m)\u001b[0m\u001b[1;33m:\u001b[0m\u001b[1;33m\u001b[0m\u001b[1;33m\u001b[0m\u001b[0m\n\u001b[0;32m   2904\u001b[0m                 \u001b[0mindexer\u001b[0m \u001b[1;33m=\u001b[0m \u001b[1;33m[\u001b[0m\u001b[0mindexer\u001b[0m\u001b[1;33m]\u001b[0m\u001b[1;33m\u001b[0m\u001b[1;33m\u001b[0m\u001b[0m\n",
      "\u001b[1;32m~\\anaconda3\\lib\\site-packages\\pandas\\core\\indexes\\base.py\u001b[0m in \u001b[0;36mget_loc\u001b[1;34m(self, key, method, tolerance)\u001b[0m\n\u001b[0;32m   2895\u001b[0m                 \u001b[1;32mreturn\u001b[0m \u001b[0mself\u001b[0m\u001b[1;33m.\u001b[0m\u001b[0m_engine\u001b[0m\u001b[1;33m.\u001b[0m\u001b[0mget_loc\u001b[0m\u001b[1;33m(\u001b[0m\u001b[0mcasted_key\u001b[0m\u001b[1;33m)\u001b[0m\u001b[1;33m\u001b[0m\u001b[1;33m\u001b[0m\u001b[0m\n\u001b[0;32m   2896\u001b[0m             \u001b[1;32mexcept\u001b[0m \u001b[0mKeyError\u001b[0m \u001b[1;32mas\u001b[0m \u001b[0merr\u001b[0m\u001b[1;33m:\u001b[0m\u001b[1;33m\u001b[0m\u001b[1;33m\u001b[0m\u001b[0m\n\u001b[1;32m-> 2897\u001b[1;33m                 \u001b[1;32mraise\u001b[0m \u001b[0mKeyError\u001b[0m\u001b[1;33m(\u001b[0m\u001b[0mkey\u001b[0m\u001b[1;33m)\u001b[0m \u001b[1;32mfrom\u001b[0m \u001b[0merr\u001b[0m\u001b[1;33m\u001b[0m\u001b[1;33m\u001b[0m\u001b[0m\n\u001b[0m\u001b[0;32m   2898\u001b[0m \u001b[1;33m\u001b[0m\u001b[0m\n\u001b[0;32m   2899\u001b[0m         \u001b[1;32mif\u001b[0m \u001b[0mtolerance\u001b[0m \u001b[1;32mis\u001b[0m \u001b[1;32mnot\u001b[0m \u001b[1;32mNone\u001b[0m\u001b[1;33m:\u001b[0m\u001b[1;33m\u001b[0m\u001b[1;33m\u001b[0m\u001b[0m\n",
      "\u001b[1;31mKeyError\u001b[0m: 'readmitted'"
     ]
    }
   ],
   "source": [
    "def map_readmitted(col):\n",
    "    readmitted_map = {'NO' : 'NO', '>30': 'YES', '<30': 'YES'}\n",
    "    return col.map(readmitted_map)\n",
    "\n",
    "db['fix_readmitted'] = map_readmitted(db['readmitted'])"
   ]
  },
  {
   "cell_type": "code",
   "execution_count": null,
   "metadata": {
    "colab": {
     "base_uri": "https://localhost:8080/"
    },
    "executionInfo": {
     "elapsed": 64,
     "status": "ok",
     "timestamp": 1626169655999,
     "user": {
      "displayName": "Kevin Karobia",
      "photoUrl": "",
      "userId": "11620910033834049837"
     },
     "user_tz": -180
    },
    "id": "ff11ea66",
    "outputId": "9439e9d4-e4f5-4998-fec4-8324ab088c9a"
   },
   "outputs": [],
   "source": [
    "# unique encounter id\n",
    "db['change'].unique()"
   ]
  },
  {
   "cell_type": "code",
   "execution_count": null,
   "metadata": {
    "colab": {
     "base_uri": "https://localhost:8080/"
    },
    "executionInfo": {
     "elapsed": 62,
     "status": "ok",
     "timestamp": 1626169656000,
     "user": {
      "displayName": "Kevin Karobia",
      "photoUrl": "",
      "userId": "11620910033834049837"
     },
     "user_tz": -180
    },
    "id": "816de463",
    "outputId": "0a4600b4-d564-4430-e4e1-1d20891ab436"
   },
   "outputs": [],
   "source": [
    "db.shape"
   ]
  },
  {
   "cell_type": "code",
   "execution_count": null,
   "metadata": {
    "colab": {
     "base_uri": "https://localhost:8080/"
    },
    "executionInfo": {
     "elapsed": 59,
     "status": "ok",
     "timestamp": 1626169656001,
     "user": {
      "displayName": "Kevin Karobia",
      "photoUrl": "",
      "userId": "11620910033834049837"
     },
     "user_tz": -180
    },
    "id": "97010418",
    "outputId": "5f0ba62d-5d70-4d84-e4b2-bdd1f6bc3cf5"
   },
   "outputs": [],
   "source": [
    "db['weight'].value_counts()"
   ]
  },
  {
   "cell_type": "code",
   "execution_count": null,
   "metadata": {
    "executionInfo": {
     "elapsed": 59,
     "status": "ok",
     "timestamp": 1626169656004,
     "user": {
      "displayName": "Kevin Karobia",
      "photoUrl": "",
      "userId": "11620910033834049837"
     },
     "user_tz": -180
    },
    "id": "ce1a9a3e"
   },
   "outputs": [],
   "source": []
  },
  {
   "cell_type": "code",
   "execution_count": null,
   "metadata": {
    "executionInfo": {
     "elapsed": 58,
     "status": "ok",
     "timestamp": 1626169656005,
     "user": {
      "displayName": "Kevin Karobia",
      "photoUrl": "",
      "userId": "11620910033834049837"
     },
     "user_tz": -180
    },
    "id": "a8b7d970"
   },
   "outputs": [],
   "source": [
    "db['fix_age'] = fix_age(db['age'])"
   ]
  },
  {
   "cell_type": "code",
   "execution_count": null,
   "metadata": {
    "colab": {
     "base_uri": "https://localhost:8080/"
    },
    "executionInfo": {
     "elapsed": 61,
     "status": "ok",
     "timestamp": 1626169656008,
     "user": {
      "displayName": "Kevin Karobia",
      "photoUrl": "",
      "userId": "11620910033834049837"
     },
     "user_tz": -180
    },
    "id": "edc498c2",
    "outputId": "50878059-56d1-4f0f-cd64-38d8259cbb4f"
   },
   "outputs": [],
   "source": [
    "db['fix_age'].value_counts()"
   ]
  },
  {
   "cell_type": "markdown",
   "metadata": {
    "id": "AO5svY-OkM8x"
   },
   "source": [
    "## Exploration"
   ]
  },
  {
   "cell_type": "markdown",
   "metadata": {
    "id": "GsLiCqPI11Eg"
   },
   "source": [
    "Data Exploration or Exploratory data analysis (EDA) is an approach to analyzing data sets to summarize their main characteristics which include:\n",
    "\n",
    "\n",
    "*   detection of mistakes, outliers or abnormalities\n",
    "*   determining relationships among the explanatory variables\n",
    "*   assessing the relationships between explanatory and outcome variables\n",
    "\n",
    "\n",
    "\n"
   ]
  },
  {
   "cell_type": "code",
   "execution_count": 29,
   "metadata": {
    "colab": {
     "base_uri": "https://localhost:8080/",
     "height": 461
    },
    "executionInfo": {
     "elapsed": 636,
     "status": "ok",
     "timestamp": 1626169681818,
     "user": {
      "displayName": "Kevin Karobia",
      "photoUrl": "",
      "userId": "11620910033834049837"
     },
     "user_tz": -180
    },
    "id": "YZLcV1ospKJT",
    "outputId": "c950a840-1c7d-4f91-f954-2d3b77aaadd2"
   },
   "outputs": [
    {
     "data": {
      "text/html": [
       "<div>\n",
       "<style scoped>\n",
       "    .dataframe tbody tr th:only-of-type {\n",
       "        vertical-align: middle;\n",
       "    }\n",
       "\n",
       "    .dataframe tbody tr th {\n",
       "        vertical-align: top;\n",
       "    }\n",
       "\n",
       "    .dataframe thead th {\n",
       "        text-align: right;\n",
       "    }\n",
       "</style>\n",
       "<table border=\"1\" class=\"dataframe\">\n",
       "  <thead>\n",
       "    <tr style=\"text-align: right;\">\n",
       "      <th></th>\n",
       "      <th>Bearer Id</th>\n",
       "      <th>Start</th>\n",
       "      <th>Start ms</th>\n",
       "      <th>End</th>\n",
       "      <th>End ms</th>\n",
       "      <th>Dur. (ms)</th>\n",
       "      <th>IMSI</th>\n",
       "      <th>MSISDN/Number</th>\n",
       "      <th>IMEI</th>\n",
       "      <th>Last Location Name</th>\n",
       "      <th>...</th>\n",
       "      <th>Youtube DL (Bytes)</th>\n",
       "      <th>Youtube UL (Bytes)</th>\n",
       "      <th>Netflix DL (Bytes)</th>\n",
       "      <th>Netflix UL (Bytes)</th>\n",
       "      <th>Gaming DL (Bytes)</th>\n",
       "      <th>Gaming UL (Bytes)</th>\n",
       "      <th>Other DL (Bytes)</th>\n",
       "      <th>Other UL (Bytes)</th>\n",
       "      <th>Total UL (Bytes)</th>\n",
       "      <th>Total DL (Bytes)</th>\n",
       "    </tr>\n",
       "  </thead>\n",
       "  <tbody>\n",
       "    <tr>\n",
       "      <th>0</th>\n",
       "      <td>13,114,483,460,844,900,352.00</td>\n",
       "      <td>4/4/2019 12:01</td>\n",
       "      <td>770.00</td>\n",
       "      <td>4/25/2019 14:35</td>\n",
       "      <td>662.00</td>\n",
       "      <td>1,823,652.00</td>\n",
       "      <td>208,201,448,079,117.00</td>\n",
       "      <td>33,664,962,239.00</td>\n",
       "      <td>35,521,209,507,511.00</td>\n",
       "      <td>9.16456699548519E+015</td>\n",
       "      <td>...</td>\n",
       "      <td>15,854,611.00</td>\n",
       "      <td>2,501,332.00</td>\n",
       "      <td>8,198,936.00</td>\n",
       "      <td>9,656,251.00</td>\n",
       "      <td>278,082,303.00</td>\n",
       "      <td>14,344,150.00</td>\n",
       "      <td>171,744,450.00</td>\n",
       "      <td>8,814,393.00</td>\n",
       "      <td>36,749,741.00</td>\n",
       "      <td>308,879,636.00</td>\n",
       "    </tr>\n",
       "    <tr>\n",
       "      <th>1</th>\n",
       "      <td>13,114,483,482,878,900,224.00</td>\n",
       "      <td>4/9/2019 13:04</td>\n",
       "      <td>235.00</td>\n",
       "      <td>4/25/2019 8:15</td>\n",
       "      <td>606.00</td>\n",
       "      <td>1,365,104.00</td>\n",
       "      <td>208,201,909,211,140.00</td>\n",
       "      <td>33,681,854,413.00</td>\n",
       "      <td>35,794,009,006,359.00</td>\n",
       "      <td>L77566A</td>\n",
       "      <td>...</td>\n",
       "      <td>20,247,395.00</td>\n",
       "      <td>19,111,729.00</td>\n",
       "      <td>18,338,413.00</td>\n",
       "      <td>17,227,132.00</td>\n",
       "      <td>608,750,074.00</td>\n",
       "      <td>1,170,709.00</td>\n",
       "      <td>526,904,238.00</td>\n",
       "      <td>15,055,145.00</td>\n",
       "      <td>53,800,391.00</td>\n",
       "      <td>653,384,965.00</td>\n",
       "    </tr>\n",
       "    <tr>\n",
       "      <th>2</th>\n",
       "      <td>13,114,483,484,080,500,736.00</td>\n",
       "      <td>4/9/2019 17:42</td>\n",
       "      <td>1.00</td>\n",
       "      <td>4/25/2019 11:58</td>\n",
       "      <td>652.00</td>\n",
       "      <td>1,361,762.00</td>\n",
       "      <td>208,200,314,458,056.00</td>\n",
       "      <td>33,760,627,129.00</td>\n",
       "      <td>35,281,510,359,387.00</td>\n",
       "      <td>D42335A</td>\n",
       "      <td>...</td>\n",
       "      <td>19,725,661.00</td>\n",
       "      <td>14,699,576.00</td>\n",
       "      <td>17,587,794.00</td>\n",
       "      <td>6,163,408.00</td>\n",
       "      <td>229,584,621.00</td>\n",
       "      <td>395,630.00</td>\n",
       "      <td>410,692,588.00</td>\n",
       "      <td>4,215,763.00</td>\n",
       "      <td>27,883,638.00</td>\n",
       "      <td>279,807,335.00</td>\n",
       "    </tr>\n",
       "    <tr>\n",
       "      <th>3</th>\n",
       "      <td>13,114,483,485,442,799,616.00</td>\n",
       "      <td>4/10/2019 0:31</td>\n",
       "      <td>486.00</td>\n",
       "      <td>4/25/2019 7:36</td>\n",
       "      <td>171.00</td>\n",
       "      <td>1,321,509.00</td>\n",
       "      <td>208,201,402,342,131.00</td>\n",
       "      <td>33,750,343,200.00</td>\n",
       "      <td>35,356,610,164,913.00</td>\n",
       "      <td>T21824A</td>\n",
       "      <td>...</td>\n",
       "      <td>21,388,122.00</td>\n",
       "      <td>15,146,643.00</td>\n",
       "      <td>13,994,646.00</td>\n",
       "      <td>1,097,942.00</td>\n",
       "      <td>799,538,153.00</td>\n",
       "      <td>10,849,722.00</td>\n",
       "      <td>749,039,933.00</td>\n",
       "      <td>12,797,283.00</td>\n",
       "      <td>43,324,218.00</td>\n",
       "      <td>846,028,530.00</td>\n",
       "    </tr>\n",
       "    <tr>\n",
       "      <th>4</th>\n",
       "      <td>13,114,483,499,480,700,928.00</td>\n",
       "      <td>4/12/2019 20:10</td>\n",
       "      <td>565.00</td>\n",
       "      <td>4/25/2019 10:40</td>\n",
       "      <td>954.00</td>\n",
       "      <td>1,089,009.00</td>\n",
       "      <td>208,201,401,415,120.00</td>\n",
       "      <td>33,699,795,932.00</td>\n",
       "      <td>35,407,009,745,539.00</td>\n",
       "      <td>D88865A</td>\n",
       "      <td>...</td>\n",
       "      <td>15,259,380.00</td>\n",
       "      <td>18,962,873.00</td>\n",
       "      <td>17,124,581.00</td>\n",
       "      <td>415,218.00</td>\n",
       "      <td>527,707,248.00</td>\n",
       "      <td>3,529,801.00</td>\n",
       "      <td>550,709,500.00</td>\n",
       "      <td>13,910,322.00</td>\n",
       "      <td>38,542,814.00</td>\n",
       "      <td>569,138,589.00</td>\n",
       "    </tr>\n",
       "    <tr>\n",
       "      <th>...</th>\n",
       "      <td>...</td>\n",
       "      <td>...</td>\n",
       "      <td>...</td>\n",
       "      <td>...</td>\n",
       "      <td>...</td>\n",
       "      <td>...</td>\n",
       "      <td>...</td>\n",
       "      <td>...</td>\n",
       "      <td>...</td>\n",
       "      <td>...</td>\n",
       "      <td>...</td>\n",
       "      <td>...</td>\n",
       "      <td>...</td>\n",
       "      <td>...</td>\n",
       "      <td>...</td>\n",
       "      <td>...</td>\n",
       "      <td>...</td>\n",
       "      <td>...</td>\n",
       "      <td>...</td>\n",
       "      <td>...</td>\n",
       "      <td>...</td>\n",
       "    </tr>\n",
       "    <tr>\n",
       "      <th>149996</th>\n",
       "      <td>7,277,825,670,196,679,680.00</td>\n",
       "      <td>4/29/2019 7:28</td>\n",
       "      <td>451.00</td>\n",
       "      <td>4/30/2019 6:02</td>\n",
       "      <td>214.00</td>\n",
       "      <td>81,230.00</td>\n",
       "      <td>208,202,201,200,072.00</td>\n",
       "      <td>33,650,688,697.00</td>\n",
       "      <td>35,483,109,451,938.00</td>\n",
       "      <td>D20434A</td>\n",
       "      <td>...</td>\n",
       "      <td>16,191,667.00</td>\n",
       "      <td>11,763,428.00</td>\n",
       "      <td>17,883,703.00</td>\n",
       "      <td>19,678,161.00</td>\n",
       "      <td>526,609,673.00</td>\n",
       "      <td>9,197,207.00</td>\n",
       "      <td>3,264,510.00</td>\n",
       "      <td>13,487,416.00</td>\n",
       "      <td>57,628,851.00</td>\n",
       "      <td>574,175,259.00</td>\n",
       "    </tr>\n",
       "    <tr>\n",
       "      <th>149997</th>\n",
       "      <td>7,349,883,264,234,609,664.00</td>\n",
       "      <td>4/29/2019 7:28</td>\n",
       "      <td>483.00</td>\n",
       "      <td>4/30/2019 10:41</td>\n",
       "      <td>187.00</td>\n",
       "      <td>97,970.00</td>\n",
       "      <td>208,201,908,153,249.00</td>\n",
       "      <td>33,663,449,963.00</td>\n",
       "      <td>35,660,508,296,467.00</td>\n",
       "      <td>D10223C</td>\n",
       "      <td>...</td>\n",
       "      <td>13,877,234.00</td>\n",
       "      <td>8,288,284.00</td>\n",
       "      <td>19,350,146.00</td>\n",
       "      <td>21,293,148.00</td>\n",
       "      <td>626,893,062.00</td>\n",
       "      <td>4,735,033.00</td>\n",
       "      <td>712,180,387.00</td>\n",
       "      <td>2,457,758.00</td>\n",
       "      <td>39,135,081.00</td>\n",
       "      <td>666,648,844.00</td>\n",
       "    </tr>\n",
       "    <tr>\n",
       "      <th>149998</th>\n",
       "      <td>13,114,483,573,367,300,096.00</td>\n",
       "      <td>4/29/2019 7:28</td>\n",
       "      <td>283.00</td>\n",
       "      <td>4/30/2019 10:46</td>\n",
       "      <td>810.00</td>\n",
       "      <td>98,249.00</td>\n",
       "      <td>208,201,711,161,187.00</td>\n",
       "      <td>33,621,890,103.00</td>\n",
       "      <td>35,721,209,870,907.00</td>\n",
       "      <td>T51102A</td>\n",
       "      <td>...</td>\n",
       "      <td>22,660,510.00</td>\n",
       "      <td>1,855,903.00</td>\n",
       "      <td>9,963,942.00</td>\n",
       "      <td>5,065,760.00</td>\n",
       "      <td>553,539,484.00</td>\n",
       "      <td>13,394,316.00</td>\n",
       "      <td>121,100,856.00</td>\n",
       "      <td>11,314,729.00</td>\n",
       "      <td>34,912,224.00</td>\n",
       "      <td>592,786,405.00</td>\n",
       "    </tr>\n",
       "    <tr>\n",
       "      <th>149999</th>\n",
       "      <td>13,114,483,573,367,300,096.00</td>\n",
       "      <td>4/29/2019 7:28</td>\n",
       "      <td>696.00</td>\n",
       "      <td>4/30/2019 10:40</td>\n",
       "      <td>327.00</td>\n",
       "      <td>97,910.00</td>\n",
       "      <td>208,202,101,098,075.00</td>\n",
       "      <td>33,619,622,058.00</td>\n",
       "      <td>86,186,204,011,457.00</td>\n",
       "      <td>L88342B</td>\n",
       "      <td>...</td>\n",
       "      <td>8,817,106.00</td>\n",
       "      <td>8,305,402.00</td>\n",
       "      <td>3,322,253.00</td>\n",
       "      <td>13,172,589.00</td>\n",
       "      <td>352,536,971.00</td>\n",
       "      <td>2,529,475.00</td>\n",
       "      <td>814,713,113.00</td>\n",
       "      <td>1,406,930.00</td>\n",
       "      <td>29,626,096.00</td>\n",
       "      <td>371,895,920.00</td>\n",
       "    </tr>\n",
       "    <tr>\n",
       "      <th>150000</th>\n",
       "      <td>13,114,483,573,367,300,096.00</td>\n",
       "      <td>4/29/2019 7:28</td>\n",
       "      <td>696.00</td>\n",
       "      <td>4/30/2019 10:40</td>\n",
       "      <td>327.00</td>\n",
       "      <td>97,910.00</td>\n",
       "      <td>208,202,101,098,075.00</td>\n",
       "      <td>33,626,320,676.00</td>\n",
       "      <td>35,182,310,355,840.00</td>\n",
       "      <td>L88342B</td>\n",
       "      <td>...</td>\n",
       "      <td>11,634,072.50</td>\n",
       "      <td>11,009,410.13</td>\n",
       "      <td>11,626,851.72</td>\n",
       "      <td>11,001,754.82</td>\n",
       "      <td>422,044,702.60</td>\n",
       "      <td>8,288,398.11</td>\n",
       "      <td>421,100,544.19</td>\n",
       "      <td>8,264,799.42</td>\n",
       "      <td>29,626,096.00</td>\n",
       "      <td>371,895,920.00</td>\n",
       "    </tr>\n",
       "  </tbody>\n",
       "</table>\n",
       "<p>150001 rows × 45 columns</p>\n",
       "</div>"
      ],
      "text/plain": [
       "                           Bearer Id            Start  Start ms  \\\n",
       "0      13,114,483,460,844,900,352.00   4/4/2019 12:01    770.00   \n",
       "1      13,114,483,482,878,900,224.00   4/9/2019 13:04    235.00   \n",
       "2      13,114,483,484,080,500,736.00   4/9/2019 17:42      1.00   \n",
       "3      13,114,483,485,442,799,616.00   4/10/2019 0:31    486.00   \n",
       "4      13,114,483,499,480,700,928.00  4/12/2019 20:10    565.00   \n",
       "...                              ...              ...       ...   \n",
       "149996  7,277,825,670,196,679,680.00   4/29/2019 7:28    451.00   \n",
       "149997  7,349,883,264,234,609,664.00   4/29/2019 7:28    483.00   \n",
       "149998 13,114,483,573,367,300,096.00   4/29/2019 7:28    283.00   \n",
       "149999 13,114,483,573,367,300,096.00   4/29/2019 7:28    696.00   \n",
       "150000 13,114,483,573,367,300,096.00   4/29/2019 7:28    696.00   \n",
       "\n",
       "                    End  End ms    Dur. (ms)                   IMSI  \\\n",
       "0       4/25/2019 14:35  662.00 1,823,652.00 208,201,448,079,117.00   \n",
       "1        4/25/2019 8:15  606.00 1,365,104.00 208,201,909,211,140.00   \n",
       "2       4/25/2019 11:58  652.00 1,361,762.00 208,200,314,458,056.00   \n",
       "3        4/25/2019 7:36  171.00 1,321,509.00 208,201,402,342,131.00   \n",
       "4       4/25/2019 10:40  954.00 1,089,009.00 208,201,401,415,120.00   \n",
       "...                 ...     ...          ...                    ...   \n",
       "149996   4/30/2019 6:02  214.00    81,230.00 208,202,201,200,072.00   \n",
       "149997  4/30/2019 10:41  187.00    97,970.00 208,201,908,153,249.00   \n",
       "149998  4/30/2019 10:46  810.00    98,249.00 208,201,711,161,187.00   \n",
       "149999  4/30/2019 10:40  327.00    97,910.00 208,202,101,098,075.00   \n",
       "150000  4/30/2019 10:40  327.00    97,910.00 208,202,101,098,075.00   \n",
       "\n",
       "           MSISDN/Number                  IMEI     Last Location Name  ...  \\\n",
       "0      33,664,962,239.00 35,521,209,507,511.00  9.16456699548519E+015  ...   \n",
       "1      33,681,854,413.00 35,794,009,006,359.00                L77566A  ...   \n",
       "2      33,760,627,129.00 35,281,510,359,387.00                D42335A  ...   \n",
       "3      33,750,343,200.00 35,356,610,164,913.00                T21824A  ...   \n",
       "4      33,699,795,932.00 35,407,009,745,539.00                D88865A  ...   \n",
       "...                  ...                   ...                    ...  ...   \n",
       "149996 33,650,688,697.00 35,483,109,451,938.00                D20434A  ...   \n",
       "149997 33,663,449,963.00 35,660,508,296,467.00                D10223C  ...   \n",
       "149998 33,621,890,103.00 35,721,209,870,907.00                T51102A  ...   \n",
       "149999 33,619,622,058.00 86,186,204,011,457.00                L88342B  ...   \n",
       "150000 33,626,320,676.00 35,182,310,355,840.00                L88342B  ...   \n",
       "\n",
       "        Youtube DL (Bytes)  Youtube UL (Bytes)  Netflix DL (Bytes)  \\\n",
       "0            15,854,611.00        2,501,332.00        8,198,936.00   \n",
       "1            20,247,395.00       19,111,729.00       18,338,413.00   \n",
       "2            19,725,661.00       14,699,576.00       17,587,794.00   \n",
       "3            21,388,122.00       15,146,643.00       13,994,646.00   \n",
       "4            15,259,380.00       18,962,873.00       17,124,581.00   \n",
       "...                    ...                 ...                 ...   \n",
       "149996       16,191,667.00       11,763,428.00       17,883,703.00   \n",
       "149997       13,877,234.00        8,288,284.00       19,350,146.00   \n",
       "149998       22,660,510.00        1,855,903.00        9,963,942.00   \n",
       "149999        8,817,106.00        8,305,402.00        3,322,253.00   \n",
       "150000       11,634,072.50       11,009,410.13       11,626,851.72   \n",
       "\n",
       "        Netflix UL (Bytes)  Gaming DL (Bytes)  Gaming UL (Bytes)  \\\n",
       "0             9,656,251.00     278,082,303.00      14,344,150.00   \n",
       "1            17,227,132.00     608,750,074.00       1,170,709.00   \n",
       "2             6,163,408.00     229,584,621.00         395,630.00   \n",
       "3             1,097,942.00     799,538,153.00      10,849,722.00   \n",
       "4               415,218.00     527,707,248.00       3,529,801.00   \n",
       "...                    ...                ...                ...   \n",
       "149996       19,678,161.00     526,609,673.00       9,197,207.00   \n",
       "149997       21,293,148.00     626,893,062.00       4,735,033.00   \n",
       "149998        5,065,760.00     553,539,484.00      13,394,316.00   \n",
       "149999       13,172,589.00     352,536,971.00       2,529,475.00   \n",
       "150000       11,001,754.82     422,044,702.60       8,288,398.11   \n",
       "\n",
       "        Other DL (Bytes)  Other UL (Bytes)  Total UL (Bytes)  Total DL (Bytes)  \n",
       "0         171,744,450.00      8,814,393.00     36,749,741.00    308,879,636.00  \n",
       "1         526,904,238.00     15,055,145.00     53,800,391.00    653,384,965.00  \n",
       "2         410,692,588.00      4,215,763.00     27,883,638.00    279,807,335.00  \n",
       "3         749,039,933.00     12,797,283.00     43,324,218.00    846,028,530.00  \n",
       "4         550,709,500.00     13,910,322.00     38,542,814.00    569,138,589.00  \n",
       "...                  ...               ...               ...               ...  \n",
       "149996      3,264,510.00     13,487,416.00     57,628,851.00    574,175,259.00  \n",
       "149997    712,180,387.00      2,457,758.00     39,135,081.00    666,648,844.00  \n",
       "149998    121,100,856.00     11,314,729.00     34,912,224.00    592,786,405.00  \n",
       "149999    814,713,113.00      1,406,930.00     29,626,096.00    371,895,920.00  \n",
       "150000    421,100,544.19      8,264,799.42     29,626,096.00    371,895,920.00  \n",
       "\n",
       "[150001 rows x 45 columns]"
      ]
     },
     "execution_count": 29,
     "metadata": {},
     "output_type": "execute_result"
    }
   ],
   "source": [
    "dfExp = df_clean.copy()\n",
    "dfExp"
   ]
  },
  {
   "cell_type": "code",
   "execution_count": 30,
   "metadata": {
    "colab": {
     "base_uri": "https://localhost:8080/"
    },
    "executionInfo": {
     "elapsed": 10,
     "status": "ok",
     "timestamp": 1626169682443,
     "user": {
      "displayName": "Kevin Karobia",
      "photoUrl": "",
      "userId": "11620910033834049837"
     },
     "user_tz": -180
    },
    "id": "3kpTKBZukKug",
    "outputId": "f1d6863c-a05c-4239-8b7e-ec2f2261ea76"
   },
   "outputs": [
    {
     "data": {
      "text/plain": [
       "Bearer Id                         float64\n",
       "Start                              object\n",
       "Start ms                          float64\n",
       "End                                object\n",
       "End ms                            float64\n",
       "Dur. (ms)                         float64\n",
       "IMSI                              float64\n",
       "MSISDN/Number                     float64\n",
       "IMEI                              float64\n",
       "Last Location Name                 object\n",
       "Avg RTT DL (ms)                   float64\n",
       "Avg RTT UL (ms)                   float64\n",
       "Avg Bearer TP DL (kbps)           float64\n",
       "Avg Bearer TP UL (kbps)           float64\n",
       "DL TP < 50 Kbps (%)               float64\n",
       "50 Kbps < DL TP < 250 Kbps (%)    float64\n",
       "250 Kbps < DL TP < 1 Mbps (%)     float64\n",
       "DL TP > 1 Mbps (%)                float64\n",
       "UL TP < 10 Kbps (%)               float64\n",
       "10 Kbps < UL TP < 50 Kbps (%)     float64\n",
       "50 Kbps < UL TP < 300 Kbps (%)    float64\n",
       "UL TP > 300 Kbps (%)              float64\n",
       "Activity Duration DL (ms)         float64\n",
       "Activity Duration UL (ms)         float64\n",
       "Dur. (ms).1                       float64\n",
       "Handset Manufacturer               object\n",
       "Handset Type                       object\n",
       "Nb of sec with Vol DL < 6250B     float64\n",
       "Nb of sec with Vol UL < 1250B     float64\n",
       "Social Media DL (Bytes)           float64\n",
       "Social Media UL (Bytes)           float64\n",
       "Google DL (Bytes)                 float64\n",
       "Google UL (Bytes)                 float64\n",
       "Email DL (Bytes)                  float64\n",
       "Email UL (Bytes)                  float64\n",
       "Youtube DL (Bytes)                float64\n",
       "Youtube UL (Bytes)                float64\n",
       "Netflix DL (Bytes)                float64\n",
       "Netflix UL (Bytes)                float64\n",
       "Gaming DL (Bytes)                 float64\n",
       "Gaming UL (Bytes)                 float64\n",
       "Other DL (Bytes)                  float64\n",
       "Other UL (Bytes)                  float64\n",
       "Total UL (Bytes)                  float64\n",
       "Total DL (Bytes)                  float64\n",
       "dtype: object"
      ]
     },
     "execution_count": 30,
     "metadata": {},
     "output_type": "execute_result"
    }
   ],
   "source": [
    "dfExp.dtypes"
   ]
  },
  {
   "cell_type": "markdown",
   "metadata": {
    "id": "fXiC8WLKppcL"
   },
   "source": [
    "### Univariate Analysis"
   ]
  },
  {
   "cell_type": "markdown",
   "metadata": {
    "id": "TcrHiYYs1I66"
   },
   "source": [
    "This is mainly analysis done on particular variable only i.e we search for the data charecteristics of a variable with disregard to all the other columns"
   ]
  },
  {
   "cell_type": "markdown",
   "metadata": {
    "id": "ei6KuNsrv0Ph"
   },
   "source": [
    "#### distributions"
   ]
  },
  {
   "cell_type": "code",
   "execution_count": 33,
   "metadata": {
    "colab": {
     "base_uri": "https://localhost:8080/",
     "height": 534
    },
    "executionInfo": {
     "elapsed": 1910,
     "status": "ok",
     "timestamp": 1626169691842,
     "user": {
      "displayName": "Kevin Karobia",
      "photoUrl": "",
      "userId": "11620910033834049837"
     },
     "user_tz": -180
    },
    "id": "bl3Bf5h5w7sk",
    "outputId": "02364d27-f0dc-45d6-ebe9-33911e88fff5"
   },
   "outputs": [
    {
     "data": {
      "image/png": "[encoded data removed]",
      "text/plain": [
       "<Figure size 1008x504 with 1 Axes>"
      ]
     },
     "metadata": {
      "needs_background": "light"
     },
     "output_type": "display_data"
    }
   ],
   "source": [
    "plot_hist(dfExp, \"Start\", \"blue\")"
   ]
  },
  {
   "cell_type": "code",
   "execution_count": null,
   "metadata": {
    "colab": {
     "base_uri": "https://localhost:8080/",
     "height": 534
    },
    "executionInfo": {
     "elapsed": 1461,
     "status": "ok",
     "timestamp": 1626169693284,
     "user": {
      "displayName": "Kevin Karobia",
      "photoUrl": "",
      "userId": "11620910033834049837"
     },
     "user_tz": -180
    },
    "id": "eOf1cAjzvsxO",
    "outputId": "c817124f-7b84-4bfa-d4ae-0d69bae38174"
   },
   "outputs": [],
   "source": [
    "plot_hist(dfExp, \"num_medications\", \"green\")"
   ]
  },
  {
   "cell_type": "code",
   "execution_count": null,
   "metadata": {
    "colab": {
     "base_uri": "https://localhost:8080/"
    },
    "executionInfo": {
     "elapsed": 25,
     "status": "ok",
     "timestamp": 1626169693287,
     "user": {
      "displayName": "Kevin Karobia",
      "photoUrl": "",
      "userId": "11620910033834049837"
     },
     "user_tz": -180
    },
    "id": "13goC8OXvusT",
    "outputId": "4677798f-b820-488e-f01a-732a043010ca"
   },
   "outputs": [],
   "source": [
    "dfExp[\"num_medications\"].describe()"
   ]
  },
  {
   "cell_type": "markdown",
   "metadata": {
    "id": "suhErKf2vvXd"
   },
   "source": [
    "#### Outliers"
   ]
  },
  {
   "cell_type": "code",
   "execution_count": null,
   "metadata": {
    "colab": {
     "base_uri": "https://localhost:8080/",
     "height": 475
    },
    "executionInfo": {
     "elapsed": 20,
     "status": "ok",
     "timestamp": 1626169696116,
     "user": {
      "displayName": "Kevin Karobia",
      "photoUrl": "",
      "userId": "11620910033834049837"
     },
     "user_tz": -180
    },
    "id": "l-6ssNTLpoTz",
    "outputId": "b5f7db2f-2e13-491e-d6cc-04358efff316"
   },
   "outputs": [],
   "source": [
    "plot_box(dfExp, \"time_in_hospital\", \"time in hospital outliers\")"
   ]
  },
  {
   "cell_type": "code",
   "execution_count": null,
   "metadata": {
    "colab": {
     "base_uri": "https://localhost:8080/",
     "height": 484
    },
    "executionInfo": {
     "elapsed": 24,
     "status": "ok",
     "timestamp": 1626169698802,
     "user": {
      "displayName": "Kevin Karobia",
      "photoUrl": "",
      "userId": "11620910033834049837"
     },
     "user_tz": -180
    },
    "id": "Zy5DgTY_of6Q",
    "outputId": "2cb8fe22-69c9-4c1c-ffeb-e844f006acbb"
   },
   "outputs": [],
   "source": [
    "plot_box(dfExp, \"num_lab_procedures\", \"number of lab procedures outliers\")"
   ]
  },
  {
   "cell_type": "code",
   "execution_count": null,
   "metadata": {
    "colab": {
     "base_uri": "https://localhost:8080/",
     "height": 475
    },
    "executionInfo": {
     "elapsed": 21,
     "status": "ok",
     "timestamp": 1626169699724,
     "user": {
      "displayName": "Kevin Karobia",
      "photoUrl": "",
      "userId": "11620910033834049837"
     },
     "user_tz": -180
    },
    "id": "oVig9ZSQuWy_",
    "outputId": "71147d4b-3e09-40ae-b1e3-1453f6672d7f"
   },
   "outputs": [],
   "source": [
    "plot_box(dfExp, \"num_medications\", \"number of medications outliers\")"
   ]
  },
  {
   "cell_type": "code",
   "execution_count": null,
   "metadata": {
    "executionInfo": {
     "elapsed": 10,
     "status": "ok",
     "timestamp": 1626169700356,
     "user": {
      "displayName": "Kevin Karobia",
      "photoUrl": "",
      "userId": "11620910033834049837"
     },
     "user_tz": -180
    },
    "id": "obFqkmrOpF5K"
   },
   "outputs": [],
   "source": [
    "dfExp[\"fixed_num_medications\"] = fix_outlier(dfExp, \"num_medications\")"
   ]
  },
  {
   "cell_type": "code",
   "execution_count": null,
   "metadata": {
    "colab": {
     "base_uri": "https://localhost:8080/",
     "height": 475
    },
    "executionInfo": {
     "elapsed": 25,
     "status": "ok",
     "timestamp": 1626169701456,
     "user": {
      "displayName": "Kevin Karobia",
      "photoUrl": "",
      "userId": "11620910033834049837"
     },
     "user_tz": -180
    },
    "id": "S962VGTepRfA",
    "outputId": "44ce8371-ff08-4992-f7d1-3aee769ac753"
   },
   "outputs": [],
   "source": [
    "plot_box(dfExp, \"fixed_num_medications\", \"number of medications outliers\")"
   ]
  },
  {
   "cell_type": "code",
   "execution_count": null,
   "metadata": {
    "colab": {
     "base_uri": "https://localhost:8080/",
     "height": 534
    },
    "executionInfo": {
     "elapsed": 997,
     "status": "ok",
     "timestamp": 1626169702434,
     "user": {
      "displayName": "Kevin Karobia",
      "photoUrl": "",
      "userId": "11620910033834049837"
     },
     "user_tz": -180
    },
    "id": "Tl2pXpzOpvZ2",
    "outputId": "9ed9425f-7bb0-4377-81b1-6cdcefd74307"
   },
   "outputs": [],
   "source": [
    "plot_hist(dfExp, \"fixed_num_medications\", \"red\")"
   ]
  },
  {
   "cell_type": "code",
   "execution_count": null,
   "metadata": {
    "colab": {
     "base_uri": "https://localhost:8080/"
    },
    "executionInfo": {
     "elapsed": 399,
     "status": "ok",
     "timestamp": 1626169741777,
     "user": {
      "displayName": "Kevin Karobia",
      "photoUrl": "",
      "userId": "11620910033834049837"
     },
     "user_tz": -180
    },
    "id": "Q3KJLJhVP8OA",
    "outputId": "b275ee27-f4f8-417a-95e7-9914fd8fa343"
   },
   "outputs": [],
   "source": [
    "dfExp[\"fixed_num_medications\"].describe()"
   ]
  },
  {
   "cell_type": "markdown",
   "metadata": {
    "id": "lb7rNIpxzCXd"
   },
   "source": [
    "#### categorical variables"
   ]
  },
  {
   "cell_type": "code",
   "execution_count": null,
   "metadata": {
    "colab": {
     "base_uri": "https://localhost:8080/",
     "height": 463
    },
    "id": "0B7412TKuwzK",
    "outputId": "4f243a85-c3d4-443d-8142-1fa32a6f700c"
   },
   "outputs": [],
   "source": [
    "plot_count(dfExp, \"race\")"
   ]
  },
  {
   "cell_type": "code",
   "execution_count": null,
   "metadata": {
    "colab": {
     "base_uri": "https://localhost:8080/",
     "height": 463
    },
    "id": "ZtBvwCoC0lpJ",
    "outputId": "08aae121-9812-4f37-ded4-9106b9efec3e"
   },
   "outputs": [],
   "source": [
    "plot_count(dfExp, \"gender\")"
   ]
  },
  {
   "cell_type": "code",
   "execution_count": null,
   "metadata": {
    "id": "0f5WduXB0vHW"
   },
   "outputs": [],
   "source": []
  },
  {
   "cell_type": "markdown",
   "metadata": {
    "id": "msqJavkF3ksN"
   },
   "source": [
    "### Multivariate Analysis"
   ]
  },
  {
   "cell_type": "markdown",
   "metadata": {
    "id": "nv6Uu2_t6sAO"
   },
   "source": [
    "This analysis that mainly done on two or more columns where we look for relationships between columns and how our data is distributed amoung values in multiple columns"
   ]
  },
  {
   "cell_type": "markdown",
   "metadata": {
    "id": "ZSc1mZCz7QcG"
   },
   "source": [
    "#### scatter plots"
   ]
  },
  {
   "cell_type": "code",
   "execution_count": null,
   "metadata": {
    "colab": {
     "base_uri": "https://localhost:8080/",
     "height": 468
    },
    "id": "L6gHqeO54Gmf",
    "outputId": "6777bd67-7782-46fe-841c-383c5dc35fb4"
   },
   "outputs": [],
   "source": [
    "plot_scatter(dfExp.head(100), x_col=\"num_lab_procedures\", y_col=\"num_medications\", hue=\"race\",\n",
    "             style=\"race\", title=\"number of medications vs number of lab procedures\")"
   ]
  },
  {
   "cell_type": "code",
   "execution_count": null,
   "metadata": {
    "colab": {
     "base_uri": "https://localhost:8080/",
     "height": 468
    },
    "id": "0TJpVd_X8GG6",
    "outputId": "9034f470-dd6d-4815-e144-4df4c6a1deb0"
   },
   "outputs": [],
   "source": [
    "plot_scatter(dfExp.head(1000), x_col=\"time_in_hospital\", y_col=\"num_lab_procedures\", hue=\"race\",\n",
    "             style=\"race\", title=\"number of lab procedures vs time in hospital\")"
   ]
  },
  {
   "cell_type": "markdown",
   "metadata": {
    "id": "GSpf_ku4_vPd"
   },
   "source": [
    "#### Box Plots"
   ]
  },
  {
   "cell_type": "code",
   "execution_count": null,
   "metadata": {
    "colab": {
     "base_uri": "https://localhost:8080/",
     "height": 569
    },
    "id": "j4IiL0OH_iOI",
    "outputId": "f0283434-01b9-4732-ffd8-ef4900c5b1d0"
   },
   "outputs": [],
   "source": [
    "plot_box_multi(dfExp, x_col=\"race\", y_col=\"num_medications\", title=\"number of medications outilers in race column\")"
   ]
  },
  {
   "cell_type": "code",
   "execution_count": null,
   "metadata": {
    "colab": {
     "base_uri": "https://localhost:8080/",
     "height": 569
    },
    "id": "7Gln1iCC_t0B",
    "outputId": "b9672c9e-d6b8-47f5-c590-97420f50ed5c"
   },
   "outputs": [],
   "source": [
    "plot_box_multi(dfExp, x_col=\"gender\", y_col=\"num_medications\", title=\"number of medications outilers in race column\")"
   ]
  },
  {
   "cell_type": "markdown",
   "metadata": {
    "id": "93bjOTCWObU2"
   },
   "source": [
    "#### pair plots\n",
    "\n",
    "pair plots also known as scatterplot matrix, they allow us to see both distributions of single columns and the relationship between two columns"
   ]
  },
  {
   "cell_type": "code",
   "execution_count": null,
   "metadata": {
    "id": "3gt8I3wCsyXY"
   },
   "outputs": [],
   "source": [
    "dfPair = dfExp[[\"race\", \"time_in_hospital\", \"num_procedures\", \"num_lab_procedures\", \"num_medications\"]]"
   ]
  },
  {
   "cell_type": "code",
   "execution_count": null,
   "metadata": {
    "colab": {
     "base_uri": "https://localhost:8080/",
     "height": 1000
    },
    "id": "LTdTm1aZCEet",
    "outputId": "347ec8b2-052c-4134-cf7d-c0be8d568d7e"
   },
   "outputs": [],
   "source": [
    "sns.pairplot(dfPair, hue = 'race', diag_kind = 'kde',\n",
    "             plot_kws = {'alpha': 0.6, 's': 80, 'edgecolor': 'k'},\n",
    "             height=4)"
   ]
  },
  {
   "cell_type": "code",
   "execution_count": null,
   "metadata": {
    "id": "bWgBaB6UN7vm"
   },
   "outputs": [],
   "source": []
  }
 ],
 "metadata": {
  "colab": {
   "collapsed_sections": [],
   "name": "Data_Cleaning,_Transforming_and_Extraction.ipynb",
   "provenance": []
  },
  "kernelspec": {
   "display_name": "Python 3",
   "language": "python",
   "name": "python3"
  },
  "language_info": {
   "codemirror_mode": {
    "name": "ipython",
    "version": 3
   },
   "file_extension": ".py",
   "mimetype": "text/x-python",
   "name": "python",
   "nbconvert_exporter": "python",
   "pygments_lexer": "ipython3",
   "version": "3.8.5"
  }
 },
 "nbformat": 4,
 "nbformat_minor": 5
}
